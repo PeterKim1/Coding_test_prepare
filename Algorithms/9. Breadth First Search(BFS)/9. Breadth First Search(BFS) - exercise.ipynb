{
 "cells": [
  {
   "cell_type": "code",
   "execution_count": 1,
   "metadata": {},
   "outputs": [],
   "source": [
    "my_graph = dict()\n",
    "\n",
    "my_graph['A'] = ['B', 'C']\n",
    "my_graph['B'] = ['A', 'D']\n",
    "my_graph['C'] = ['A', 'G', 'H', 'I']\n",
    "my_graph['D'] = ['B', 'E', 'F']\n",
    "my_graph['E'] = ['D']\n",
    "my_graph['F'] = ['D']\n",
    "my_graph['G'] = ['C']\n",
    "my_graph['H'] = ['C']\n",
    "my_graph['I'] = ['C', 'J']\n",
    "my_graph['J'] = ['I']"
   ]
  },
  {
   "cell_type": "code",
   "execution_count": 9,
   "metadata": {},
   "outputs": [],
   "source": [
    "def BFS(graph, root_node, search):\n",
    "    visited = []\n",
    "    candidate_node = []\n",
    "    cnt = 0\n",
    "    candidate_node.append(root_node)\n",
    "    \n",
    "    while candidate_node: # 후보 노드가 없을 때 까지\n",
    "        can = candidate_node.pop(0) # 후보 노드 중 첫 번째 선택\n",
    "        cnt += 1\n",
    "        if can == search: # 해당 노드가 찾으려는 노드와 같다면\n",
    "            return True, cnt\n",
    "        \n",
    "        if can not in visited: # 방문한 적이 없다면\n",
    "            visited.append(can)\n",
    "            candidate_node.extend(graph[can]) # 해당 노드와 adjacent한 노드들을 다시 추가\n",
    "    \n",
    "    # 다 돌았는데도 못 찾았으면 없는 것\n",
    "    return False, cnt"
   ]
  },
  {
   "cell_type": "code",
   "execution_count": 10,
   "metadata": {},
   "outputs": [
    {
     "data": {
      "text/plain": [
       "(False, 19)"
      ]
     },
     "execution_count": 10,
     "metadata": {},
     "output_type": "execute_result"
    }
   ],
   "source": [
    "BFS(my_graph, 'A', 'Z') # O(V + E)의 케이스, 노드 10개, 간선 9개"
   ]
  },
  {
   "cell_type": "code",
   "execution_count": 11,
   "metadata": {},
   "outputs": [
    {
     "data": {
      "text/plain": [
       "(True, 2)"
      ]
     },
     "execution_count": 11,
     "metadata": {},
     "output_type": "execute_result"
    }
   ],
   "source": [
    "BFS(my_graph, 'A', 'B')"
   ]
  },
  {
   "cell_type": "code",
   "execution_count": 12,
   "metadata": {},
   "outputs": [
    {
     "data": {
      "text/plain": [
       "(True, 3)"
      ]
     },
     "execution_count": 12,
     "metadata": {},
     "output_type": "execute_result"
    }
   ],
   "source": [
    "BFS(my_graph, 'A', 'C')"
   ]
  },
  {
   "cell_type": "code",
   "execution_count": 13,
   "metadata": {},
   "outputs": [
    {
     "data": {
      "text/plain": [
       "(True, 5)"
      ]
     },
     "execution_count": 13,
     "metadata": {},
     "output_type": "execute_result"
    }
   ],
   "source": [
    "BFS(my_graph, 'A', 'D')"
   ]
  }
 ],
 "metadata": {
  "kernelspec": {
   "display_name": "Python 3",
   "language": "python",
   "name": "python3"
  },
  "language_info": {
   "codemirror_mode": {
    "name": "ipython",
    "version": 3
   },
   "file_extension": ".py",
   "mimetype": "text/x-python",
   "name": "python",
   "nbconvert_exporter": "python",
   "pygments_lexer": "ipython3",
   "version": "3.7.5"
  }
 },
 "nbformat": 4,
 "nbformat_minor": 4
}

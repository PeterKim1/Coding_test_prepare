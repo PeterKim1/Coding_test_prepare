{
 "cells": [
  {
   "cell_type": "markdown",
   "metadata": {},
   "source": [
    "### 1. 탐욕 알고리즘 예\n",
    "### 문제1: 동전 문제\n",
    "  - 지불해야 하는 값이 4720원 일 때 1원 50원 100원, 500원 동전으로 동전의 수가 가장 적게 지불하시오.\n",
    "    - 가장 큰 동전부터 최대한 지불해야 하는 값을 채우는 방식으로 구현 가능\n",
    "    - 탐욕 알고리즘으로 매순간 최적이라고 생각되는 경우를 선택하면 됨"
   ]
  },
  {
   "cell_type": "code",
   "execution_count": 4,
   "metadata": {},
   "outputs": [],
   "source": [
    "def greedy(value, coin_list):\n",
    "    coin_list.sort(reverse = True)\n",
    "    coin_num = 0\n",
    "    coin_dict = dict()\n",
    "    \n",
    "    while coin_list:\n",
    "        coin = coin_list.pop(0)\n",
    "        num = value // coin\n",
    "        value -= num * coin\n",
    "        coin_num += num\n",
    "        coin_dict[coin] = num\n",
    "        \n",
    "    return coin_num, coin_dict"
   ]
  },
  {
   "cell_type": "code",
   "execution_count": 5,
   "metadata": {},
   "outputs": [
    {
     "data": {
      "text/plain": [
       "(31, {500: 9, 100: 2, 50: 0, 1: 20})"
      ]
     },
     "execution_count": 5,
     "metadata": {},
     "output_type": "execute_result"
    }
   ],
   "source": [
    "greedy(4720, [1, 50, 100, 500])"
   ]
  },
  {
   "cell_type": "markdown",
   "metadata": {},
   "source": [
    "### 문제2: 부분 배낭 문제 (Fractional Knapsack Problem)\n",
    "  - 무게 제한이 k인 배낭에 최대 가치를 가지도록 물건을 넣는 문제\n",
    "    - 각 물건은 무게(w)와 가치(v)로 표현될 수 있음\n",
    "    - 물건은 쪼갤 수 있으므로 물건의 일부분이 배낭에 넣어질 수 있음, 그래서 Fractional Knapsack Problem 으로 부름\n",
    "      - Fractional Knapsack Problem 의 반대로 물건을 쪼개서 넣을 수 없는 배낭 문제도 존재함 (0/1 Knapsack Problem 으로 부름)\n",
    "    <img src=\"https://www.fun-coding.org/00_Images/knapsack.png\">"
   ]
  },
  {
   "cell_type": "code",
   "execution_count": 36,
   "metadata": {},
   "outputs": [],
   "source": [
    "data_list_input = [(10, 10), (15, 12), (20, 10), (25, 8), (30, 5)]"
   ]
  },
  {
   "cell_type": "code",
   "execution_count": 37,
   "metadata": {},
   "outputs": [],
   "source": [
    "def greedy2(data_list, capacity):\n",
    "    data_list = sorted(data_list, key=lambda x: x[1] / x[0], reverse=True) # 가치가 높은 순으로 정렬\n",
    "    value = []\n",
    "    for data in data_list:\n",
    "        value.append(data[1] / data[0])\n",
    "    details = list()\n",
    "    real_value = 0\n",
    "    \n",
    "    while capacity != 0:\n",
    "        w, v = data_list.pop(0) # 무게, 가치 한개씩 빼줌\n",
    "        weight_value = value.pop(0) # 무게 당 가치 한개씩 빼줌\n",
    "        if capacity - w >= 0:\n",
    "            capacity -= w # capacity에서 무게를 빼고\n",
    "            details.append([w, v, w]) # 실제로 무게를 얼마나 뺏는지\n",
    "            real_value += w * weight_value # 실제 가치\n",
    "        else:\n",
    "            details.append([w, v, capacity])\n",
    "            real_value += weight_value * capacity\n",
    "            capacity -= capacity # 0이 됨, 끝\n",
    "            break\n",
    "            \n",
    "    return real_value, details"
   ]
  },
  {
   "cell_type": "code",
   "execution_count": 38,
   "metadata": {},
   "outputs": [
    {
     "data": {
      "text/plain": [
       "(24.5, [[10, 10, 10], [15, 12, 15], [20, 10, 5]])"
      ]
     },
     "execution_count": 38,
     "metadata": {},
     "output_type": "execute_result"
    }
   ],
   "source": [
    "greedy2(data_list_input, 30)"
   ]
  }
 ],
 "metadata": {
  "kernelspec": {
   "display_name": "Python 3",
   "language": "python",
   "name": "python3"
  },
  "language_info": {
   "codemirror_mode": {
    "name": "ipython",
    "version": 3
   },
   "file_extension": ".py",
   "mimetype": "text/x-python",
   "name": "python",
   "nbconvert_exporter": "python",
   "pygments_lexer": "ipython3",
   "version": "3.7.5"
  }
 },
 "nbformat": 4,
 "nbformat_minor": 4
}

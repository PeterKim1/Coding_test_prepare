{
 "cells": [
  {
   "cell_type": "markdown",
   "metadata": {},
   "source": [
    "<img src=\"https://www.fun-coding.org/00_Images/kruscal_internal1.png\" width=650>"
   ]
  },
  {
   "cell_type": "code",
   "execution_count": 12,
   "metadata": {},
   "outputs": [],
   "source": [
    "# 위 그래프를 dictionary로 표현\n",
    "mygraph = {\n",
    "    'vertices': ['A', 'B', 'C', 'D', 'E', 'F', 'G'],\n",
    "    'edges': [\n",
    "        (7, 'A', 'B'),\n",
    "        (5, 'A', 'D'),\n",
    "        (7, 'B', 'A'),\n",
    "        (8, 'B', 'C'),\n",
    "        (9, 'B', 'D'),\n",
    "        (7, 'B', 'E'),\n",
    "        (8, 'C', 'B'),\n",
    "        (5, 'C', 'E'),\n",
    "        (5, 'D', 'A'),\n",
    "        (9, 'D', 'B'),\n",
    "        (7, 'D', 'E'),\n",
    "        (6, 'D', 'F'),\n",
    "        (7, 'E', 'B'),\n",
    "        (5, 'E', 'C'),\n",
    "        (7, 'E', 'D'),\n",
    "        (8, 'E', 'F'),\n",
    "        (9, 'E', 'G'),\n",
    "        (6, 'F', 'D'),\n",
    "        (8, 'F', 'E'),\n",
    "        (11, 'F', 'G'),\n",
    "        (9, 'G', 'E'),\n",
    "        (11, 'G', 'F')\n",
    "    ]\n",
    "}"
   ]
  },
  {
   "cell_type": "code",
   "execution_count": 13,
   "metadata": {},
   "outputs": [],
   "source": [
    "parent = dict()\n",
    "rank = dict()\n",
    "\n",
    "def setup(node):\n",
    "    parent[node] = node\n",
    "    rank[node] = 0\n",
    "\n",
    "    \n",
    "def find(node):\n",
    "    if node != parent[node]: # 자기 자신이 부모가 아닌 경우\n",
    "        node = find(parent[node]) # 한 단계씩 root 노드를 향해 이동, 재귀 이용\n",
    "    return parent[node]\n",
    "    \n",
    "def union(node_1, node_2):\n",
    "    root1 = find(node_1)\n",
    "    root2 = find(node_2)\n",
    "    \n",
    "    \n",
    "    if rank[root1] > rank[root2]:\n",
    "        parent[root2] = root1\n",
    "    else: # rank[node_1] <= rank[node_2]\n",
    "        parent[root1] = root2\n",
    "        if rank[root1] == rank[root2]:\n",
    "            rank[root2] += 1\n",
    "    \n",
    "    \n",
    "def kruskal(graph):\n",
    "    mst = list()\n",
    "    \n",
    "    # Step 1: 기본 셋팅 진행, 각 노드의 부모를 자기자신으로, rank는 0으로\n",
    "    for vertice in graph['vertices']:\n",
    "        setup(vertice)\n",
    "        \n",
    "    # Step 2: 가중치 기반으로 정렬\n",
    "    edges = graph['edges']\n",
    "    edges.sort()\n",
    "    \n",
    "    # Step 3: 가중치가 짧은 간선부터 진행\n",
    "    for edge in edges:\n",
    "        weight, node_u, node_v = edge\n",
    "        if find(node_u) != find(node_v):\n",
    "            union(node_u, node_v)\n",
    "            mst.append(edge)\n",
    "    \n",
    "    return mst\n",
    "    "
   ]
  },
  {
   "cell_type": "code",
   "execution_count": 14,
   "metadata": {},
   "outputs": [
    {
     "data": {
      "text/plain": [
       "[(5, 'A', 'D'),\n",
       " (5, 'C', 'E'),\n",
       " (6, 'D', 'F'),\n",
       " (7, 'A', 'B'),\n",
       " (7, 'B', 'E'),\n",
       " (9, 'E', 'G')]"
      ]
     },
     "execution_count": 14,
     "metadata": {},
     "output_type": "execute_result"
    }
   ],
   "source": [
    "kruskal(mygraph)"
   ]
  }
 ],
 "metadata": {
  "kernelspec": {
   "display_name": "Python 3",
   "language": "python",
   "name": "python3"
  },
  "language_info": {
   "codemirror_mode": {
    "name": "ipython",
    "version": 3
   },
   "file_extension": ".py",
   "mimetype": "text/x-python",
   "name": "python",
   "nbconvert_exporter": "python",
   "pygments_lexer": "ipython3",
   "version": "3.7.5"
  }
 },
 "nbformat": 4,
 "nbformat_minor": 4
}

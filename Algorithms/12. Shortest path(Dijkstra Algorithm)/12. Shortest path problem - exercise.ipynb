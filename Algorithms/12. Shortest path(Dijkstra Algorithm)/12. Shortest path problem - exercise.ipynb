{
 "cells": [
  {
   "cell_type": "markdown",
   "metadata": {},
   "source": [
    "## 1. 다익스트라 알고리즘(Dijkstra Algorithm)"
   ]
  },
  {
   "cell_type": "markdown",
   "metadata": {},
   "source": [
    "<img src=\"https://www.fun-coding.org/00_Images/dijkstra.png\" width=300>"
   ]
  },
  {
   "cell_type": "code",
   "execution_count": 18,
   "metadata": {},
   "outputs": [],
   "source": [
    "mygraph = {\n",
    "    'A': {'B': 8, 'C': 1, 'D': 2},\n",
    "    'B': {},\n",
    "    'C': {'B': 5, 'D': 2},\n",
    "    'D': {'E': 3, 'F': 5},\n",
    "    'E': {'F': 1},\n",
    "    'F': {'A': 5}\n",
    "}"
   ]
  },
  {
   "cell_type": "code",
   "execution_count": 19,
   "metadata": {},
   "outputs": [],
   "source": [
    "import heapq\n",
    "def dijkstra(graph, start_node):\n",
    "    distance = {node: float('inf') for node in graph.keys()}\n",
    "    distance[start_node] = 0 # 시작 노드는 0으로 지정\n",
    "    \n",
    "    priority_queue = [] # 우선순위 큐\n",
    "    heapq.heappush(priority_queue, [distance[start_node], start_node])\n",
    "    \n",
    "    while priority_queue:\n",
    "        current_distance, current_node = heapq.heappop(priority_queue) # 지금까지의 거리, 현재 노드\n",
    "        \n",
    "        if distance[current_node] < current_distance: # 현재 기준에서 이미 크면 개선은 불가능\n",
    "            continue\n",
    "        \n",
    "        for node, dis in graph[current_node].items(): # 현재 노드에 인접한 애들 전부 계산\n",
    "            total_dis = dis + current_distance # 전체 거리\n",
    "            \n",
    "            if distance[node] > total_dis: # 계산한 거리가 저장된 거리보다 짧으면 갱신\n",
    "                distance[node] = total_dis\n",
    "                heapq.heappush(priority_queue, [distance[node], node])\n",
    "                \n",
    "    return distance"
   ]
  },
  {
   "cell_type": "code",
   "execution_count": 20,
   "metadata": {},
   "outputs": [
    {
     "data": {
      "text/plain": [
       "{'A': 0, 'B': 6, 'C': 1, 'D': 2, 'E': 5, 'F': 6}"
      ]
     },
     "execution_count": 20,
     "metadata": {},
     "output_type": "execute_result"
    }
   ],
   "source": [
    "dijkstra(mygraph, 'A')"
   ]
  },
  {
   "cell_type": "markdown",
   "metadata": {},
   "source": [
    "## 2. Dijkstra를 이용한 최적 경로 찾기"
   ]
  },
  {
   "cell_type": "code",
   "execution_count": 66,
   "metadata": {},
   "outputs": [],
   "source": [
    "import heapq\n",
    "def dijkstra_trace(graph, start_node, end_node):\n",
    "    distance = {node: [float('inf'), start_node] for node in graph.keys()}\n",
    "    distance[start_node] = [0, start_node] # 시작 노드는 0으로 지정\n",
    "    \n",
    "    priority_queue = [] # 우선순위 큐, 0번째 인덱스를 우선순위로 인지 \n",
    "    heapq.heappush(priority_queue, [distance[start_node][0], start_node])\n",
    "    \n",
    "    while priority_queue:\n",
    "        current_distance, current_node = heapq.heappop(priority_queue) # 지금까지의 거리, 현재 노드\n",
    "\n",
    "        if distance[current_node][0] < current_distance: # 현재 기준에서 이미 크면 개선은 불가능\n",
    "            continue\n",
    "        \n",
    "        for node, dis in graph[current_node].items(): # 현재 노드에 인접한 애들 전부 계산\n",
    "            total_dis = dis + current_distance # 전체 거리\n",
    "            \n",
    "            if distance[node][0] > total_dis: # 계산한 거리가 저장된 거리보다 짧으면 갱신\n",
    "                distance[node] = [total_dis, current_node]\n",
    "                heapq.heappush(priority_queue, [total_dis, node])\n",
    "                \n",
    "    output = end_node\n",
    "    backward_node = end_node\n",
    "    while backward_node != start_node:\n",
    "        output += '>-'\n",
    "        output += distance[backward_node][1]\n",
    "        backward_node = distance[backward_node][1]\n",
    "    print(output[::-1])\n",
    "        \n",
    "    return distance"
   ]
  },
  {
   "cell_type": "code",
   "execution_count": 67,
   "metadata": {},
   "outputs": [
    {
     "name": "stdout",
     "output_type": "stream",
     "text": [
      "A->D->E\n"
     ]
    },
    {
     "data": {
      "text/plain": [
       "{'A': [0, 'A'],\n",
       " 'B': [6, 'C'],\n",
       " 'C': [1, 'A'],\n",
       " 'D': [2, 'A'],\n",
       " 'E': [5, 'D'],\n",
       " 'F': [6, 'E']}"
      ]
     },
     "execution_count": 67,
     "metadata": {},
     "output_type": "execute_result"
    }
   ],
   "source": [
    "dijkstra_trace(mygraph, 'A', 'E')"
   ]
  },
  {
   "cell_type": "code",
   "execution_count": 69,
   "metadata": {},
   "outputs": [
    {
     "name": "stdout",
     "output_type": "stream",
     "text": [
      "A->D->E->F\n"
     ]
    },
    {
     "data": {
      "text/plain": [
       "{'A': [0, 'A'],\n",
       " 'B': [6, 'C'],\n",
       " 'C': [1, 'A'],\n",
       " 'D': [2, 'A'],\n",
       " 'E': [5, 'D'],\n",
       " 'F': [6, 'E']}"
      ]
     },
     "execution_count": 69,
     "metadata": {},
     "output_type": "execute_result"
    }
   ],
   "source": [
    "dijkstra_trace(mygraph, 'A', 'F')"
   ]
  }
 ],
 "metadata": {
  "kernelspec": {
   "display_name": "Python 3",
   "language": "python",
   "name": "python3"
  },
  "language_info": {
   "codemirror_mode": {
    "name": "ipython",
    "version": 3
   },
   "file_extension": ".py",
   "mimetype": "text/x-python",
   "name": "python",
   "nbconvert_exporter": "python",
   "pygments_lexer": "ipython3",
   "version": "3.7.5"
  }
 },
 "nbformat": 4,
 "nbformat_minor": 4
}

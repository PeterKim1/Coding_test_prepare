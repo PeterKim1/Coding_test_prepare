{
 "cells": [
  {
   "cell_type": "markdown",
   "metadata": {},
   "source": [
    "## 1. Binary Search"
   ]
  },
  {
   "cell_type": "code",
   "execution_count": 5,
   "metadata": {},
   "outputs": [],
   "source": [
    "def binary_search(data, search):\n",
    "    if len(data) == 1 and data[0] == search:\n",
    "        return True\n",
    "    if len(data) == 1 and data[0] != search:\n",
    "        return False\n",
    "    if len(data) == 0:\n",
    "        return False\n",
    "    \n",
    "    mid_idx = len(data) // 2\n",
    "    \n",
    "    if search == data[mid_idx]:\n",
    "        return True\n",
    "    elif search < data[mid_idx]:\n",
    "        return binary_search(data[:mid_idx], search)\n",
    "    else:\n",
    "        return binary_search(data[mid_idx+1:], search)"
   ]
  },
  {
   "cell_type": "code",
   "execution_count": 7,
   "metadata": {},
   "outputs": [
    {
     "data": {
      "text/plain": [
       "True"
      ]
     },
     "execution_count": 7,
     "metadata": {},
     "output_type": "execute_result"
    }
   ],
   "source": [
    "sample_list = [1, 4, 5, 7, 8]\n",
    "binary_search(sample_list, 5)"
   ]
  },
  {
   "cell_type": "code",
   "execution_count": 8,
   "metadata": {},
   "outputs": [
    {
     "data": {
      "text/plain": [
       "False"
      ]
     },
     "execution_count": 8,
     "metadata": {},
     "output_type": "execute_result"
    }
   ],
   "source": [
    "binary_search(sample_list, 6)"
   ]
  }
 ],
 "metadata": {
  "kernelspec": {
   "display_name": "Python 3",
   "language": "python",
   "name": "python3"
  },
  "language_info": {
   "codemirror_mode": {
    "name": "ipython",
    "version": 3
   },
   "file_extension": ".py",
   "mimetype": "text/x-python",
   "name": "python",
   "nbconvert_exporter": "python",
   "pygments_lexer": "ipython3",
   "version": "3.7.5"
  }
 },
 "nbformat": 4,
 "nbformat_minor": 4
}

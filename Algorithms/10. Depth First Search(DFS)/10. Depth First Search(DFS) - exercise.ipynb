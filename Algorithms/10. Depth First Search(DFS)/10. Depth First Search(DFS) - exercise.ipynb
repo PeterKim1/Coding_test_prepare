{
 "cells": [
  {
   "cell_type": "markdown",
   "metadata": {},
   "source": [
    "<img src=\"https://www.fun-coding.org/00_Images/BFSDFS.png\" width=700>"
   ]
  },
  {
   "cell_type": "code",
   "execution_count": 3,
   "metadata": {},
   "outputs": [],
   "source": [
    "# 위 그래프를 기반으로 dictionary를 이용해 그래프를 표현\n",
    "my_graph = dict()\n",
    "\n",
    "my_graph['A'] = ['B', 'C']\n",
    "my_graph['B'] = ['A', 'D']\n",
    "my_graph['C'] = ['A', 'G', 'H', 'I']\n",
    "my_graph['D'] = ['B', 'E', 'F']\n",
    "my_graph['E'] = ['D']\n",
    "my_graph['F'] = ['D']\n",
    "my_graph['G'] = ['C']\n",
    "my_graph['H'] = ['C']\n",
    "my_graph['I'] = ['C', 'J']\n",
    "my_graph['J'] = ['I']"
   ]
  },
  {
   "cell_type": "code",
   "execution_count": 4,
   "metadata": {},
   "outputs": [],
   "source": [
    "def DFS(graph, root_node, search):\n",
    "    visited = []\n",
    "    candidate_node = []\n",
    "    cnt = 0\n",
    "    candidate_node.append(root_node)\n",
    "    \n",
    "    while candidate_node: # 후보 노드가 없을 때 까지\n",
    "        can = candidate_node.pop() # 후보 노드 중 맨 뒤 선택, Stack을 이용\n",
    "        cnt += 1\n",
    "        if can == search: # 해당 노드가 찾으려는 노드와 같다면\n",
    "            return True, cnt\n",
    "        \n",
    "        if can not in visited: # 방문한 적이 없다면\n",
    "            print(can)\n",
    "            visited.append(can)\n",
    "            candidate_node.extend(graph[can]) # 해당 노드와 adjacent한 노드들을 다시 추가\n",
    "    \n",
    "    # 다 돌았는데도 못 찾았으면 없는 것\n",
    "    return False, cnt"
   ]
  },
  {
   "cell_type": "code",
   "execution_count": 5,
   "metadata": {},
   "outputs": [
    {
     "name": "stdout",
     "output_type": "stream",
     "text": [
      "A\n",
      "C\n",
      "I\n",
      "J\n",
      "H\n",
      "G\n",
      "B\n",
      "D\n",
      "F\n",
      "E\n"
     ]
    },
    {
     "data": {
      "text/plain": [
       "(False, 19)"
      ]
     },
     "execution_count": 5,
     "metadata": {},
     "output_type": "execute_result"
    }
   ],
   "source": [
    "DFS(my_graph, 'A', 'Z')"
   ]
  },
  {
   "cell_type": "code",
   "execution_count": 6,
   "metadata": {},
   "outputs": [
    {
     "name": "stdout",
     "output_type": "stream",
     "text": [
      "A\n",
      "C\n",
      "I\n",
      "J\n"
     ]
    },
    {
     "data": {
      "text/plain": [
       "(True, 7)"
      ]
     },
     "execution_count": 6,
     "metadata": {},
     "output_type": "execute_result"
    }
   ],
   "source": [
    "DFS(my_graph, 'A', 'H')"
   ]
  },
  {
   "cell_type": "code",
   "execution_count": null,
   "metadata": {},
   "outputs": [],
   "source": []
  }
 ],
 "metadata": {
  "kernelspec": {
   "display_name": "Python 3",
   "language": "python",
   "name": "python3"
  },
  "language_info": {
   "codemirror_mode": {
    "name": "ipython",
    "version": 3
   },
   "file_extension": ".py",
   "mimetype": "text/x-python",
   "name": "python",
   "nbconvert_exporter": "python",
   "pygments_lexer": "ipython3",
   "version": "3.7.5"
  }
 },
 "nbformat": 4,
 "nbformat_minor": 4
}

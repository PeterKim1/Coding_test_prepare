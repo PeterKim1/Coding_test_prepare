{
 "cells": [
  {
   "cell_type": "markdown",
   "metadata": {},
   "source": [
    "## 1. Merge sort\n",
    "Merge sort(병합 정렬)은 크게 두 가지 함수로 구성되며, 리스트를 두 부분으로 나눠주는 함수(merge_split)와 나눠진 리스트를 다시 정렬된 리스트로 합병하는 함수(merge)로 구성된다."
   ]
  },
  {
   "cell_type": "code",
   "execution_count": 4,
   "metadata": {},
   "outputs": [],
   "source": [
    "def merge_split(data):\n",
    "    if len(data) == 1: # 데이터가 1개인 경우는 그 데이터 그대로 return\n",
    "        return data\n",
    "    middle = len(data) // 2 # 중간 지점 잡음\n",
    "    left = merge_split(data[:middle]) # 왼쪽\n",
    "    right = merge_split(data[middle:]) # 오른쪽\n",
    "    return merge(left, right)"
   ]
  },
  {
   "cell_type": "code",
   "execution_count": 5,
   "metadata": {},
   "outputs": [],
   "source": [
    "def merge(left, right):\n",
    "    result = []\n",
    "    left_idx, right_idx = 0, 0\n",
    "    \n",
    "    # Case 1: 왼쪽 오른쪽 모두 데이터가 있는 경우\n",
    "    while len(left) > left_idx and len(right) > right_idx:\n",
    "        if left[left_idx] > right[right_idx]:\n",
    "            result.append(right[right_idx])\n",
    "            right_idx += 1\n",
    "        else:\n",
    "            result.append(left[left_idx])\n",
    "            left_idx += 1\n",
    "    \n",
    "    # Case 2: 왼쪽에'만' 데이터가 남은 경우\n",
    "    while len(left) > left_idx:\n",
    "        result.append(left[left_idx])\n",
    "        left_idx += 1\n",
    "            \n",
    "    # Case 3: 오른쪽에'만' 데이터가 남은 경우\n",
    "    while len(right) > right_idx:\n",
    "        result.append(right[right_idx])\n",
    "        right_idx += 1\n",
    "    \n",
    "    return result"
   ]
  },
  {
   "cell_type": "code",
   "execution_count": 6,
   "metadata": {},
   "outputs": [],
   "source": [
    "sample_list = [1, 7, 4, 2, 5]"
   ]
  },
  {
   "cell_type": "code",
   "execution_count": 7,
   "metadata": {},
   "outputs": [
    {
     "data": {
      "text/plain": [
       "[1, 2, 4, 5, 7]"
      ]
     },
     "execution_count": 7,
     "metadata": {},
     "output_type": "execute_result"
    }
   ],
   "source": [
    "merge_split(sample_list)"
   ]
  }
 ],
 "metadata": {
  "kernelspec": {
   "display_name": "Python 3",
   "language": "python",
   "name": "python3"
  },
  "language_info": {
   "codemirror_mode": {
    "name": "ipython",
    "version": 3
   },
   "file_extension": ".py",
   "mimetype": "text/x-python",
   "name": "python",
   "nbconvert_exporter": "python",
   "pygments_lexer": "ipython3",
   "version": "3.7.5"
  }
 },
 "nbformat": 4,
 "nbformat_minor": 4
}

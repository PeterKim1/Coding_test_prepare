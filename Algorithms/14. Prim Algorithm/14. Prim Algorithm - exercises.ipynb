{
 "cells": [
  {
   "cell_type": "markdown",
   "metadata": {},
   "source": [
    "<img src=\"https://www.fun-coding.org/00_Images/prim1.png\" width=800>"
   ]
  },
  {
   "cell_type": "code",
   "execution_count": 2,
   "metadata": {},
   "outputs": [],
   "source": [
    "myedges = [\n",
    "    (7, 'A', 'B'), (5, 'A', 'D'),\n",
    "    (8, 'B', 'C'), (9, 'B', 'D'), (7, 'B', 'E'),\n",
    "    (5, 'C', 'E'),\n",
    "    (7, 'D', 'E'), (6, 'D', 'F'),\n",
    "    (8, 'E', 'F'), (9, 'E', 'G'),\n",
    "    (11, 'F', 'G')\n",
    "]"
   ]
  },
  {
   "cell_type": "code",
   "execution_count": 15,
   "metadata": {},
   "outputs": [],
   "source": [
    "from collections import defaultdict\n",
    "from heapq import *\n",
    "\n",
    "def prim(start_node, edges):\n",
    "    mst = list()\n",
    "    adjacent_edge = defaultdict(list)\n",
    "    \n",
    "    for weight, n1, n2 in edges:\n",
    "        adjacent_edge[n1].append((weight, n1, n2))\n",
    "        adjacent_edge[n2].append((weight, n2, n1))\n",
    "    \n",
    "    connected_edge = set(start_node) # 연결된 edge, 처음 노드로 집합 구성\n",
    "    candidate_edge_list = adjacent_edge[start_node] # start node의 인접 노드들\n",
    "    heapify(candidate_edge_list) # Minheap으로 만들어냄, 가중치 기준\n",
    "    \n",
    "    while candidate_edge_list:\n",
    "        weight, n1, n2 = heappop(candidate_edge_list) # 최소 weight인 경우를 꺼냄\n",
    "        if n2 not in connected_edge: # 연결된 노드 집합에 포함되어 있지 않다면\n",
    "            connected_edge.add(n2) # n2를 연결된 edge에 추가해줌\n",
    "            mst.append((weight, n1, n2)) # Minimum Spanning Tree에 추가\n",
    "            \n",
    "            for edge in adjacent_edge[n2]: # n2의 인접한 edge에 대해서\n",
    "                if edge[2] not in connected_edge:\n",
    "                    heappush(candidate_edge_list, edge)\n",
    "    \n",
    "    return mst"
   ]
  },
  {
   "cell_type": "code",
   "execution_count": 16,
   "metadata": {},
   "outputs": [
    {
     "data": {
      "text/plain": [
       "[(5, 'A', 'D'),\n",
       " (6, 'D', 'F'),\n",
       " (7, 'A', 'B'),\n",
       " (7, 'B', 'E'),\n",
       " (5, 'E', 'C'),\n",
       " (9, 'E', 'G')]"
      ]
     },
     "execution_count": 16,
     "metadata": {},
     "output_type": "execute_result"
    }
   ],
   "source": [
    "prim ('A', myedges)"
   ]
  }
 ],
 "metadata": {
  "kernelspec": {
   "display_name": "Python 3",
   "language": "python",
   "name": "python3"
  },
  "language_info": {
   "codemirror_mode": {
    "name": "ipython",
    "version": 3
   },
   "file_extension": ".py",
   "mimetype": "text/x-python",
   "name": "python",
   "nbconvert_exporter": "python",
   "pygments_lexer": "ipython3",
   "version": "3.7.5"
  }
 },
 "nbformat": 4,
 "nbformat_minor": 4
}

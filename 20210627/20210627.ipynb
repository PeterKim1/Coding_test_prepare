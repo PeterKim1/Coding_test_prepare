{
 "cells": [
  {
   "cell_type": "markdown",
   "metadata": {},
   "source": [
    "## 1. 프림 알고리즘 복습"
   ]
  },
  {
   "cell_type": "code",
   "execution_count": 3,
   "metadata": {},
   "outputs": [],
   "source": [
    "myedges = [\n",
    "    (7, 'A', 'B'), (5, 'A', 'D'),\n",
    "    (8, 'B', 'C'), (9, 'B', 'D'), (7, 'B', 'E'),\n",
    "    (5, 'C', 'E'),\n",
    "    (7, 'D', 'E'), (6, 'D', 'F'),\n",
    "    (8, 'E', 'F'), (9, 'E', 'G'),\n",
    "    (11, 'F', 'G')\n",
    "]"
   ]
  },
  {
   "cell_type": "code",
   "execution_count": 4,
   "metadata": {},
   "outputs": [],
   "source": [
    "import heapq\n",
    "from collections import defaultdict\n",
    "def prim(start_node, graph):\n",
    "    mst = list() # 최소 신장 트리 정보 저장\n",
    "    adjacent = defaultdict(list) # 각 노드에 대한 연결 정보 \n",
    "    for weight, n1, n2 in graph:\n",
    "        adjacent[n1].append((weight, n1, n2))\n",
    "        adjacent[n2].append((weight, n2, n1))\n",
    "    \n",
    "    connected = set(start_node) # 이미 연결된 노드를 저장\n",
    "    candidate_node = adjacent[start_node] # 판단할 후보군 저장\n",
    "    heapq.heapify(candidate_node)\n",
    "    \n",
    "    while candidate_node:\n",
    "        weight, n1, n2 = heapq.heappop(candidate_node) # weight가 가장 작은 정보 도출\n",
    "        \n",
    "        if n2 not in connected:\n",
    "            connected.add(n2)\n",
    "            mst.append((weight, n1, n2))\n",
    "            \n",
    "            for edge_info in adjacent[n2]: # 인접 edge 정보 전부 돌면서 판단\n",
    "                if edge_info[2] not in connected: # 도착 지점이 connected에 없는 경우만\n",
    "                    heapq.heappush(candidate_node, edge_info)\n",
    "                    \n",
    "    return mst"
   ]
  },
  {
   "cell_type": "code",
   "execution_count": 5,
   "metadata": {},
   "outputs": [
    {
     "data": {
      "text/plain": [
       "[(5, 'A', 'D'),\n",
       " (6, 'D', 'F'),\n",
       " (7, 'A', 'B'),\n",
       " (7, 'B', 'E'),\n",
       " (5, 'E', 'C'),\n",
       " (9, 'E', 'G')]"
      ]
     },
     "execution_count": 5,
     "metadata": {},
     "output_type": "execute_result"
    }
   ],
   "source": [
    "prim('A', myedges)"
   ]
  },
  {
   "cell_type": "markdown",
   "metadata": {},
   "source": [
    "## 2. 개선된 프림 알고리즘"
   ]
  },
  {
   "cell_type": "code",
   "execution_count": 6,
   "metadata": {},
   "outputs": [],
   "source": [
    "mygraph = {\n",
    "    'A': {'B': 7, 'D': 5},\n",
    "    'B': {'A': 7, 'D': 9, 'C': 8, 'E': 7},\n",
    "    'C': {'B': 8, 'E': 5},\n",
    "    'D': {'A': 5, 'B': 9, 'E': 7, 'F': 6},\n",
    "    'E': {'B': 7, 'C': 5, 'D': 7, 'F': 8, 'G': 9},\n",
    "    'F': {'D': 6, 'E': 8, 'G': 11},\n",
    "    'G': {'E': 9, 'F': 11}    \n",
    "}"
   ]
  },
  {
   "cell_type": "code",
   "execution_count": 7,
   "metadata": {},
   "outputs": [],
   "source": [
    "from heapdict import heapdict\n",
    "\n",
    "def prim_improved(graph, start):\n",
    "    # mst: 결과 저장, keys: 각 노드의 key값, pi: 각 노드의 key값이 갱신될 때의 출처\n",
    "    mst, keys, pi, total_weight = list(), heapdict(), dict(), 0\n",
    "    \n",
    "    for edge in graph.keys():\n",
    "        keys[edge] = float('inf') # 초기값은 전부 무한대로\n",
    "        pi[edge] = None # 어디서 갱신되었는지가 없으므로 None 처리\n",
    "    keys[start] = 0 # 맨 처음 node는 0\n",
    "    pi[start] = start # 자기 자신에서 갱신되었으므로\n",
    "    \n",
    "    while keys:\n",
    "        current_node, current_key = keys.popitem() # 현재 노드, 현재 key값 도출\n",
    "        mst.append([pi[current_node], current_node, current_key])\n",
    "        total_weight += current_key\n",
    "        for edge, weight in graph[current_node].items(): # 현재 노드에 있는 edge와 weight에 대해\n",
    "            if edge in keys and weight < keys[edge]: # 해당 edge가 keys에 있고, 현재 key값보다 작으면\n",
    "                keys[edge] = weight # 현재 edge의 key 값을 weight로 갱신\n",
    "                pi[edge] = current_node # 갱신하게 된 node를 저장\n",
    "    return mst, total_weight"
   ]
  },
  {
   "cell_type": "code",
   "execution_count": 8,
   "metadata": {},
   "outputs": [
    {
     "data": {
      "text/plain": [
       "([['A', 'A', 0],\n",
       "  ['A', 'D', 5],\n",
       "  ['D', 'F', 6],\n",
       "  ['A', 'B', 7],\n",
       "  ['D', 'E', 7],\n",
       "  ['E', 'C', 5],\n",
       "  ['E', 'G', 9]],\n",
       " 39)"
      ]
     },
     "execution_count": 8,
     "metadata": {},
     "output_type": "execute_result"
    }
   ],
   "source": [
    "prim_improved(mygraph, 'A')"
   ]
  },
  {
   "cell_type": "markdown",
   "metadata": {},
   "source": [
    "## 3. Backtracking - N Queen Problem"
   ]
  },
  {
   "cell_type": "code",
   "execution_count": 9,
   "metadata": {},
   "outputs": [],
   "source": [
    "\n",
    "def is_available(current_candidate, current_col):\n",
    "    current_row = len(current_candidate)\n",
    "    for row in range(current_row):\n",
    "        if current_candidate[row] == current_col or abs(current_col - current_candidate[row]) == current_row - row:\n",
    "            return False\n",
    "    return True\n",
    "    \n",
    "\n",
    "def DFS(N, current_row, current_candidate, final_result):\n",
    "    if current_row == N:\n",
    "        final_result.append(current_candidate[:])\n",
    "        return\n",
    "    \n",
    "    for current_col in range(N):\n",
    "        if is_available(current_candidate, current_col):\n",
    "            current_candidate.append(current_col)\n",
    "            DFS(N, current_row + 1, current_candidate, final_result)\n",
    "            current_candidate.pop()\n",
    "\n",
    "def n_queens(N):\n",
    "    final_output = []\n",
    "    DFS(N, 0, [], final_output)\n",
    "    return final_output"
   ]
  },
  {
   "cell_type": "code",
   "execution_count": 10,
   "metadata": {},
   "outputs": [
    {
     "data": {
      "text/plain": [
       "[[1, 3, 0, 2], [2, 0, 3, 1]]"
      ]
     },
     "execution_count": 10,
     "metadata": {},
     "output_type": "execute_result"
    }
   ],
   "source": [
    "n_queens(4)"
   ]
  },
  {
   "cell_type": "code",
   "execution_count": null,
   "metadata": {},
   "outputs": [],
   "source": []
  }
 ],
 "metadata": {
  "kernelspec": {
   "display_name": "Python 3",
   "language": "python",
   "name": "python3"
  },
  "language_info": {
   "codemirror_mode": {
    "name": "ipython",
    "version": 3
   },
   "file_extension": ".py",
   "mimetype": "text/x-python",
   "name": "python",
   "nbconvert_exporter": "python",
   "pygments_lexer": "ipython3",
   "version": "3.7.5"
  }
 },
 "nbformat": 4,
 "nbformat_minor": 4
}

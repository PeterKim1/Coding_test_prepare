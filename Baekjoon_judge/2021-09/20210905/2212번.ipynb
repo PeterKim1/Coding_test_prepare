{
 "cells": [
  {
   "cell_type": "markdown",
   "metadata": {},
   "source": [
    "# 1. 강의 Solution"
   ]
  },
  {
   "cell_type": "code",
   "execution_count": 1,
   "metadata": {},
   "outputs": [
    {
     "name": "stdout",
     "output_type": "stream",
     "text": [
      "6\n",
      "2\n",
      "1 6 9 3 6 7\n",
      "5\n"
     ]
    }
   ],
   "source": [
    "import sys\n",
    "\n",
    "n = int(input())\n",
    "k = int(input())\n",
    "\n",
    "# 집중국의 개수가 n 이상일 때는 각 위치에 집중국을 설치.\n",
    "if k >= n:\n",
    "    print(0)\n",
    "    sys.exit()\n",
    "    \n",
    "# 모든 센서의 위치를 입력 받고, 오름차순 정렬\n",
    "array = list(map(int, input().split()))\n",
    "array.sort()\n",
    "\n",
    "# 각 센서 간의 거리를 계산하여 내림차순 정렬\n",
    "distances = []\n",
    "for i in range(1, n):\n",
    "    distances.append(array[i] - array[i-1])\n",
    "distances.sort(reverse = True)\n",
    "\n",
    "# 가장 긴 거리부터 하나씩 제거\n",
    "for i in range(k-1):\n",
    "    distances[i] = 0\n",
    "print(sum(distances))"
   ]
  }
 ],
 "metadata": {
  "kernelspec": {
   "display_name": "Python 3",
   "language": "python",
   "name": "python3"
  },
  "language_info": {
   "codemirror_mode": {
    "name": "ipython",
    "version": 3
   },
   "file_extension": ".py",
   "mimetype": "text/x-python",
   "name": "python",
   "nbconvert_exporter": "python",
   "pygments_lexer": "ipython3",
   "version": "3.7.5"
  }
 },
 "nbformat": 4,
 "nbformat_minor": 4
}

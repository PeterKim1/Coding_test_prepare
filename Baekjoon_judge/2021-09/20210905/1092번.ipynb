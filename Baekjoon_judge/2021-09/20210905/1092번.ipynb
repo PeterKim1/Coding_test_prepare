{
 "cells": [
  {
   "cell_type": "markdown",
   "metadata": {},
   "source": [
    "# 1. My Solution"
   ]
  },
  {
   "cell_type": "code",
   "execution_count": 38,
   "metadata": {},
   "outputs": [
    {
     "name": "stdout",
     "output_type": "stream",
     "text": [
      "3\n",
      "1 2 3\n",
      "6\n",
      "2 2 2 2 2 2\n",
      "3\n"
     ]
    }
   ],
   "source": [
    "n = int(input())\n",
    "weight_limit = list(map(int, input().split()))\n",
    "weight_limit.sort(reverse = True) # 내림차순\n",
    "\n",
    "m = int(input())\n",
    "box_weight = list(map(int, input().split()))\n",
    "box_weight.sort(reverse = True)\n",
    "\n",
    "def func():\n",
    "    cycle = 0\n",
    "    while box_weight:\n",
    "        cnt = len(weight_limit) # 크레인 개수 만큼\n",
    "        for lim in weight_limit:\n",
    "            check = False\n",
    "            \n",
    "            for box in box_weight:\n",
    "                if lim >= box:\n",
    "                    check = True\n",
    "                    box_weight.remove(box)\n",
    "                    cnt -= 1\n",
    "                    break\n",
    "            \n",
    "        if cnt == len(weight_limit):\n",
    "            return -1\n",
    "        else:\n",
    "            cycle += 1\n",
    "    \n",
    "    return cycle\n",
    "\n",
    "\n",
    "result = func()\n",
    "print(result)"
   ]
  },
  {
   "cell_type": "markdown",
   "metadata": {},
   "source": [
    "# 2. 강의 Solution"
   ]
  },
  {
   "cell_type": "code",
   "execution_count": 44,
   "metadata": {},
   "outputs": [
    {
     "name": "stdout",
     "output_type": "stream",
     "text": [
      "3\n",
      "6 8 9\n",
      "5\n",
      "2 5 2 4 7\n",
      "2\n"
     ]
    }
   ],
   "source": [
    "import sys\n",
    "\n",
    "n = int(input())\n",
    "cranes = list(map(int, input().split()))\n",
    "cranes.sort(reverse = True)\n",
    "\n",
    "m = int(input())\n",
    "boxes = list(map(int, input().split()))\n",
    "boxes.sort(reverse = True)\n",
    "\n",
    "if max(cranes) < max(boxes):\n",
    "    print(-1)\n",
    "    sys.exit()\n",
    "    \n",
    "# 각 크레인이 현재 옮겨야 하는 박스의 번호\n",
    "positions = [0] * n\n",
    "# 각 박스를 옮겼는지의 여부\n",
    "checked = [False] * m\n",
    "\n",
    "result = 0\n",
    "count = 0\n",
    "\n",
    "while True:\n",
    "    if count == len(boxes): # 박스를 다 옮겼다면 종료\n",
    "        break\n",
    "    for i in range(n):\n",
    "        while positions[i] < len(boxes):\n",
    "            #print(\"checked: \", checked)\n",
    "            #print(\"position: \", positions)\n",
    "            #print(\"count:\", count)\n",
    "            # 아직 안 옮긴 박스 중에서 옮길 수 있는 박스를 만날 때까지 반복\n",
    "            if not checked[positions[i]] and cranes[i] >= boxes[positions[i]]:\n",
    "                checked[positions[i]] = True\n",
    "                positions[i] += 1\n",
    "                count += 1\n",
    "                break\n",
    "            positions[i] += 1\n",
    "    result += 1\n",
    "print(result)\n",
    "        \n"
   ]
  },
  {
   "cell_type": "code",
   "execution_count": 43,
   "metadata": {},
   "outputs": [
    {
     "name": "stdout",
     "output_type": "stream",
     "text": [
      "3\n",
      "6 8 9\n",
      "5\n",
      "2 5 2 4 7\n",
      "2\n"
     ]
    }
   ],
   "source": [
    "n = int(input())\n",
    "cranes = list(map(int, input().split()))\n",
    "cranes.sort(reverse = True)\n",
    "\n",
    "m = int(input())\n",
    "box = list(map(int, input().split()))\n",
    "box.sort(reverse = True)\n",
    "\n",
    "# 몇 번째 박스를 운송하나요?\n",
    "box_num = [0] * n\n",
    "\n",
    "# 각 박스를 실었는지 아닌지의 여부 저장\n",
    "checked = [False] * m\n",
    "\n",
    "result = 0\n",
    "count = 0\n",
    "\n",
    "while True:\n",
    "    if count == len(box):\n",
    "        break\n",
    "    for i in range(n): # 각 크레인에 대해서 전부 for문 돌려야됨\n",
    "        while box_num[i] < len(box): # 몇 번째 박스 에 해당하는게 box 개수보단 작아야하지\n",
    "            if not checked[box_num[i]] and cranes[i] >= box[box_num[i]]: # '몇 번째' 박스가 안 옮겨졌고, 크레인보다 작음\n",
    "                checked[box_num[i]] = True\n",
    "                box_num[i] += 1\n",
    "                count += 1\n",
    "                break\n",
    "            box_num[i] += 1\n",
    "    result += 1\n",
    "print(result)\n"
   ]
  },
  {
   "cell_type": "code",
   "execution_count": null,
   "metadata": {},
   "outputs": [],
   "source": []
  },
  {
   "cell_type": "code",
   "execution_count": null,
   "metadata": {},
   "outputs": [],
   "source": []
  }
 ],
 "metadata": {
  "kernelspec": {
   "display_name": "Python 3",
   "language": "python",
   "name": "python3"
  },
  "language_info": {
   "codemirror_mode": {
    "name": "ipython",
    "version": 3
   },
   "file_extension": ".py",
   "mimetype": "text/x-python",
   "name": "python",
   "nbconvert_exporter": "python",
   "pygments_lexer": "ipython3",
   "version": "3.7.5"
  }
 },
 "nbformat": 4,
 "nbformat_minor": 4
}

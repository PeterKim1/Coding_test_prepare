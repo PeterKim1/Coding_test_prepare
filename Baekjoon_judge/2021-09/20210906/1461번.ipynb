{
 "cells": [
  {
   "cell_type": "markdown",
   "metadata": {},
   "source": [
    "# 1. My Solution"
   ]
  },
  {
   "cell_type": "code",
   "execution_count": 29,
   "metadata": {},
   "outputs": [
    {
     "name": "stdout",
     "output_type": "stream",
     "text": [
      "7 2\n",
      "-37 2 -6 -39 -29 11 -28\n",
      "131\n"
     ]
    }
   ],
   "source": [
    "n, m = map(int, input().split())\n",
    "loc = list(map(int, input().split()))\n",
    "\n",
    "pos = []\n",
    "neg = []\n",
    "\n",
    "for l in loc:\n",
    "    if l > 0:\n",
    "        pos.append(l)\n",
    "    else:\n",
    "        neg.append(l)\n",
    "        \n",
    "pos.sort()\n",
    "neg.sort()\n",
    "\n",
    "result_neg = []\n",
    "result_pos = []\n",
    "result = 0\n",
    "\n",
    "neg_first = False\n",
    "pos_first = False\n",
    "\n",
    "if pos and neg: # 둘 다 데이터 있을 때\n",
    "    if abs(min(neg)) > abs(max(pos)): # 음수 쪽 절대값이 더 큰 경우\n",
    "        neg_first = True\n",
    "    else:\n",
    "        pos_first = True\n",
    "elif not pos and neg: # 음수쪽만 있는 경우\n",
    "    neg_first = True\n",
    "elif pos and not neg: # 양수쪽만 있는 경우\n",
    "    pos_first = True\n",
    "\n",
    "\n",
    "if neg_first == True:\n",
    "    while neg:\n",
    "        value = neg[0]\n",
    "        result_neg.append(value)\n",
    "        for _ in range(m):\n",
    "            if not neg:\n",
    "                break\n",
    "            else:\n",
    "                _ = neg.pop(0)\n",
    "                \n",
    "    while pos:\n",
    "        value = pos[-1]\n",
    "        result_pos.append(value)\n",
    "        for _ in range(m):\n",
    "            if not pos:\n",
    "                break\n",
    "            else:\n",
    "                _ = pos.pop()\n",
    "                \n",
    "    for idx, n in enumerate(result_neg):\n",
    "        if idx == 0:\n",
    "            result += abs(n)\n",
    "        else:\n",
    "            result += 2*abs(n)\n",
    "    \n",
    "    for p in result_pos:\n",
    "        result += 2*p\n",
    "    \n",
    "    print(result)\n",
    "    \n",
    "else:\n",
    "    while neg:\n",
    "        value = neg[0]\n",
    "        result_neg.append(value)\n",
    "        for _ in range(m):\n",
    "            if not neg:\n",
    "                break\n",
    "            else:\n",
    "                _ = neg.pop(0)\n",
    "                \n",
    "    while pos:\n",
    "        value = pos[-1]\n",
    "        result_pos.append(value)\n",
    "        for _ in range(m):\n",
    "            if not pos:\n",
    "                break\n",
    "            else:\n",
    "                _ = pos.pop()\n",
    "                \n",
    "    for n in result_neg:\n",
    "        result += 2*abs(n)\n",
    "    \n",
    "    for idx, p in enumerate(result_pos):\n",
    "        if idx == 0:\n",
    "            result += p\n",
    "        else:\n",
    "            result += 2*p\n",
    "    \n",
    "    print(result)\n",
    "    \n",
    "        \n",
    "            "
   ]
  },
  {
   "cell_type": "markdown",
   "metadata": {},
   "source": [
    "# 2. 강의 Solution"
   ]
  },
  {
   "cell_type": "code",
   "execution_count": 32,
   "metadata": {},
   "outputs": [
    {
     "name": "stdout",
     "output_type": "stream",
     "text": [
      "3 2\n",
      "1 5 9\n",
      "11\n"
     ]
    }
   ],
   "source": [
    "import heapq # min heap 구현\n",
    "\n",
    "n, m = map(int, input().split())\n",
    "array = list(map(int, input().split()))\n",
    "positive = []\n",
    "negative = []\n",
    "\n",
    "largest = max(max(array), - min(array))\n",
    "\n",
    "# 최대 힙을 위해 원소를 음수로 구성\n",
    "for i in array:\n",
    "    # 책의 위치가 양수인 경우\n",
    "    if i > 0:\n",
    "        heapq.heappush(positive, -i)\n",
    "    # 책의 위치가 음수인 경우\n",
    "    else:\n",
    "        heapq.heappush(negative, i)\n",
    "        \n",
    "\n",
    "result = 0\n",
    "\n",
    "while positive:\n",
    "    result += heapq.heappop(positive)\n",
    "    for _ in range(m-1):\n",
    "        if positive:\n",
    "            heapq.heappop(positive)\n",
    "            \n",
    "while negative:\n",
    "    result += heapq.heappop(negative)\n",
    "    for _ in range(m-1):\n",
    "        if negative:\n",
    "            heapq.heappop(negative)\n",
    "            \n",
    "print(-result * 2 - largest)\n",
    "\n",
    "    \n"
   ]
  },
  {
   "cell_type": "code",
   "execution_count": null,
   "metadata": {},
   "outputs": [],
   "source": []
  }
 ],
 "metadata": {
  "kernelspec": {
   "display_name": "Python 3",
   "language": "python",
   "name": "python3"
  },
  "language_info": {
   "codemirror_mode": {
    "name": "ipython",
    "version": 3
   },
   "file_extension": ".py",
   "mimetype": "text/x-python",
   "name": "python",
   "nbconvert_exporter": "python",
   "pygments_lexer": "ipython3",
   "version": "3.7.5"
  }
 },
 "nbformat": 4,
 "nbformat_minor": 4
}

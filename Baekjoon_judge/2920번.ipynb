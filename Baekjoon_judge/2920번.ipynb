{
 "cells": [
  {
   "cell_type": "markdown",
   "metadata": {},
   "source": [
    "https://www.acmicpc.net/problem/2920"
   ]
  },
  {
   "cell_type": "markdown",
   "metadata": {},
   "source": [
    "# 1. My Solution"
   ]
  },
  {
   "cell_type": "code",
   "execution_count": 29,
   "metadata": {},
   "outputs": [],
   "source": [
    "def decision(data):\n",
    "    dec = 0\n",
    "    for index in range(len(data) - 1):\n",
    "        if data[index] < data[index+1]:\n",
    "            dec += 1\n",
    "        else:\n",
    "            dec -= 1\n",
    "            \n",
    "    if dec == len(data) - 1:\n",
    "        print(\"ascending\")\n",
    "    elif dec == -(len(data) - 1):\n",
    "        print(\"descending\")\n",
    "    else:\n",
    "        print(\"mixed\")"
   ]
  },
  {
   "cell_type": "code",
   "execution_count": 32,
   "metadata": {},
   "outputs": [
    {
     "name": "stdout",
     "output_type": "stream",
     "text": [
      "4 6 8 5 2\n",
      "mixed\n"
     ]
    }
   ],
   "source": [
    "data = list(map(int, input().split()))\n",
    "decision(data)"
   ]
  },
  {
   "cell_type": "markdown",
   "metadata": {},
   "source": [
    "# 2. 강의 Solution"
   ]
  },
  {
   "cell_type": "code",
   "execution_count": 34,
   "metadata": {},
   "outputs": [
    {
     "name": "stdout",
     "output_type": "stream",
     "text": [
      "1 2 3 4 5 6 7 8\n",
      "ascending\n"
     ]
    }
   ],
   "source": [
    "a = list(map(int, input().split(' ')))\n",
    "\n",
    "ascending = True\n",
    "descending = True\n",
    "\n",
    "for i in range(1, 8):\n",
    "    if a[i] > a[i-1]:\n",
    "        descending = False\n",
    "    elif a[i] < a[i - 1]:\n",
    "        ascending = False\n",
    "        \n",
    "if ascending:\n",
    "    print(\"ascending\")\n",
    "elif descending:\n",
    "    print(\"descending\")\n",
    "else:\n",
    "    print(\"mixed\")"
   ]
  },
  {
   "cell_type": "code",
   "execution_count": null,
   "metadata": {},
   "outputs": [],
   "source": []
  }
 ],
 "metadata": {
  "kernelspec": {
   "display_name": "Python 3",
   "language": "python",
   "name": "python3"
  },
  "language_info": {
   "codemirror_mode": {
    "name": "ipython",
    "version": 3
   },
   "file_extension": ".py",
   "mimetype": "text/x-python",
   "name": "python",
   "nbconvert_exporter": "python",
   "pygments_lexer": "ipython3",
   "version": "3.7.5"
  }
 },
 "nbformat": 4,
 "nbformat_minor": 4
}

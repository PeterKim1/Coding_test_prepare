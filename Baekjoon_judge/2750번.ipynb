{
 "cells": [
  {
   "cell_type": "markdown",
   "metadata": {},
   "source": [
    "# 1. My solution"
   ]
  },
  {
   "cell_type": "code",
   "execution_count": 2,
   "metadata": {},
   "outputs": [
    {
     "name": "stdout",
     "output_type": "stream",
     "text": [
      "5\n",
      "5\n",
      "2\n",
      "3\n",
      "4\n",
      "1\n",
      "1\n",
      "2\n",
      "3\n",
      "4\n",
      "5\n"
     ]
    }
   ],
   "source": [
    "N = int(input())\n",
    "number_list = []\n",
    "for _ in range(N):\n",
    "    Num = int(input())\n",
    "    number_list.append(Num)\n",
    "\n",
    "def bubble(data):\n",
    "    for turn in range(len(data) - 1):\n",
    "        change = False\n",
    "        for idx in range(len(data) - 1 - turn):\n",
    "            if data[idx] > data[idx + 1]:\n",
    "                data[idx], data[idx+1] = data[idx + 1], data[idx]\n",
    "                change = True\n",
    "                \n",
    "        if change == False:\n",
    "            break\n",
    "    return data\n",
    "\n",
    "final_list = bubble(number_list)\n",
    "\n",
    "for sam in final_list:\n",
    "    print(sam)"
   ]
  },
  {
   "cell_type": "markdown",
   "metadata": {},
   "source": [
    "# 2. 강의 Solution"
   ]
  },
  {
   "cell_type": "code",
   "execution_count": 3,
   "metadata": {},
   "outputs": [
    {
     "name": "stdout",
     "output_type": "stream",
     "text": [
      "5\n",
      "5\n",
      "2\n",
      "3\n",
      "4\n",
      "1\n",
      "1\n",
      "2\n",
      "3\n",
      "4\n",
      "5\n"
     ]
    }
   ],
   "source": [
    "N = int(input())\n",
    "number_list = []\n",
    "for _ in range(N):\n",
    "    Num = int(input())\n",
    "    number_list.append(Num)\n",
    "\n",
    "number_list.sort() # python의 .sort는 O(nlogn)을 보장하므로 사용 가능.\n",
    "\n",
    "for sam in final_list:\n",
    "    print(sam)"
   ]
  }
 ],
 "metadata": {
  "kernelspec": {
   "display_name": "Python 3",
   "language": "python",
   "name": "python3"
  },
  "language_info": {
   "codemirror_mode": {
    "name": "ipython",
    "version": 3
   },
   "file_extension": ".py",
   "mimetype": "text/x-python",
   "name": "python",
   "nbconvert_exporter": "python",
   "pygments_lexer": "ipython3",
   "version": "3.7.5"
  }
 },
 "nbformat": 4,
 "nbformat_minor": 4
}

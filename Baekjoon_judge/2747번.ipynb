{
 "cells": [
  {
   "cell_type": "markdown",
   "metadata": {},
   "source": [
    "# 1. My Solution\n",
    "\n",
    "원래는 재귀함수를 이용해서 짰는데, 시간 초과가 떴다.\n",
    "\n",
    "그래서 메모이제이션 느낌으로 해서 list 안에 결과를 저장하게 만든 다음에 마지막 list 요소를 뽑는 식으로 하면 연산량도 훨씬 줄어들 것 같았다."
   ]
  },
  {
   "cell_type": "code",
   "execution_count": null,
   "metadata": {},
   "outputs": [],
   "source": [
    "import sys\n",
    "\n",
    "n = int(sys.stdin.readline())\n",
    "\n",
    "result = [0 for i in range(n + 1)]\n",
    "\n",
    "result[0] = 0\n",
    "result[1] = 1\n",
    "\n",
    "for i in range(2, n + 1):\n",
    "    result[i] = result[i - 1] + result[i - 2]\n",
    "\n",
    "print(result[n])\n"
   ]
  },
  {
   "cell_type": "markdown",
   "metadata": {},
   "source": [
    "# 2. 강의 Solution"
   ]
  },
  {
   "cell_type": "code",
   "execution_count": null,
   "metadata": {},
   "outputs": [],
   "source": [
    "n = int(input())\n",
    "\n",
    "a, b = 0, 1\n",
    "\n",
    "while n > 0:\n",
    "    a, b = b, a+b\n",
    "    n -= 1\n",
    "    \n",
    "print(a)"
   ]
  }
 ],
 "metadata": {
  "kernelspec": {
   "display_name": "Python 3",
   "language": "python",
   "name": "python3"
  },
  "language_info": {
   "codemirror_mode": {
    "name": "ipython",
    "version": 3
   },
   "file_extension": ".py",
   "mimetype": "text/x-python",
   "name": "python",
   "nbconvert_exporter": "python",
   "pygments_lexer": "ipython3",
   "version": "3.7.5"
  }
 },
 "nbformat": 4,
 "nbformat_minor": 4
}

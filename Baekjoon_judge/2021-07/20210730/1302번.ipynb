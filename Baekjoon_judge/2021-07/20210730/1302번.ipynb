{
 "cells": [
  {
   "cell_type": "markdown",
   "metadata": {},
   "source": [
    "# 1. My Solution\n",
    "\n",
    "\n",
    "가장 많이 팔린 책의 제목을 출력해야 하는데, 가장 많이 팔린 책이 여러 개인 경우에는 사전 순으로 가장 앞서는 제목을 출력해야 하는 문제이다.\n",
    "\n",
    "따라서, 먼저 제목 기준으로 정렬을 한다. (이러면 모든 값들이 애초에 제목 기준으로 정렬됨)\n",
    "\n",
    "그리고 나서 다시 판매된 양을 기준으로 정렬하게 되면 같은 개수 만큼 팔린 책이여도 이름 정렬이 사전 순으로 정렬된다."
   ]
  },
  {
   "cell_type": "code",
   "execution_count": 12,
   "metadata": {},
   "outputs": [
    {
     "name": "stdout",
     "output_type": "stream",
     "text": [
      "5\n",
      "top\n",
      "top\n",
      "top\n",
      "top\n",
      "kimtop\n",
      "top\n"
     ]
    }
   ],
   "source": [
    "N = int(input())\n",
    "result_dict = dict()\n",
    "\n",
    "for _ in range(N):\n",
    "    title = input()\n",
    "    \n",
    "    if title in result_dict:\n",
    "        result_dict[title] += 1\n",
    "    else:\n",
    "        result_dict[title] = 1\n",
    "\n",
    "\n",
    "result_dict = dict(sorted(result_dict.items()))\n",
    "result_dict = sorted(result_dict.items(), reverse = True, key = lambda x: x[1])\n",
    "print(result_dict[0][0])"
   ]
  },
  {
   "cell_type": "markdown",
   "metadata": {},
   "source": [
    "# 2. 강의 Solution"
   ]
  },
  {
   "cell_type": "code",
   "execution_count": null,
   "metadata": {},
   "outputs": [],
   "source": [
    "n = int(input())\n",
    "\n",
    "books = {}\n",
    "\n",
    "for _ in range(n):\n",
    "    book = input()\n",
    "    if book not in books:\n",
    "        books[book] = 1\n",
    "    else:\n",
    "        books[book] + 1\n",
    "        \n",
    "target = max(books.values())\n",
    "array = []\n",
    "\n",
    "for book, number in books.items():\n",
    "    if number == target:\n",
    "        array.append(book)\n",
    "        \n",
    "print(sorted(array)[0])"
   ]
  }
 ],
 "metadata": {
  "kernelspec": {
   "display_name": "Python 3",
   "language": "python",
   "name": "python3"
  },
  "language_info": {
   "codemirror_mode": {
    "name": "ipython",
    "version": 3
   },
   "file_extension": ".py",
   "mimetype": "text/x-python",
   "name": "python",
   "nbconvert_exporter": "python",
   "pygments_lexer": "ipython3",
   "version": "3.7.5"
  }
 },
 "nbformat": 4,
 "nbformat_minor": 4
}

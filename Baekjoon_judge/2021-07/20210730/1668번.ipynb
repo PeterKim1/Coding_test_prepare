{
 "cells": [
  {
   "cell_type": "markdown",
   "metadata": {},
   "source": [
    "# 1. My Solution\n",
    "\n",
    "왼쪽 기준으로 보자면 가장 높은 것에 가려서 안 보이는 컨셉이다.\n",
    "\n",
    "따라서 트로피의 각 높이에 대해서 한번씩 다 검사를 하되, 그 때까지 가장 높았던 높이와 비교해서 이보다 크면 해당 트로피가 보일 것이고 그렇지 않으면 가려져서 안 보이게 된다.\n",
    "\n",
    "이를 감안해서 가장 높은 높이를 저장하는 변수를 둬서 더 높은 높이에 의해 갱신되도록 만들었다.\n",
    "\n",
    "오른쪽으로 봤을 때는 코드는 그대로 가져가되 방향만 반대로 바뀌면 되므로 reversed로 뒤집는다.\n",
    "\n",
    "트로피의 개수는 1 <= N <= 50이므로 시간 복잡도 관련해서는 크게 고려하지 않았다."
   ]
  },
  {
   "cell_type": "code",
   "execution_count": 6,
   "metadata": {},
   "outputs": [
    {
     "name": "stdout",
     "output_type": "stream",
     "text": [
      "6\n",
      "1\n",
      "6\n",
      "4\n",
      "5\n",
      "2\n",
      "7\n",
      "3\n",
      "1\n"
     ]
    }
   ],
   "source": [
    "N = int(input())\n",
    "left = []\n",
    "left_cnt = 0\n",
    "left_high = 0\n",
    "\n",
    "right_cnt = 0\n",
    "right_high = 0\n",
    "\n",
    "for _ in range(N):\n",
    "    height = int(input())\n",
    "    left.append(height)\n",
    "    \n",
    "right = list(reversed(left))    \n",
    "\n",
    "for idx in range(len(left)):\n",
    "    if left[idx] > left_high:\n",
    "        left_high = left[idx]\n",
    "        left_cnt += 1\n",
    "\n",
    "for idx in range(len(right)):\n",
    "    if right[idx] > right_high:\n",
    "        right_high = right[idx]\n",
    "        right_cnt += 1\n",
    "        \n",
    "\n",
    "print(left_cnt)\n",
    "print(right_cnt)"
   ]
  }
 ],
 "metadata": {
  "kernelspec": {
   "display_name": "Python 3",
   "language": "python",
   "name": "python3"
  },
  "language_info": {
   "codemirror_mode": {
    "name": "ipython",
    "version": 3
   },
   "file_extension": ".py",
   "mimetype": "text/x-python",
   "name": "python",
   "nbconvert_exporter": "python",
   "pygments_lexer": "ipython3",
   "version": "3.7.5"
  }
 },
 "nbformat": 4,
 "nbformat_minor": 4
}

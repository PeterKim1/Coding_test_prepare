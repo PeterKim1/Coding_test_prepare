{
 "cells": [
  {
   "cell_type": "markdown",
   "metadata": {},
   "source": [
    "# 1. My Solution\n"
   ]
  },
  {
   "cell_type": "code",
   "execution_count": 32,
   "metadata": {},
   "outputs": [
    {
     "name": "stdout",
     "output_type": "stream",
     "text": [
      "4 4\n",
      "....\n",
      "....\n",
      "....\n",
      "....\n",
      "4\n"
     ]
    }
   ],
   "source": [
    "N, M = map(int, input().split())\n",
    "\n",
    "total_list = [[0 for i in range(M)] for i in range(N)]\n",
    "\n",
    "for idx in range(N):\n",
    "    status = list(map(str, input()))\n",
    "    for i in range(len(status)):\n",
    "        if status[i] == 'X':\n",
    "            total_list[idx][i] = 1\n",
    "\n",
    "# 열 기준\n",
    "col_count = 0\n",
    "for m in range(M):\n",
    "    ex = False\n",
    "    for n in range(N):\n",
    "        if total_list[n][m] == 1:\n",
    "            ex = True\n",
    "    if ex == False:\n",
    "        col_count += 1\n",
    "\n",
    "# 행 기준\n",
    "row_count = 0\n",
    "for n in range(N):\n",
    "    if 1 not in total_list[n]:\n",
    "        row_count += 1\n",
    "\n",
    "print(max(col_count,row_count))"
   ]
  },
  {
   "cell_type": "markdown",
   "metadata": {},
   "source": [
    "# 2. 강의 Solution"
   ]
  },
  {
   "cell_type": "code",
   "execution_count": null,
   "metadata": {},
   "outputs": [],
   "source": [
    "n, m = map(int, input().split())\n",
    "array = []\n",
    "\n",
    "for _ in range(n):\n",
    "    array.append(input())\n",
    "    \n",
    "row = [0] * n\n",
    "column = [0] * m\n",
    "\n",
    "for i in range(n):\n",
    "    for j in range(m):\n",
    "        if array[i][j] == 'X':\n",
    "            row[i] = 1\n",
    "            column[j] = 1\n",
    "            \n",
    "row_count = 0\n",
    "for i in range(n):\n",
    "    if row[i] == 0:\n",
    "        row_count += 1\n",
    "        \n",
    "column_count = 0\n",
    "for j in range(m):\n",
    "    if column[j] == 0:\n",
    "        column_count += 1\n",
    "\n",
    "print(max(row_count, column_count))"
   ]
  }
 ],
 "metadata": {
  "kernelspec": {
   "display_name": "Python 3",
   "language": "python",
   "name": "python3"
  },
  "language_info": {
   "codemirror_mode": {
    "name": "ipython",
    "version": 3
   },
   "file_extension": ".py",
   "mimetype": "text/x-python",
   "name": "python",
   "nbconvert_exporter": "python",
   "pygments_lexer": "ipython3",
   "version": "3.7.5"
  }
 },
 "nbformat": 4,
 "nbformat_minor": 4
}

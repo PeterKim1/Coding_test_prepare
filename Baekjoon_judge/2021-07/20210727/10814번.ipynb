{
 "cells": [
  {
   "cell_type": "markdown",
   "metadata": {},
   "source": [
    "# 1. My Solution"
   ]
  },
  {
   "cell_type": "markdown",
   "metadata": {},
   "source": [
    "age, name을 split해서 받은 다음 total_list에 append \n",
    "\n",
    "이후에 key에 lambda 함수를 이용해서 나이 순으로 정렬하도록"
   ]
  },
  {
   "cell_type": "code",
   "execution_count": 15,
   "metadata": {},
   "outputs": [
    {
     "name": "stdout",
     "output_type": "stream",
     "text": [
      "3\n",
      "21 Junkyu\n",
      "21 Dohyun\n",
      "20 Sunyoung\n",
      "20 Sunyoung\n",
      "21 Junkyu\n",
      "21 Dohyun\n"
     ]
    }
   ],
   "source": [
    "N = int(input())\n",
    "\n",
    "total_list = []\n",
    "\n",
    "for idx in range(N):\n",
    "    age, name = input().split()\n",
    "    total_list.append([int(age), name])\n",
    "    \n",
    "total_list.sort(key = lambda x: x[0])\n",
    "\n",
    "for sample in total_list:\n",
    "    print(sample[0], sample[1])"
   ]
  }
 ],
 "metadata": {
  "kernelspec": {
   "display_name": "Python 3",
   "language": "python",
   "name": "python3"
  },
  "language_info": {
   "codemirror_mode": {
    "name": "ipython",
    "version": 3
   },
   "file_extension": ".py",
   "mimetype": "text/x-python",
   "name": "python",
   "nbconvert_exporter": "python",
   "pygments_lexer": "ipython3",
   "version": "3.7.5"
  }
 },
 "nbformat": 4,
 "nbformat_minor": 4
}

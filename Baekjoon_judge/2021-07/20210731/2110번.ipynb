{
 "cells": [
  {
   "cell_type": "markdown",
   "metadata": {},
   "source": [
    "# 1. 강의 Solution"
   ]
  },
  {
   "cell_type": "code",
   "execution_count": 8,
   "metadata": {},
   "outputs": [
    {
     "name": "stdout",
     "output_type": "stream",
     "text": [
      "5 3\n",
      "1\n",
      "2\n",
      "8\n",
      "4\n",
      "9\n",
      "3\n"
     ]
    }
   ],
   "source": [
    "N, C = map(int, input().split())\n",
    "array = []\n",
    "\n",
    "for _ in range(N):\n",
    "    point = int(input())\n",
    "    array.append(point)\n",
    "    \n",
    "array = sorted(array)\n",
    "\n",
    "start = array[1] - array[0] # min\n",
    "end = array[-1] - array[0] # max\n",
    "result = 0\n",
    "\n",
    "while(start <= end):\n",
    "    mid = (start + end) // 2 # mid는 Gap을 의미\n",
    "    value = array[0]\n",
    "    count = 1\n",
    "    for i in range(1, len(array)):\n",
    "        if array[i] >= value + mid:\n",
    "            value = array[i] # 기준점 이동\n",
    "            count += 1\n",
    "    if count >= C: # C개 이상의 공유기를 설치할 수 있는 경우\n",
    "        start = mid + 1\n",
    "        result = mid\n",
    "    else:\n",
    "        end = mid - 1 # mid의 왼쪽을 탐색하는 개념\n",
    "\n",
    "print(result)\n",
    "        \n",
    "    \n",
    "\n"
   ]
  }
 ],
 "metadata": {
  "kernelspec": {
   "display_name": "Python 3",
   "language": "python",
   "name": "python3"
  },
  "language_info": {
   "codemirror_mode": {
    "name": "ipython",
    "version": 3
   },
   "file_extension": ".py",
   "mimetype": "text/x-python",
   "name": "python",
   "nbconvert_exporter": "python",
   "pygments_lexer": "ipython3",
   "version": "3.7.5"
  }
 },
 "nbformat": 4,
 "nbformat_minor": 4
}

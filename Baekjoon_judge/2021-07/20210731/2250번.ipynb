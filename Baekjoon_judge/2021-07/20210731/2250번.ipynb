{
 "cells": [
  {
   "cell_type": "markdown",
   "metadata": {},
   "source": [
    "# 1. 강의 Solution"
   ]
  },
  {
   "cell_type": "code",
   "execution_count": 22,
   "metadata": {},
   "outputs": [
    {
     "name": "stdout",
     "output_type": "stream",
     "text": [
      "19\n",
      "1 2 3\n",
      "2 4 5\n",
      "3 6 7\n",
      "4 8 -1\n",
      "5 9 10\n",
      "6 11 12\n",
      "7 13 -1\n",
      "8 -1 -1\n",
      "9 14 15\n",
      "10 -1 -1\n",
      "11 16 -1\n",
      "12 -1 -1\n",
      "13 17 -1\n",
      "14 -1 -1\n",
      "15 18 -1\n",
      "16 -1 -1\n",
      "17 -1 19\n",
      "18 -1 -1\n",
      "19 -1 -1\n",
      "3 18\n"
     ]
    }
   ],
   "source": [
    "class Node:\n",
    "    def __init__(self, number, left_node, right_node):\n",
    "        self.parent = -1\n",
    "        self.number = number\n",
    "        self.left_node = left_node\n",
    "        self.right_node = right_node\n",
    "        \n",
    "\n",
    "def in_order(node, level):\n",
    "    global level_depth, x\n",
    "    level_depth = max(level_depth, level) # depth를 반복해서 저장\n",
    "    if node.left_node != -1: # 왼쪽 노드가 존재한다면\n",
    "        in_order(tree[node.left_node], level + 1) # 왼쪽으로 순회, level 1 증가\n",
    "    level_min[level] = min(level_min[level], x)\n",
    "    level_max[level] = max(level_max[level], x)\n",
    "    x += 1\n",
    "    if node.right_node != -1:\n",
    "        in_order(tree[node.right_node], level + 1)\n",
    "        \n",
    "n = int(input())\n",
    "tree = {}\n",
    "level_min = [n] # 각 level의 최소 좌표\n",
    "level_max = [0] # 각 level의 최대 좌표\n",
    "root = -1\n",
    "x = 1 # x 좌표 위치\n",
    "level_depth = 1 # 트리의 최종 depth를 저장\n",
    "\n",
    "# 트리 최초 setting, 각 노드에 데이터 값만 집어넣음\n",
    "for i in range(1, n+1):\n",
    "    tree[i] = Node(i, -1, -1) # 왼쪽, 오른쪽 노드 -1로 지정\n",
    "    level_min.append(n)\n",
    "    level_max.append(0)\n",
    "    \n",
    "# Node 정보 setting\n",
    "for _ in range(n):\n",
    "    number, left_node, right_node = map(int, input().split())\n",
    "    tree[number].left_node = left_node\n",
    "    tree[number].right_node = right_node\n",
    "    if left_node != -1: # left 노드가 있다면\n",
    "        tree[left_node].parent = number\n",
    "    if right_node != -1: # right 노드가 있다면\n",
    "        tree[right_node].parent = number\n",
    "\n",
    "# parent가 없는 root 노드 찾기\n",
    "for i in range(1, n+1):\n",
    "    if tree[i].parent == -1:\n",
    "        root = i\n",
    "\n",
    "# 중위순회를 root 노드 기준으로 진행\n",
    "in_order(tree[root], 1)\n",
    "\n",
    "# 최종적으로 level과 width를 구하는 과정\n",
    "# level_max와 level_min은 결국 각 level의 너비 최대와 너비 최소를 가지고 있게 된다.\n",
    "result_level = 1\n",
    "result_width = level_max[1] - level_min[1] + 1\n",
    "for i in range(2, level_depth + 1):\n",
    "    width = level_max[i] - level_min[i] + 1\n",
    "    if result_width < width:\n",
    "        result_level = i\n",
    "        result_width = width\n",
    "        \n",
    "print(result_level, result_width)"
   ]
  }
 ],
 "metadata": {
  "kernelspec": {
   "display_name": "Python 3",
   "language": "python",
   "name": "python3"
  },
  "language_info": {
   "codemirror_mode": {
    "name": "ipython",
    "version": 3
   },
   "file_extension": ".py",
   "mimetype": "text/x-python",
   "name": "python",
   "nbconvert_exporter": "python",
   "pygments_lexer": "ipython3",
   "version": "3.7.5"
  }
 },
 "nbformat": 4,
 "nbformat_minor": 4
}

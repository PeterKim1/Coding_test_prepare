{
 "cells": [
  {
   "cell_type": "markdown",
   "metadata": {},
   "source": [
    "# 1. 강의 Solution\n",
    "\n",
    "트리를 표현할 때는 반드시 Node class를 사용하여 만들자."
   ]
  },
  {
   "cell_type": "code",
   "execution_count": 6,
   "metadata": {},
   "outputs": [
    {
     "name": "stdout",
     "output_type": "stream",
     "text": [
      "7\n",
      "A B C\n",
      "B D .\n",
      "C E F\n",
      "E . .\n",
      "F . G\n",
      "D . .\n",
      "G . .\n",
      "ABDCEFG\n",
      "DBAECFG\n",
      "DBEGFCA"
     ]
    }
   ],
   "source": [
    "class Node:\n",
    "    def __init__(self, data, left_node, right_node):\n",
    "        self.data = data\n",
    "        self.left_node = left_node\n",
    "        self.right_node = right_node\n",
    "\n",
    "def pre_order(node):\n",
    "    print(node.data, end ='')\n",
    "    if node.left_node != '.':\n",
    "        pre_order(tree[node.left_node])\n",
    "    if node.right_node != '.':\n",
    "        pre_order(tree[node.right_node])\n",
    "        \n",
    "def in_order(node):\n",
    "    if node.left_node != '.':\n",
    "        in_order(tree[node.left_node])\n",
    "    print(node.data, end='')\n",
    "    if node.right_node != '.':\n",
    "        in_order(tree[node.right_node])\n",
    "        \n",
    "def post_order(node):\n",
    "    if node.left_node != '.':\n",
    "        post_order(tree[node.left_node])\n",
    "    if node.right_node != '.':\n",
    "        post_order(tree[node.right_node])\n",
    "    print(node.data, end = '')\n",
    "\n",
    "\n",
    "N = int(input())\n",
    "tree = {} # 간단하게 구현할 때 dictionary를 활용할 수 있음\n",
    "        \n",
    "for idx in range(N):\n",
    "    node, left, right = input().split()\n",
    "    tree[node] = Node(node, left, right)\n",
    "\n",
    "\n",
    "pre_order(tree['A'])\n",
    "print()\n",
    "in_order(tree['A'])\n",
    "print()\n",
    "post_order(tree['A'])\n",
    "        "
   ]
  },
  {
   "cell_type": "code",
   "execution_count": null,
   "metadata": {},
   "outputs": [],
   "source": []
  }
 ],
 "metadata": {
  "kernelspec": {
   "display_name": "Python 3",
   "language": "python",
   "name": "python3"
  },
  "language_info": {
   "codemirror_mode": {
    "name": "ipython",
    "version": 3
   },
   "file_extension": ".py",
   "mimetype": "text/x-python",
   "name": "python",
   "nbconvert_exporter": "python",
   "pygments_lexer": "ipython3",
   "version": "3.7.5"
  }
 },
 "nbformat": 4,
 "nbformat_minor": 4
}

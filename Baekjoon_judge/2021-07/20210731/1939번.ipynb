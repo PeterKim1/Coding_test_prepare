{
 "cells": [
  {
   "cell_type": "markdown",
   "metadata": {},
   "source": [
    "# 1. 강의 Solution"
   ]
  },
  {
   "cell_type": "code",
   "execution_count": 35,
   "metadata": {},
   "outputs": [
    {
     "name": "stdout",
     "output_type": "stream",
     "text": [
      "3 3\n",
      "1 2 2\n",
      "3 1 3\n",
      "2 3 2\n",
      "1 3\n",
      "start: 2 end:  3\n",
      "mid:  2\n",
      "result:  2\n",
      "queue:  deque([1])\n",
      "adj[x]: [(2, 2), (3, 3)]\n",
      "queue:  deque([2, 3])\n",
      "adj[x]: [(1, 2), (3, 2)]\n",
      "queue:  deque([3])\n",
      "adj[x]: [(1, 3), (2, 2)]\n",
      "start: 3 end:  3\n",
      "mid:  3\n",
      "result:  2\n",
      "queue:  deque([1])\n",
      "adj[x]: [(2, 2), (3, 3)]\n",
      "queue:  deque([3])\n",
      "adj[x]: [(1, 3), (2, 2)]\n",
      "3\n"
     ]
    }
   ],
   "source": [
    "from collections import deque\n",
    "\n",
    "n, m = map(int, input().split())\n",
    "adj = [[] for _ in range(n+1)]\n",
    "\n",
    "def bfs(c):\n",
    "    queue = deque([start_node])\n",
    "    visited = [False] * (n + 1)\n",
    "    visited[start_node] = True\n",
    "    while queue:\n",
    "        print(\"queue: \", queue)\n",
    "        x = queue.popleft()\n",
    "        print(\"adj[x]:\", adj[x])\n",
    "        for y, weight in adj[x]:\n",
    "            if not visited[y] and weight >= c:\n",
    "                visited[y] = True\n",
    "                queue.append(y)\n",
    "    return visited[end_node]\n",
    "\n",
    "start = 1000000000\n",
    "end = 1\n",
    "\n",
    "for _ in range(m):\n",
    "    x, y, weight = map(int, input().split())\n",
    "    adj[x].append((y, weight))\n",
    "    adj[y].append((x, weight))\n",
    "    start = min(start, weight)\n",
    "    end = max(end, weight)\n",
    "\n",
    "\n",
    "start_node, end_node = map(int, input().split())\n",
    "\n",
    "result = start\n",
    "\n",
    "while start <= end:\n",
    "    mid = (start + end) // 2\n",
    "    if bfs(mid):\n",
    "        result = mid\n",
    "        start = mid + 1\n",
    "    else:\n",
    "        end = mid - 1\n",
    "\n",
    "print(result)"
   ]
  },
  {
   "cell_type": "code",
   "execution_count": null,
   "metadata": {},
   "outputs": [],
   "source": []
  },
  {
   "cell_type": "code",
   "execution_count": 39,
   "metadata": {},
   "outputs": [
    {
     "name": "stdout",
     "output_type": "stream",
     "text": [
      "3 3\n",
      "1 2 2\n",
      "3 1 3\n",
      "2 3 2\n",
      "2 3\n",
      "1 3\n",
      "3\n"
     ]
    }
   ],
   "source": [
    "# Deque 사용하지 않고 list로 구현\n",
    "\n",
    "n, m = map(int, input().split())\n",
    "adj = [[] for i in range(n+1)]\n",
    "\n",
    "\n",
    "def bfs(capa):\n",
    "    queue = []\n",
    "    queue.append(start_node)\n",
    "    visited = [False] * (n+1)\n",
    "    visited[start_node] = True\n",
    "    \n",
    "    while queue:\n",
    "        x = queue.pop(0)\n",
    "        for y, weight in adj[x]:\n",
    "            if not visited[y] and weight >= capa:\n",
    "                visited[y] = True\n",
    "                queue.append(y)\n",
    "    \n",
    "    return visited[end_node]\n",
    "\n",
    "start = 1000000000\n",
    "end = 1\n",
    "\n",
    "\n",
    "for _ in range(m):\n",
    "    a, b, capa = map(int, input().split())\n",
    "    adj[a].append((b, capa))\n",
    "    adj[b].append((a, capa))\n",
    "    start = min(start, capa)\n",
    "    end = max(end, capa)\n",
    "    \n",
    "print(start, end)\n",
    "start_node, end_node = map(int, input().split())\n",
    "result = start\n",
    "\n",
    "while start <= end:\n",
    "    mid = (start + end) // 2\n",
    "    if bfs(mid):\n",
    "        result = mid\n",
    "        start = mid + 1\n",
    "    else:\n",
    "        end = mid - 1\n",
    "\n",
    "print(result)\n",
    "\n"
   ]
  },
  {
   "cell_type": "code",
   "execution_count": null,
   "metadata": {},
   "outputs": [],
   "source": []
  }
 ],
 "metadata": {
  "kernelspec": {
   "display_name": "Python 3",
   "language": "python",
   "name": "python3"
  },
  "language_info": {
   "codemirror_mode": {
    "name": "ipython",
    "version": 3
   },
   "file_extension": ".py",
   "mimetype": "text/x-python",
   "name": "python",
   "nbconvert_exporter": "python",
   "pygments_lexer": "ipython3",
   "version": "3.7.5"
  }
 },
 "nbformat": 4,
 "nbformat_minor": 4
}

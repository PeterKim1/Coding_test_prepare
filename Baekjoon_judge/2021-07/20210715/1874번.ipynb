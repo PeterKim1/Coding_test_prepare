{
 "cells": [
  {
   "cell_type": "markdown",
   "metadata": {},
   "source": [
    "https://www.acmicpc.net/problem/1874"
   ]
  },
  {
   "cell_type": "markdown",
   "metadata": {},
   "source": [
    "# 1. 강의 Solution + 추가"
   ]
  },
  {
   "cell_type": "code",
   "execution_count": 3,
   "metadata": {},
   "outputs": [
    {
     "name": "stdout",
     "output_type": "stream",
     "text": [
      "8\n",
      "4\n",
      "3\n",
      "6\n",
      "8\n",
      "7\n",
      "5\n",
      "2\n",
      "1\n",
      "+\n",
      "+\n",
      "+\n",
      "+\n",
      "-\n",
      "-\n",
      "+\n",
      "+\n",
      "-\n",
      "+\n",
      "+\n",
      "-\n",
      "-\n",
      "-\n",
      "-\n",
      "-\n"
     ]
    }
   ],
   "source": [
    "n = int(input())\n",
    "\n",
    "def func():\n",
    "    count = 1\n",
    "    stack = []\n",
    "    result = []\n",
    "    for i in range(1, n + 1):\n",
    "        number = int(input())\n",
    "        while count <= number:\n",
    "            stack.append(count)\n",
    "            count += 1\n",
    "            result.append('+')\n",
    "        if stack[-1] == number:\n",
    "            stack.pop()\n",
    "            result.append('-')\n",
    "        else:\n",
    "            print(\"NO\")\n",
    "            return\n",
    "    print('\\n'.join(result))\n",
    "    \n",
    "func()"
   ]
  }
 ],
 "metadata": {
  "kernelspec": {
   "display_name": "Python 3",
   "language": "python",
   "name": "python3"
  },
  "language_info": {
   "codemirror_mode": {
    "name": "ipython",
    "version": 3
   },
   "file_extension": ".py",
   "mimetype": "text/x-python",
   "name": "python",
   "nbconvert_exporter": "python",
   "pygments_lexer": "ipython3",
   "version": "3.7.5"
  }
 },
 "nbformat": 4,
 "nbformat_minor": 4
}

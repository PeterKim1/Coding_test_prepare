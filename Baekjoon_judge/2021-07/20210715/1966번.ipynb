{
 "cells": [
  {
   "cell_type": "markdown",
   "metadata": {},
   "source": [
    "https://www.acmicpc.net/problem/1966"
   ]
  },
  {
   "cell_type": "markdown",
   "metadata": {},
   "source": [
    "# 1. My solution"
   ]
  },
  {
   "cell_type": "code",
   "execution_count": 12,
   "metadata": {},
   "outputs": [
    {
     "name": "stdout",
     "output_type": "stream",
     "text": [
      "3\n",
      "1 0\n",
      "5\n",
      "1\n",
      "4 2\n",
      "1 2 3 4\n",
      "2\n",
      "6 0\n",
      "1 1 9 1 1 1\n",
      "5\n"
     ]
    }
   ],
   "source": [
    "number = int(input())\n",
    "\n",
    "for i in range(number):\n",
    "    N, M = map(int, input().split()) # 문서의 개수, 몇 번째 놓여있는지\n",
    "    priority = list(map(int, input().split())) # 우선순위\n",
    "    count = 0\n",
    "    priority_list = []\n",
    "    for index, prior in enumerate(priority):\n",
    "        if index == M:\n",
    "            priority_list.append([prior, 1]) # 찾는거만 1로\n",
    "        else:\n",
    "            priority_list.append([prior, 0])\n",
    "\n",
    "    \n",
    "    while priority_list:\n",
    "        first = priority_list.pop(0) # 첫 번째 요소\n",
    "        new_prior = []\n",
    "        for p in priority_list:\n",
    "            new_prior.append(p[0])\n",
    "        if len(priority_list[:]) > 1 and max(new_prior[:]) > first[0]:\n",
    "            priority_list.append(first) # 맨 뒤로 보냄\n",
    "        else:\n",
    "            if first[1] == 1:\n",
    "                count += 1\n",
    "                print(count)\n",
    "            else:\n",
    "                count += 1\n",
    "                continue"
   ]
  },
  {
   "cell_type": "markdown",
   "metadata": {},
   "source": [
    "# 2. 강의 Solution"
   ]
  },
  {
   "cell_type": "code",
   "execution_count": 13,
   "metadata": {},
   "outputs": [
    {
     "name": "stdout",
     "output_type": "stream",
     "text": [
      "3\n",
      "1 0\n",
      "5\n",
      "1\n",
      "4 2\n",
      "1 2 3 4\n",
      "2\n",
      "6 0\n",
      "1 1 9 1 1 1\n",
      "5\n"
     ]
    }
   ],
   "source": [
    "test_case = int(input())\n",
    "\n",
    "for _ in range(test_case):\n",
    "    N, M = list(map(int, input().split()))\n",
    "    queue = list(map(int, input().split()))\n",
    "    queue = [(i, idx) for idx, i in enumerate(queue)]\n",
    "    \n",
    "    count = 0\n",
    "    while True:\n",
    "        if queue[0][0] == max(queue, key = lambda x: x[0])[0]:\n",
    "            count += 1\n",
    "            if queue[0][1] == M:\n",
    "                print(count)\n",
    "                break\n",
    "            else:\n",
    "                queue.pop(0)\n",
    "        else:\n",
    "            queue.append(queue.pop(0))"
   ]
  }
 ],
 "metadata": {
  "kernelspec": {
   "display_name": "Python 3",
   "language": "python",
   "name": "python3"
  },
  "language_info": {
   "codemirror_mode": {
    "name": "ipython",
    "version": 3
   },
   "file_extension": ".py",
   "mimetype": "text/x-python",
   "name": "python",
   "nbconvert_exporter": "python",
   "pygments_lexer": "ipython3",
   "version": "3.7.5"
  }
 },
 "nbformat": 4,
 "nbformat_minor": 4
}

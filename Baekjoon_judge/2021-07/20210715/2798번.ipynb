{
 "cells": [
  {
   "cell_type": "markdown",
   "metadata": {},
   "source": [
    "https://www.acmicpc.net/problem/2798"
   ]
  },
  {
   "cell_type": "markdown",
   "metadata": {},
   "source": [
    "# 1. My Solution"
   ]
  },
  {
   "cell_type": "code",
   "execution_count": 17,
   "metadata": {},
   "outputs": [
    {
     "name": "stdout",
     "output_type": "stream",
     "text": [
      "10 500\n",
      "93 181 245 214 315 36 185 138 216 295\n",
      "497\n"
     ]
    }
   ],
   "source": [
    "N, M = map(int, input().split(' '))\n",
    "data = list(map(int, input().split(' ')))\n",
    "\n",
    "def black(data_input):\n",
    "    sum_value = 0\n",
    "    for first in range(len(data_input) - 2):\n",
    "        for second in range(first+1, len(data_input) - 1):\n",
    "            for third in range(second+1, len(data_input)):\n",
    "                partial_sum = data_input[first] + data_input[second] + data_input[third]\n",
    "                if partial_sum > M:\n",
    "                    continue\n",
    "                elif partial_sum == M: # 만약 같은 경우가 있으면 여기서 출력하고 땡\n",
    "                    print(partial_sum)\n",
    "                    return\n",
    "                else: # M보다 작은 경우\n",
    "                    if sum_value < partial_sum: # partial_sum이 더 크면\n",
    "                        sum_value = partial_sum # 갱신\n",
    "                    else: # 아니면\n",
    "                        continue # 넘어감\n",
    "    print(sum_value)\n",
    "\n",
    "black(data)"
   ]
  },
  {
   "cell_type": "markdown",
   "metadata": {},
   "source": [
    "# 2. 강의 Solution"
   ]
  },
  {
   "cell_type": "code",
   "execution_count": 16,
   "metadata": {},
   "outputs": [
    {
     "name": "stdout",
     "output_type": "stream",
     "text": [
      "10 500\n",
      "93 181 245 214 315 36 185 138 216 295\n",
      "497\n"
     ]
    }
   ],
   "source": [
    "n, m = list(map(int, input().split(' ')))\n",
    "data = list(map(int, input().split(' ')))\n",
    "\n",
    "result = 0\n",
    "length = len(data)\n",
    "\n",
    "count = 0\n",
    "for i in range(0, length):\n",
    "    for j in range(i+1, length):\n",
    "        for k in range(j+1, length):\n",
    "            sum_value = data[i] + data[j] + data[k]\n",
    "            if sum_value <= m:\n",
    "                result = max(result, sum_value)\n",
    "print(result)"
   ]
  },
  {
   "cell_type": "code",
   "execution_count": null,
   "metadata": {},
   "outputs": [],
   "source": []
  }
 ],
 "metadata": {
  "kernelspec": {
   "display_name": "Python 3",
   "language": "python",
   "name": "python3"
  },
  "language_info": {
   "codemirror_mode": {
    "name": "ipython",
    "version": 3
   },
   "file_extension": ".py",
   "mimetype": "text/x-python",
   "name": "python",
   "nbconvert_exporter": "python",
   "pygments_lexer": "ipython3",
   "version": "3.7.5"
  }
 },
 "nbformat": 4,
 "nbformat_minor": 4
}

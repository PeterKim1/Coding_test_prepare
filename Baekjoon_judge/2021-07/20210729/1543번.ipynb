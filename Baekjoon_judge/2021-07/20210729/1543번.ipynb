{
 "cells": [
  {
   "cell_type": "markdown",
   "metadata": {},
   "source": [
    "# 1. My Solution\n",
    "\n",
    "찾으려고 하는 단어 크기만큼을 기준으로 sliding 시키면서 확인하되, 만약 단어와 동일한 경우는 단어의 길이 만큼 이동하고, 그렇지 않으면 1칸씩 이동하도록 만듬\n",
    "\n",
    "그리고 만약 남아 있는 길이가 단어의 길이보다 더 작다면, 더 이상 탐색을 진행할 수 없으므로 거기서 멈춰야함. 따라서 while의 조건을 남은 단어의 수와 찾고자 하는 단어의 수를 비교하는 조건을 이용."
   ]
  },
  {
   "cell_type": "code",
   "execution_count": 7,
   "metadata": {},
   "outputs": [
    {
     "name": "stdout",
     "output_type": "stream",
     "text": [
      "a a a a a\n",
      "a a\n",
      "2\n"
     ]
    }
   ],
   "source": [
    "docu = input()\n",
    "word = input()\n",
    "word_length = len(word)\n",
    "cnt = 0\n",
    "start = 0\n",
    "\n",
    "while len(docu[start:]) >= word_length:\n",
    "    candidate = docu[start:start+word_length] # 검사 대상\n",
    "    if candidate == word: # 검사 대상이 찾고자 하는 단어와 동일하면\n",
    "        cnt += 1 # count 하나 추가\n",
    "        start += word_length # start 포인트 이동\n",
    "    else:\n",
    "        start += 1 # 한 칸씩 이동\n",
    "print(cnt)"
   ]
  }
 ],
 "metadata": {
  "kernelspec": {
   "display_name": "Python 3",
   "language": "python",
   "name": "python3"
  },
  "language_info": {
   "codemirror_mode": {
    "name": "ipython",
    "version": 3
   },
   "file_extension": ".py",
   "mimetype": "text/x-python",
   "name": "python",
   "nbconvert_exporter": "python",
   "pygments_lexer": "ipython3",
   "version": "3.7.5"
  }
 },
 "nbformat": 4,
 "nbformat_minor": 4
}

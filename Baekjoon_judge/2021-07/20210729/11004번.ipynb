{
 "cells": [
  {
   "cell_type": "markdown",
   "metadata": {},
   "source": [
    "# 1. My solution\n",
    "\n",
    "수의 개수가 5백만개 정도이고, 수의 범위가 매우 크기 때문에 계수 정렬처럼 각 수에 대한 count를 보관하는 식으로 대응하기가 어렵다.\n",
    "\n",
    "따라서 일반적인 형태의 sorted를 사용하고, K번째 수를 뽑는식으로 풀었다."
   ]
  },
  {
   "cell_type": "code",
   "execution_count": null,
   "metadata": {},
   "outputs": [],
   "source": [
    "import sys\n",
    "N, K = map(int, sys.stdin.readline().split())\n",
    "\n",
    "array = list(map(int, sys.stdin.readline().split()))\n",
    "\n",
    "array = sorted(array)\n",
    "print(array[K-1])"
   ]
  }
 ],
 "metadata": {
  "kernelspec": {
   "display_name": "Python 3",
   "language": "python",
   "name": "python3"
  },
  "language_info": {
   "codemirror_mode": {
    "name": "ipython",
    "version": 3
   },
   "file_extension": ".py",
   "mimetype": "text/x-python",
   "name": "python",
   "nbconvert_exporter": "python",
   "pygments_lexer": "ipython3",
   "version": "3.7.5"
  }
 },
 "nbformat": 4,
 "nbformat_minor": 4
}

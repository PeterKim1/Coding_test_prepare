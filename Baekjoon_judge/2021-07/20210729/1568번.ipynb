{
 "cells": [
  {
   "cell_type": "markdown",
   "metadata": {},
   "source": [
    "# 1. My Solution\n",
    "\n",
    "K만큼씩 새가 날라가고, K는 1씩 커지며 한 번 날아갈 때마다 1씩 카운팅\n",
    "\n",
    "만약 남은 새가 날라가야 할 새의 수 보다 작은 경우는 K를 다시 1로 리셋"
   ]
  },
  {
   "cell_type": "code",
   "execution_count": 1,
   "metadata": {},
   "outputs": [
    {
     "name": "stdout",
     "output_type": "stream",
     "text": [
      "14\n",
      "7\n"
     ]
    }
   ],
   "source": [
    "N = int(input())\n",
    "K = 1 # 처음은 K를 1로 셋팅\n",
    "cnt = 0 # 몇 초 걸렸나요?\n",
    "while N > 0:\n",
    "    if N < K:\n",
    "        K = 1 # 1부터 다시 게임 시작\n",
    "    else: # N >= K\n",
    "        N -= K # K 만큼씩 새가 날라간다\n",
    "        K += 1 # K는 1씩 오름차순으로 올라감\n",
    "        cnt += 1 # 몇 번 날라갔을까?\n",
    "print(cnt)"
   ]
  }
 ],
 "metadata": {
  "kernelspec": {
   "display_name": "Python 3",
   "language": "python",
   "name": "python3"
  },
  "language_info": {
   "codemirror_mode": {
    "name": "ipython",
    "version": 3
   },
   "file_extension": ".py",
   "mimetype": "text/x-python",
   "name": "python",
   "nbconvert_exporter": "python",
   "pygments_lexer": "ipython3",
   "version": "3.7.5"
  }
 },
 "nbformat": 4,
 "nbformat_minor": 4
}

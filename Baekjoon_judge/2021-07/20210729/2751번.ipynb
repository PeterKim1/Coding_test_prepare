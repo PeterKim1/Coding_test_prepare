{
 "cells": [
  {
   "cell_type": "markdown",
   "metadata": {},
   "source": [
    "# 1. My solution\n",
    "\n",
    "dictionary 형태로 하나씩 보관하도록 만든 다음에 카운팅 된 경우는 출력하도록 만들었음.\n",
    "수는 중복되지 않는다고 하였으므로 중복을 고려하지 않았음."
   ]
  },
  {
   "cell_type": "code",
   "execution_count": null,
   "metadata": {},
   "outputs": [],
   "source": [
    "import sys\n",
    "test_case = int(sys.stdin.readline())\n",
    "result = dict()\n",
    "for i in range(-1000000, 1000001):\n",
    "    result[i] = 0\n",
    "\n",
    "for _ in range(test_case):\n",
    "    N = int(sys.stdin.readline())\n",
    "    result[N] += 1\n",
    "\n",
    "for key, value in result.items():\n",
    "    if value == 1:\n",
    "        print(key)"
   ]
  },
  {
   "cell_type": "markdown",
   "metadata": {},
   "source": [
    "# 2. 강의 Solution\n",
    "\n",
    "Merge sort 이용. 근데 어차피 파이썬 내장 sorted도 NlogN을 보장하므로 sorted를 쓰는게 낫다."
   ]
  },
  {
   "cell_type": "code",
   "execution_count": null,
   "metadata": {},
   "outputs": [],
   "source": [
    "def merge_sort(array):\n",
    "    if len(array) <= 1:\n",
    "        return array\n",
    "    mid = len(array) // 2\n",
    "    left = merge_sort(array[:mid])\n",
    "    right = merge_sort(array[mid:])\n",
    "    i, j, k = 0, 0, 0\n",
    "    while i < len(left) and j < len(right):\n",
    "        if left[i] < right[j]:\n",
    "            array[k] = left[i]\n",
    "            i += 1\n",
    "        else:\n",
    "            array[k] = right[j]\n",
    "            j += 1\n",
    "        k += 1\n",
    "    if i == len(left): # 왼쪽은 다 돌았을 때\n",
    "        while j < len(right):\n",
    "            array[k] = right[j]\n",
    "            j += 1\n",
    "            k += 1\n",
    "    elif j == len(left):\n",
    "        while i < len(left):\n",
    "            array[k] = left[i]\n",
    "            i += 1\n",
    "            k += 1\n",
    "    return array\n",
    "\n",
    "n = int(input())\n",
    "array = []\n",
    "\n",
    "for _ in range(n):\n",
    "    array.append(int(input()))\n",
    "    \n",
    "array = merge_sort(array)\n",
    "\n",
    "for data in array:\n",
    "    print(data)\n",
    "    "
   ]
  }
 ],
 "metadata": {
  "kernelspec": {
   "display_name": "Python 3",
   "language": "python",
   "name": "python3"
  },
  "language_info": {
   "codemirror_mode": {
    "name": "ipython",
    "version": 3
   },
   "file_extension": ".py",
   "mimetype": "text/x-python",
   "name": "python",
   "nbconvert_exporter": "python",
   "pygments_lexer": "ipython3",
   "version": "3.7.5"
  }
 },
 "nbformat": 4,
 "nbformat_minor": 4
}

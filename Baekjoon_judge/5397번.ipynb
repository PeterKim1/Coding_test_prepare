{
 "cells": [
  {
   "cell_type": "markdown",
   "metadata": {},
   "source": [
    "# 1. My Solution(Time Error)"
   ]
  },
  {
   "cell_type": "code",
   "execution_count": 54,
   "metadata": {},
   "outputs": [
    {
     "name": "stdout",
     "output_type": "stream",
     "text": [
      "1\n",
      "<<BP<A>>Cd-\n",
      "BAPC\n"
     ]
    }
   ],
   "source": [
    "def solution():\n",
    "    test_case = input()\n",
    "    idx = 0\n",
    "    str_list = []\n",
    "    for case in test_case:\n",
    "        if case == '<':\n",
    "            if idx > 0:\n",
    "                idx -= 1\n",
    "        elif case == '>':\n",
    "            if idx < len(str_list):\n",
    "                idx += 1\n",
    "        elif case == '-':\n",
    "            if idx >= 1 and str_list[idx-1] != None:\n",
    "                delete = str_list[idx-1]\n",
    "                str_list.remove(delete)\n",
    "                idx -= 1\n",
    "            else:\n",
    "                continue\n",
    "        else:\n",
    "            str_list.insert(idx, case)\n",
    "            idx += 1\n",
    "    if idx == (len(str_list) + 1):\n",
    "        print(*str_list, sep='')\n",
    "    else:\n",
    "        print(*str_list[:idx], \" \", *str_list[idx:], sep='')\n",
    "    \n",
    "N = int(input())\n",
    "for i in range(N):\n",
    "    solution()"
   ]
  },
  {
   "cell_type": "markdown",
   "metadata": {},
   "source": [
    "# 2. 강의 Solution"
   ]
  },
  {
   "cell_type": "code",
   "execution_count": 60,
   "metadata": {},
   "outputs": [
    {
     "name": "stdout",
     "output_type": "stream",
     "text": [
      "1\n",
      "<<BP<A<C\n",
      "BCAP\n"
     ]
    }
   ],
   "source": [
    "test_case = int(input())\n",
    "\n",
    "for _ in range(test_case):\n",
    "    left_stack = []\n",
    "    right_stack = []\n",
    "    data = input()\n",
    "    for i in data:\n",
    "        if i == '<':\n",
    "            if left_stack:\n",
    "                right_stack.append(left_stack.pop())\n",
    "        elif i == '>':\n",
    "            if right_stack:\n",
    "                left_stack.append(right_stack.pop())\n",
    "        elif i == '-':\n",
    "            if left_stack:\n",
    "                left_stack.pop()\n",
    "        else:\n",
    "            left_stack.append(i)\n",
    "    print(*left_stack, *list(reversed(right_stack)), sep='')"
   ]
  }
 ],
 "metadata": {
  "kernelspec": {
   "display_name": "Python 3",
   "language": "python",
   "name": "python3"
  },
  "language_info": {
   "codemirror_mode": {
    "name": "ipython",
    "version": 3
   },
   "file_extension": ".py",
   "mimetype": "text/x-python",
   "name": "python",
   "nbconvert_exporter": "python",
   "pygments_lexer": "ipython3",
   "version": "3.7.5"
  }
 },
 "nbformat": 4,
 "nbformat_minor": 4
}

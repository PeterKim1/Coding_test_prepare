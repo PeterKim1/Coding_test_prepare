{
 "cells": [
  {
   "cell_type": "markdown",
   "metadata": {},
   "source": [
    "# 1. My solution"
   ]
  },
  {
   "cell_type": "markdown",
   "metadata": {},
   "source": [
    "숫자가 1,000,000,000 보다 작다고 하였으므로, 애초에 10이나 11와 같은 두 자리 숫자는 나오지 않게 된다는 사실을 확인.\n",
    "\n",
    "그렇다면 결국 한 자리 숫자를 정렬해야 하는 것이고, 이를 list로 받으면 한 자리 숫자를 하나의 element로 가지고 있게 되는 list를 만들 수 있을 것이라고 생각하였음.\n",
    "\n",
    "그래서 list로 받은 뒤, 이를 sort 시킴. (원소의 수가 매우 적으므로 .sort를 써도 무방)\n",
    "\n",
    "그리고나서 전부 다 출력하게 하고, 그 대신에 붙어서 나와야 하니까 sep=''로 만들어서 다닥다닥 붙어서 출력되도록 설정.\n",
    "\n",
    "만약 같은 숫자가 여러번 나오더라도 결국 정렬이 된 상태이므로 크게 문제가 되지 않겠다고 판단."
   ]
  },
  {
   "cell_type": "code",
   "execution_count": 13,
   "metadata": {},
   "outputs": [
    {
     "name": "stdout",
     "output_type": "stream",
     "text": [
      "988297\n",
      "998872\n"
     ]
    }
   ],
   "source": [
    "N = list(map(int, input()))\n",
    "\n",
    "N.sort(reverse=True)\n",
    "\n",
    "print(*N, sep = '')"
   ]
  },
  {
   "cell_type": "markdown",
   "metadata": {},
   "source": [
    "# 2. 강의 Solution"
   ]
  },
  {
   "cell_type": "code",
   "execution_count": null,
   "metadata": {},
   "outputs": [],
   "source": [
    "array = input()\n",
    "\n",
    "for i in range(9, -1, -1): # 9부터 거꾸로 검사\n",
    "    for j in array:\n",
    "        if int(j) == i: \n",
    "            print(i, end = '')\n",
    "            \n"
   ]
  }
 ],
 "metadata": {
  "kernelspec": {
   "display_name": "Python 3",
   "language": "python",
   "name": "python3"
  },
  "language_info": {
   "codemirror_mode": {
    "name": "ipython",
    "version": 3
   },
   "file_extension": ".py",
   "mimetype": "text/x-python",
   "name": "python",
   "nbconvert_exporter": "python",
   "pygments_lexer": "ipython3",
   "version": "3.7.5"
  }
 },
 "nbformat": 4,
 "nbformat_minor": 4
}

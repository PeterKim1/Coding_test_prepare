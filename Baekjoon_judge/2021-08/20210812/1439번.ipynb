{
 "cells": [
  {
   "cell_type": "markdown",
   "metadata": {},
   "source": [
    "# 1. My Solution"
   ]
  },
  {
   "cell_type": "code",
   "execution_count": 21,
   "metadata": {},
   "outputs": [
    {
     "name": "stdout",
     "output_type": "stream",
     "text": [
      "0001100\n",
      "1\n"
     ]
    }
   ],
   "source": [
    "seq = input()\n",
    "\n",
    "# 0 덩어리 찾기\n",
    "cnt_0 = 1\n",
    "array_0 = []\n",
    "for idx, s in enumerate(seq):\n",
    "    if s == '0':\n",
    "        array_0.append(idx)\n",
    "        \n",
    "for i in range(1, len(array_0)):\n",
    "    if array_0[i-1] + 1 != array_0[i]:\n",
    "        cnt_0 += 1\n",
    "        \n",
    "# 0으로만 구성된 경우 무조건 0 고정\n",
    "if '1' not in seq:\n",
    "    cnt_0 = 0\n",
    "    \n",
    "# 1 덩어리 찾기\n",
    "cnt_1 = 1\n",
    "array_1 = []\n",
    "for idx, s in enumerate(seq):\n",
    "    if s == '1':\n",
    "        array_1.append(idx)\n",
    "        \n",
    "for i in range(1, len(array_1)):\n",
    "    if array_1[i-1] + 1 != array_1[i]:\n",
    "        cnt_1 += 1\n",
    "        \n",
    "if '0' not in seq:\n",
    "    cnt_1 = 0\n",
    "            \n",
    "print(min(cnt_0, cnt_1))"
   ]
  },
  {
   "cell_type": "markdown",
   "metadata": {},
   "source": [
    "# 2. 강의 Solution"
   ]
  },
  {
   "cell_type": "code",
   "execution_count": 22,
   "metadata": {},
   "outputs": [
    {
     "name": "stdout",
     "output_type": "stream",
     "text": [
      "0001100\n",
      "1\n"
     ]
    }
   ],
   "source": [
    "data = input()\n",
    "count0 = 0 # 전부 0으로 바꾸는 경우\n",
    "count1 = 0 # 전부 1로 바꾸는 경우\n",
    "\n",
    "if data[0] == '1':\n",
    "    count0 += 1\n",
    "else:\n",
    "    count1 += 1\n",
    "    \n",
    "for i in range(len(data) - 1):\n",
    "    if data[i] != data[i+1]:\n",
    "        if data[i+1] == '1':\n",
    "            count0 += 1\n",
    "        else:\n",
    "            count1 += 1\n",
    "            \n",
    "print(min(count0, count1))"
   ]
  },
  {
   "cell_type": "code",
   "execution_count": 5,
   "metadata": {},
   "outputs": [
    {
     "name": "stdout",
     "output_type": "stream",
     "text": [
      "1111111111111111111111111111111111111111111111111111111111111111111111111111111111111111111111111111\n"
     ]
    }
   ],
   "source": []
  }
 ],
 "metadata": {
  "kernelspec": {
   "display_name": "Python 3",
   "language": "python",
   "name": "python3"
  },
  "language_info": {
   "codemirror_mode": {
    "name": "ipython",
    "version": 3
   },
   "file_extension": ".py",
   "mimetype": "text/x-python",
   "name": "python",
   "nbconvert_exporter": "python",
   "pygments_lexer": "ipython3",
   "version": "3.7.5"
  }
 },
 "nbformat": 4,
 "nbformat_minor": 4
}

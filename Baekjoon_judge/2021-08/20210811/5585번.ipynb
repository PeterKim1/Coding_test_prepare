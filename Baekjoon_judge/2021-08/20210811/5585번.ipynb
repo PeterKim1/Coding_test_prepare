{
 "cells": [
  {
   "cell_type": "markdown",
   "metadata": {},
   "source": [
    "# 1. My Solution"
   ]
  },
  {
   "cell_type": "code",
   "execution_count": 5,
   "metadata": {},
   "outputs": [
    {
     "name": "stdout",
     "output_type": "stream",
     "text": [
      "1\n",
      "15\n"
     ]
    }
   ],
   "source": [
    "money = int(input())\n",
    "\n",
    "value = 1000 - money\n",
    "money_list = [500, 100, 50, 10, 5, 1]\n",
    "cnt = 0\n",
    "\n",
    "for m in money_list:\n",
    "    if value // m > 0:\n",
    "        money_count = value // m\n",
    "        value -= m * money_count\n",
    "        cnt += money_count\n",
    "print(cnt)"
   ]
  },
  {
   "cell_type": "markdown",
   "metadata": {},
   "source": [
    "# 2. 강의 Solution"
   ]
  },
  {
   "cell_type": "code",
   "execution_count": null,
   "metadata": {},
   "outputs": [],
   "source": [
    "changes = 1000 - int(input())\n",
    "count = 0\n",
    "\n",
    "for i in [500, 100, 50, 10, 5, 1]:\n",
    "    count += changes // i\n",
    "    changes %= i\n",
    "\n",
    "print(i)"
   ]
  }
 ],
 "metadata": {
  "kernelspec": {
   "display_name": "Python 3",
   "language": "python",
   "name": "python3"
  },
  "language_info": {
   "codemirror_mode": {
    "name": "ipython",
    "version": 3
   },
   "file_extension": ".py",
   "mimetype": "text/x-python",
   "name": "python",
   "nbconvert_exporter": "python",
   "pygments_lexer": "ipython3",
   "version": "3.7.5"
  }
 },
 "nbformat": 4,
 "nbformat_minor": 4
}

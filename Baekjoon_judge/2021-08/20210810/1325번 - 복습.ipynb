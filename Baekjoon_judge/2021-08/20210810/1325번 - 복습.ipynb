{
 "cells": [
  {
   "cell_type": "code",
   "execution_count": 8,
   "metadata": {},
   "outputs": [
    {
     "name": "stdout",
     "output_type": "stream",
     "text": [
      "5 4\n",
      "3 1\n",
      "3 2\n",
      "4 3\n",
      "5 3\n",
      "count:  [0, 4, 4, 3, 1, 1]\n",
      "1 2\n"
     ]
    }
   ],
   "source": [
    "import sys\n",
    "from collections import deque\n",
    "n, m = map(int, input().split())\n",
    "adj = [[] for _ in range(n+1)]\n",
    "count = [0] * (n+1)\n",
    "max_value = -1\n",
    "result = []\n",
    "\n",
    "def bfs(idx):\n",
    "    visited = [False] * (n+1)\n",
    "    cnt = 1\n",
    "    queue = deque([idx])\n",
    "    visited[idx] = True\n",
    "    while queue:\n",
    "        node = queue.popleft() # 1\n",
    "        for e in adj[node]: # 인접 요소들 돌기\n",
    "            if not visited[e]:\n",
    "                visited[e] = True\n",
    "                queue.append(e)\n",
    "                cnt += 1\n",
    "    \n",
    "    count[idx] = cnt\n",
    "\n",
    "\n",
    "for _ in range(m):\n",
    "    a, b = map(int, input().split())\n",
    "    adj[b].append(a)\n",
    "\n",
    "\n",
    "for i in range(1, n+1):\n",
    "    bfs(i)\n",
    "\n",
    "\n",
    "for idx, c in enumerate(count):\n",
    "    if c > max_value:\n",
    "        result = [idx]\n",
    "        max_value = c\n",
    "    elif c == max_value:\n",
    "        result.append(idx)\n",
    "\n",
    "\n",
    "result.sort()\n",
    "print(*result, sep = ' ')"
   ]
  },
  {
   "cell_type": "code",
   "execution_count": 1,
   "metadata": {},
   "outputs": [
    {
     "name": "stdout",
     "output_type": "stream",
     "text": [
      "[[], [], [], [], [], [], [], [], [], []]\n"
     ]
    }
   ],
   "source": [
    "adj = [[] for _ in range(10)]\n",
    "print(adj)"
   ]
  },
  {
   "cell_type": "code",
   "execution_count": 2,
   "metadata": {},
   "outputs": [
    {
     "name": "stdout",
     "output_type": "stream",
     "text": [
      "[0, 0, 0, 0, 0, 0, 0, 0, 0, 0, 0]\n"
     ]
    }
   ],
   "source": [
    "cnt = [0] * (11)\n",
    "print(cnt)"
   ]
  },
  {
   "cell_type": "code",
   "execution_count": null,
   "metadata": {},
   "outputs": [],
   "source": []
  }
 ],
 "metadata": {
  "kernelspec": {
   "display_name": "Python 3",
   "language": "python",
   "name": "python3"
  },
  "language_info": {
   "codemirror_mode": {
    "name": "ipython",
    "version": 3
   },
   "file_extension": ".py",
   "mimetype": "text/x-python",
   "name": "python",
   "nbconvert_exporter": "python",
   "pygments_lexer": "ipython3",
   "version": "3.7.5"
  }
 },
 "nbformat": 4,
 "nbformat_minor": 4
}

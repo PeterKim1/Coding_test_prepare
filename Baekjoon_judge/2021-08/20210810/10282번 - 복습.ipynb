{
 "cells": [
  {
   "cell_type": "code",
   "execution_count": 6,
   "metadata": {},
   "outputs": [
    {
     "name": "stdout",
     "output_type": "stream",
     "text": [
      "1\n",
      "3 3 1\n",
      "2 1 2\n",
      "3 1 8\n",
      "3 2 4\n",
      "distance:  [inf, 0, 2, 6]\n",
      "3 6\n"
     ]
    }
   ],
   "source": [
    "import heapq\n",
    "import sys\n",
    "\n",
    "test_case = int(input())\n",
    "\n",
    "def dijkstra(start):\n",
    "    heap_array = []\n",
    "    heapq.heappush(heap_array, (0, start))\n",
    "    distance[start] = 0\n",
    "    \n",
    "    while heap_array:\n",
    "        current_distance, current_loc = heapq.heappop(heap_array)\n",
    "        \n",
    "        if current_distance > distance[current_loc]:\n",
    "            continue\n",
    "            \n",
    "        for loc, dis in adj[current_loc]:\n",
    "            if dis + current_distance < distance[loc]:\n",
    "                distance[loc] = dis + current_distance\n",
    "                heapq.heappush(heap_array, (dis + current_distance, loc))\n",
    "    \n",
    "\n",
    "for _ in range(test_case):\n",
    "    n, d, c = map(int, input().split())\n",
    "    adj = [[] for _ in range(n+1)]\n",
    "    distance = [float('inf') for _ in range(n+1)]\n",
    "    max_length = -1\n",
    "    cnt = 0\n",
    "    \n",
    "    for i in range(d):\n",
    "        x, y, cost = map(int, input().split())\n",
    "        adj[y].append((x, cost))\n",
    "    \n",
    "    \n",
    "    dijkstra(c)\n",
    "    \n",
    "    for d in distance:\n",
    "        if d == float('inf'):\n",
    "            continue\n",
    "        else:\n",
    "            cnt += 1\n",
    "            if d > max_length:\n",
    "                max_length = d\n",
    "                \n",
    "    print(cnt, max_length)\n",
    "                "
   ]
  },
  {
   "cell_type": "code",
   "execution_count": 2,
   "metadata": {},
   "outputs": [
    {
     "data": {
      "text/plain": [
       "[inf, inf, inf, inf, inf, inf, inf, inf, inf, inf]"
      ]
     },
     "execution_count": 2,
     "metadata": {},
     "output_type": "execute_result"
    }
   ],
   "source": [
    "distance = [float('inf') for _ in range(10)]\n",
    "distance"
   ]
  }
 ],
 "metadata": {
  "kernelspec": {
   "display_name": "Python 3",
   "language": "python",
   "name": "python3"
  },
  "language_info": {
   "codemirror_mode": {
    "name": "ipython",
    "version": 3
   },
   "file_extension": ".py",
   "mimetype": "text/x-python",
   "name": "python",
   "nbconvert_exporter": "python",
   "pygments_lexer": "ipython3",
   "version": "3.7.5"
  }
 },
 "nbformat": 4,
 "nbformat_minor": 4
}

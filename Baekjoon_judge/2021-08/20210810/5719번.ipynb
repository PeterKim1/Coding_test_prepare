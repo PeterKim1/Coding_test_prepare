{
 "cells": [
  {
   "cell_type": "markdown",
   "metadata": {},
   "source": [
    "# 1. 강의 Solution"
   ]
  },
  {
   "cell_type": "code",
   "execution_count": 5,
   "metadata": {},
   "outputs": [
    {
     "name": "stdout",
     "output_type": "stream",
     "text": [
      "7 9\n",
      "0 6\n",
      "0 1 1\n",
      "0 2 1\n",
      "0 3 2\n",
      "0 4 3\n",
      "1 5 2\n",
      "2 6 4\n",
      "3 6 2\n",
      "4 6 4\n",
      "5 6 1\n",
      "distance:  [[0, 0], [1, 0], [1, 0], [2, 0], [3, 0], [3, 1], [4, 3]]\n"
     ]
    }
   ],
   "source": [
    "from collections import deque\n",
    "import heapq\n",
    "\n",
    "\n",
    "def dijkstra():\n",
    "    heap_data = []\n",
    "    heapq.heappush(heap_data, (0, start))\n",
    "    distance[start] = 0\n",
    "    while heap_data:\n",
    "        dist, now = heapq.heappop(heap_data)\n",
    "        if distance[now] < dist:\n",
    "            continue\n",
    "        for i in adj[now]:\n",
    "            cost = dist + i[1]\n",
    "            if distance[i[0]] > cost and not dropped[now][i[0]]:\n",
    "                distance[i[0]] = cost\n",
    "                heapq.heappush(heap_data, (cost, i[0]))\n",
    "                \n",
    "\n",
    "def bfs():\n",
    "    q = deque()\n",
    "    q.append(end)\n",
    "    while q:\n",
    "        now = q.popleft()\n",
    "        if now == start:\n",
    "            continue\n",
    "        for prev, cost in reverse_adj[now]: # 역추적\n",
    "            if distance[now] == distance[prev] + cost:\n",
    "                dropped[prev][now] = True\n",
    "                q.append(prev)\n",
    "    \n",
    "    \n",
    "while True:\n",
    "    n, m = map(int, input().split())\n",
    "    if n == 0:\n",
    "        break\n",
    "        \n",
    "    start, end = map(int, input().split())\n",
    "    adj = [[] for _ in range(n+1)]\n",
    "    reverse_adj = [[] for _ in range(n+1)]\n",
    "    for _ in range(m):\n",
    "        x, y, cost = map(int, input().split())\n",
    "        adj[x].append((y, cost))\n",
    "        reverse_adj[y].append((x, cost))\n",
    "    \n",
    "    dropped = [[False] * (n+1) for _ in range(n+1)]\n",
    "    distance = [float('inf')] * (n+1)\n",
    "    dijkstra()\n",
    "    bfs()\n",
    "    distance = [float('inf')] * (n+1)\n",
    "    dijkstra()\n",
    "    \n",
    "    if distance[end] != float('inf'):\n",
    "        print(distance[end])\n",
    "    else:\n",
    "        print(-1)\n",
    "    \n",
    "    \n",
    "    \n",
    "    "
   ]
  },
  {
   "cell_type": "code",
   "execution_count": null,
   "metadata": {},
   "outputs": [],
   "source": []
  }
 ],
 "metadata": {
  "kernelspec": {
   "display_name": "Python 3",
   "language": "python",
   "name": "python3"
  },
  "language_info": {
   "codemirror_mode": {
    "name": "ipython",
    "version": 3
   },
   "file_extension": ".py",
   "mimetype": "text/x-python",
   "name": "python",
   "nbconvert_exporter": "python",
   "pygments_lexer": "ipython3",
   "version": "3.7.5"
  }
 },
 "nbformat": 4,
 "nbformat_minor": 4
}

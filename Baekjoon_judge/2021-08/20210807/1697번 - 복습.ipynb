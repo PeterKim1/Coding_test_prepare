{
 "cells": [
  {
   "cell_type": "code",
   "execution_count": 35,
   "metadata": {},
   "outputs": [
    {
     "name": "stdout",
     "output_type": "stream",
     "text": [
      "1 4\n",
      "2\n"
     ]
    }
   ],
   "source": [
    "from collections import deque\n",
    "n, k = map(int, input().split())\n",
    "MAX = 100001\n",
    "array = [0] * MAX\n",
    "\n",
    "\n",
    "queue = deque([n])\n",
    "while queue:\n",
    "    node = queue.popleft()\n",
    "    if node == k:\n",
    "        print(array[node])\n",
    "        break\n",
    "    for next_node in (node-1, node+1, node*2):\n",
    "        if 0 <= next_node < MAX and array[next_node] == 0:\n",
    "            array[next_node] = array[node] + 1\n",
    "            queue.append(next_node)\n"
   ]
  },
  {
   "cell_type": "code",
   "execution_count": null,
   "metadata": {},
   "outputs": [],
   "source": []
  }
 ],
 "metadata": {
  "kernelspec": {
   "display_name": "Python 3",
   "language": "python",
   "name": "python3"
  },
  "language_info": {
   "codemirror_mode": {
    "name": "ipython",
    "version": 3
   },
   "file_extension": ".py",
   "mimetype": "text/x-python",
   "name": "python",
   "nbconvert_exporter": "python",
   "pygments_lexer": "ipython3",
   "version": "3.7.5"
  }
 },
 "nbformat": 4,
 "nbformat_minor": 4
}

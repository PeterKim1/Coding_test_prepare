{
 "cells": [
  {
   "cell_type": "markdown",
   "metadata": {},
   "source": [
    "# 1. My Solution\n",
    "\n",
    "heapq 라이브러리를 이용해서 구현."
   ]
  },
  {
   "cell_type": "code",
   "execution_count": 3,
   "metadata": {},
   "outputs": [
    {
     "name": "stdout",
     "output_type": "stream",
     "text": [
      "9\n",
      "0\n",
      "0\n",
      "12345678\n",
      "1\n",
      "2\n",
      "0\n",
      "1\n",
      "0\n",
      "2\n",
      "0\n",
      "12345678\n",
      "0\n",
      "0\n",
      "32\n"
     ]
    }
   ],
   "source": [
    "import heapq\n",
    "import sys\n",
    "\n",
    "min_heap = []\n",
    "\n",
    "N = int(input())\n",
    "\n",
    "for idx in range(N):\n",
    "    x = int(sys.stdin.readline())\n",
    "    if x >= 1:\n",
    "        heapq.heappush(min_heap, x)\n",
    "    else:\n",
    "        if len(min_heap) >= 1:\n",
    "            result = heapq.heappop(min_heap)\n",
    "            print(result)\n",
    "        else:\n",
    "            print(0)\n"
   ]
  },
  {
   "cell_type": "markdown",
   "metadata": {},
   "source": [
    "# 2. 강의 Solution\n",
    "\n",
    "위 코드는 sys.stdin.readline()을 안쓰면 시간 초과뜸.\n",
    "\n",
    "원래 내가 짠 코드와 다른점은 len(heap)을 사용하지 않고 heap만 사용해 if문을 해결한 점과 결과를 print 하지 않고 append로 result에 저장해서 한번에 했다는 점?"
   ]
  },
  {
   "cell_type": "code",
   "execution_count": null,
   "metadata": {},
   "outputs": [],
   "source": [
    "import heapq\n",
    "n = int(input())\n",
    "heap = []\n",
    "result = []\n",
    "for _ in range(n):\n",
    "    data = int(input())\n",
    "    if data == 0:\n",
    "        if heap:\n",
    "            result.append(heapq.heappop(heap))\n",
    "        else:\n",
    "            result.append(0)\n",
    "    else:\n",
    "        heapq.heappush(heap, data)\n",
    "\n",
    "for data in result:\n",
    "    print(data)\n"
   ]
  }
 ],
 "metadata": {
  "kernelspec": {
   "display_name": "Python 3",
   "language": "python",
   "name": "python3"
  },
  "language_info": {
   "codemirror_mode": {
    "name": "ipython",
    "version": 3
   },
   "file_extension": ".py",
   "mimetype": "text/x-python",
   "name": "python",
   "nbconvert_exporter": "python",
   "pygments_lexer": "ipython3",
   "version": "3.7.5"
  }
 },
 "nbformat": 4,
 "nbformat_minor": 4
}

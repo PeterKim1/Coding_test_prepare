{
 "cells": [
  {
   "cell_type": "markdown",
   "metadata": {},
   "source": [
    "# 1. 강의 Solution"
   ]
  },
  {
   "cell_type": "code",
   "execution_count": 9,
   "metadata": {},
   "outputs": [
    {
     "name": "stdout",
     "output_type": "stream",
     "text": [
      "4 7\n",
      "6 13\n",
      "4 8\n",
      "3 6\n",
      "5 12\n",
      "14\n"
     ]
    }
   ],
   "source": [
    "n, k = map(int, input().split())\n",
    "dp = [[0] * (k + 1) for _ in range(n + 1)] # 가로 k+1, 세로 n+1\n",
    "\n",
    "for i in range(1, n+1):\n",
    "    weight, value = map(int, input().split())\n",
    "    for j in range(1, k+1): # 가로로 이동\n",
    "        if j < weight: # 해당 무게에서 추가되지 않는 경우들.\n",
    "            dp[i][j] = dp[i-1][j] # 이전까지의 결과를 가져옴\n",
    "        else: # 해당 무게에서 추가되는 경우\n",
    "            # 이전 케이스(dp[i-1][j])와 이전 경우에서 해당 무게를 추가했을 때와 비교했을 때\n",
    "            # 가치가 더 높아지는 경우를 선택\n",
    "            dp[i][j] = max(dp[i-1][j], dp[i-1][j - weight] + value)\n",
    "            \n",
    "print(dp[n][k])\n",
    "            "
   ]
  }
 ],
 "metadata": {
  "kernelspec": {
   "display_name": "Python 3",
   "language": "python",
   "name": "python3"
  },
  "language_info": {
   "codemirror_mode": {
    "name": "ipython",
    "version": 3
   },
   "file_extension": ".py",
   "mimetype": "text/x-python",
   "name": "python",
   "nbconvert_exporter": "python",
   "pygments_lexer": "ipython3",
   "version": "3.7.5"
  }
 },
 "nbformat": 4,
 "nbformat_minor": 4
}

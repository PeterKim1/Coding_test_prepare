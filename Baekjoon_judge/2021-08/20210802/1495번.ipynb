{
 "cells": [
  {
   "cell_type": "markdown",
   "metadata": {},
   "source": [
    "# 1. 강의 Solution"
   ]
  },
  {
   "cell_type": "code",
   "execution_count": 15,
   "metadata": {},
   "outputs": [
    {
     "name": "stdout",
     "output_type": "stream",
     "text": [
      "3 9 10\n",
      "1 10 1\n",
      "1\n"
     ]
    }
   ],
   "source": [
    "n, s, m = map(int, input().split())\n",
    "array = list(map(int, input().split()))\n",
    "dp = [[0] * (m+1) for _ in range(n+1)]\n",
    "dp[0][s] = 1\n",
    "\n",
    "for i in range(1, n+1):\n",
    "    for j in range(m+1):\n",
    "        if dp[i-1][j] == 0:\n",
    "            continue\n",
    "        if j - array[i-1] >= 0:\n",
    "            dp[i][j - array[i-1]] = 1\n",
    "        if j + array[i-1] <= m:\n",
    "            dp[i][j + array[i-1]] = 1\n",
    "            \n",
    "result = -1\n",
    "for i in range(m, -1, -1):\n",
    "    if dp[n][i] == 1:\n",
    "        result = i\n",
    "        break\n",
    "\n",
    "print(result)\n"
   ]
  },
  {
   "cell_type": "code",
   "execution_count": null,
   "metadata": {},
   "outputs": [],
   "source": []
  },
  {
   "cell_type": "code",
   "execution_count": 10,
   "metadata": {},
   "outputs": [
    {
     "name": "stdout",
     "output_type": "stream",
     "text": [
      "3 5 10\n",
      "5 3 7\n",
      "10\n"
     ]
    }
   ],
   "source": [
    "N, S, M = map(int, input().split())\n",
    "result = [[]]\n",
    "result[0].append(S)\n",
    "volume = list(map(int, input().split()))\n",
    "\n",
    "for v in volume: # 5 나옴\n",
    "    partial = []\n",
    "    result_0 = result[0]\n",
    "    result[0] = []\n",
    "    for i in result_0:\n",
    "        if (i+v) <= M:\n",
    "            partial.append((i+v))\n",
    "        if (i-v) >= 0:\n",
    "            partial.append((i-v))\n",
    "    if len(partial) == 0: # 이번 턴을 돌았더니 변경 가능한 볼륨이 없다\n",
    "        print(-1)\n",
    "        break # 끝내기\n",
    "    else:\n",
    "        result[0] = partial\n",
    "        del partial\n",
    "        \n",
    "\n",
    "if len(result[0]) >= 1:\n",
    "    print(max(result[0]))\n",
    "else:\n",
    "    pass"
   ]
  },
  {
   "cell_type": "code",
   "execution_count": null,
   "metadata": {},
   "outputs": [],
   "source": []
  },
  {
   "cell_type": "code",
   "execution_count": 1,
   "metadata": {},
   "outputs": [
    {
     "name": "stdout",
     "output_type": "stream",
     "text": [
      "3 5 10\n",
      "5 3 12\n",
      "-1\n"
     ]
    }
   ],
   "source": [
    "N, S, M = map(int, input().split())\n",
    "result = [[] for i in range(N+1)]\n",
    "result[0].append(S)\n",
    "volume = list(map(int, input().split()))\n",
    "\n",
    "for idx, v in enumerate(volume):\n",
    "    partial = []\n",
    "    for i in result[idx]:\n",
    "        up = i + v\n",
    "        down = i - v\n",
    "        if up <= M:\n",
    "            partial.append(up)\n",
    "        if down >= 0:\n",
    "            partial.append(down)\n",
    "    if len(partial) == 0: # 이번 턴을 돌았더니 변경 가능한 볼륨이 없다\n",
    "        print(-1)\n",
    "        break # 끝내기\n",
    "    else:\n",
    "        result[idx+1] = partial\n",
    "        \n",
    "\n",
    "if len(result[N]) >= 1:\n",
    "    print(max(result[N]))\n",
    "else:\n",
    "    pass"
   ]
  },
  {
   "cell_type": "code",
   "execution_count": null,
   "metadata": {},
   "outputs": [],
   "source": []
  }
 ],
 "metadata": {
  "kernelspec": {
   "display_name": "Python 3",
   "language": "python",
   "name": "python3"
  },
  "language_info": {
   "codemirror_mode": {
    "name": "ipython",
    "version": 3
   },
   "file_extension": ".py",
   "mimetype": "text/x-python",
   "name": "python",
   "nbconvert_exporter": "python",
   "pygments_lexer": "ipython3",
   "version": "3.7.5"
  }
 },
 "nbformat": 4,
 "nbformat_minor": 4
}

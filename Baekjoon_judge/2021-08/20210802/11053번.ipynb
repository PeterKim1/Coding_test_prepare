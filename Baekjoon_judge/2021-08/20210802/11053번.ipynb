{
 "cells": [
  {
   "cell_type": "markdown",
   "metadata": {},
   "source": [
    "# 1. 강의 Solution"
   ]
  },
  {
   "cell_type": "code",
   "execution_count": 40,
   "metadata": {},
   "outputs": [
    {
     "name": "stdout",
     "output_type": "stream",
     "text": [
      "6\n",
      "10 20 10 30 20 50\n",
      "4\n"
     ]
    }
   ],
   "source": [
    "N = int(input())\n",
    "array = list(map(int, input().split()))\n",
    "dp = [1] * N\n",
    "\n",
    "\n",
    "for i in range(1, len(array)): # 비교 메인\n",
    "    for j in range(i): # 그 이전\n",
    "        if array[i] > array[j]:\n",
    "            dp[i] = max(dp[i], dp[j] + 1)\n",
    "            \n",
    "print(max(dp))"
   ]
  }
 ],
 "metadata": {
  "kernelspec": {
   "display_name": "Python 3",
   "language": "python",
   "name": "python3"
  },
  "language_info": {
   "codemirror_mode": {
    "name": "ipython",
    "version": 3
   },
   "file_extension": ".py",
   "mimetype": "text/x-python",
   "name": "python",
   "nbconvert_exporter": "python",
   "pygments_lexer": "ipython3",
   "version": "3.7.5"
  }
 },
 "nbformat": 4,
 "nbformat_minor": 4
}

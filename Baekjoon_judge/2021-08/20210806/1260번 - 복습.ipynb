{
 "cells": [
  {
   "cell_type": "code",
   "execution_count": 11,
   "metadata": {},
   "outputs": [
    {
     "name": "stdout",
     "output_type": "stream",
     "text": [
      "1000 1 1000\n",
      "999 1000\n",
      "1000 999 \n",
      "1000 999 "
     ]
    }
   ],
   "source": [
    "from collections import deque\n",
    "n, m, v = map(int, input().split())\n",
    "adj = [[] for _ in range(n+1)]\n",
    "\n",
    "\n",
    "def bfs(v):\n",
    "    queue = deque([v])\n",
    "    while queue:\n",
    "        node = queue.popleft()\n",
    "        if not(visited[node]):\n",
    "            print(node, end = ' ')\n",
    "            visited[node] = True\n",
    "            for e in adj[node]:\n",
    "                if not(visited[e]):\n",
    "                    queue.append(e)\n",
    "\n",
    "                    \n",
    "def dfs(v):\n",
    "    print(v, end = ' ')\n",
    "    visited[v] = True\n",
    "    for e in adj[v]:\n",
    "        if not(visited[e]):\n",
    "            dfs(e)\n",
    "\n",
    "\n",
    "for _ in range(m):\n",
    "    a, b = map(int, input().split())\n",
    "    adj[a].append(b)\n",
    "    adj[b].append(a)\n",
    "\n",
    "for x in adj:\n",
    "    x.sort()\n",
    "\n",
    "visited = [False] * (n+1)\n",
    "dfs(v)\n",
    "print()\n",
    "visited = [False] * (n+1)\n",
    "bfs(v)"
   ]
  }
 ],
 "metadata": {
  "kernelspec": {
   "display_name": "Python 3",
   "language": "python",
   "name": "python3"
  },
  "language_info": {
   "codemirror_mode": {
    "name": "ipython",
    "version": 3
   },
   "file_extension": ".py",
   "mimetype": "text/x-python",
   "name": "python",
   "nbconvert_exporter": "python",
   "pygments_lexer": "ipython3",
   "version": "3.7.5"
  }
 },
 "nbformat": 4,
 "nbformat_minor": 4
}

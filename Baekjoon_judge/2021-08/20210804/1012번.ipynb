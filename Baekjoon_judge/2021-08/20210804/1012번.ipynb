{
 "cells": [
  {
   "cell_type": "markdown",
   "metadata": {},
   "source": [
    "# 1. 강의 Solution\n",
    "\n",
    "dfs를 이용한 코드"
   ]
  },
  {
   "cell_type": "code",
   "execution_count": 13,
   "metadata": {},
   "outputs": [
    {
     "name": "stdout",
     "output_type": "stream",
     "text": [
      "2\n",
      "10 8 17\n",
      "0 0\n",
      "1 0\n",
      "1 1\n",
      "4 2\n",
      "4 3\n",
      "4 5\n",
      "2 4\n",
      "3 4\n",
      "7 4\n",
      "8 4\n",
      "9 4\n",
      "7 5\n",
      "8 5\n",
      "9 5\n",
      "7 6\n",
      "8 6\n",
      "9 6\n",
      "5\n",
      "10 10 1\n",
      "5 5\n",
      "1\n"
     ]
    }
   ],
   "source": [
    "import sys\n",
    "sys.setrecursionlimit(100000)\n",
    "\n",
    "def dfs(x, y):\n",
    "    visited[x][y] = True\n",
    "    directions = [(-1, 0), (1, 0), (0, 1), (0, -1)]\n",
    "    for dx, dy in directions:\n",
    "        nx, ny = x + dx, y + dy\n",
    "        if nx < 0 or nx >= N or ny < 0 or ny >= M:\n",
    "            continue\n",
    "        if baechu[nx][ny] and not visited[nx][ny]:\n",
    "            dfs(nx, ny)\n",
    "\n",
    "test_case = int(input())\n",
    "\n",
    "for _ in range(test_case):\n",
    "    M, N, K = map(int, input().split())\n",
    "    baechu = [[0 for _ in range(M)] for _ in range(N)]\n",
    "    visited = [[False] * M for _ in range(N)]\n",
    "    \n",
    "    for _ in range(K):\n",
    "        y, x = map(int, input().split())\n",
    "        baechu[x][y] = 1\n",
    "    \n",
    "    result = 0\n",
    "    for i in range(N):\n",
    "        for j in range(M):\n",
    "            if baechu[i][j] and not visited[i][j]:\n",
    "                dfs(i, j)\n",
    "                result += 1\n",
    "    print(result)"
   ]
  },
  {
   "cell_type": "markdown",
   "metadata": {},
   "source": [
    "# bfs로 코드 변경"
   ]
  },
  {
   "cell_type": "code",
   "execution_count": 27,
   "metadata": {},
   "outputs": [
    {
     "name": "stdout",
     "output_type": "stream",
     "text": [
      "2\n",
      "10 8 17\n",
      "0 0\n",
      "1 0\n",
      "1 1\n",
      "4 2\n",
      "4 3\n",
      "4 5\n",
      "2 4\n",
      "3 4\n",
      "7 4\n",
      "8 4\n",
      "9 4\n",
      "7 5\n",
      "8 5\n",
      "9 5\n",
      "7 6\n",
      "8 6\n",
      "9 6\n",
      "5\n",
      "10 10 1\n",
      "5 5\n",
      "1\n"
     ]
    }
   ],
   "source": [
    "from collections import deque\n",
    "\n",
    "def bfs(x, y):\n",
    "    queue = deque([[x, y]])\n",
    "    while queue:\n",
    "        x, y = queue.popleft()\n",
    "        if baechu[x][y] and not visited[x][y]:\n",
    "            visited[x][y] = True\n",
    "            directions = [(-1, 0), (1, 0), (0, 1), (0, -1)]\n",
    "            for dx, dy in directions:\n",
    "                nx, ny = x + dx, y + dy\n",
    "                if nx < 0 or nx >= N or ny < 0 or ny >= M:\n",
    "                    continue\n",
    "                if baechu[nx][ny] and not visited[nx][ny]:\n",
    "                    queue.append([nx, ny])\n",
    "\n",
    "test_case = int(input())\n",
    "\n",
    "for _ in range(test_case):\n",
    "    M, N, K = map(int, input().split())\n",
    "    baechu = [[0 for _ in range(M)] for _ in range(N)]\n",
    "    visited = [[False] * M for _ in range(N)]\n",
    "    \n",
    "    for _ in range(K):\n",
    "        y, x = map(int, input().split())\n",
    "        baechu[x][y] = 1\n",
    "    \n",
    "    result = 0\n",
    "    for i in range(N):\n",
    "        for j in range(M):\n",
    "            if baechu[i][j] and not visited[i][j]:\n",
    "                bfs(i, j)\n",
    "                result += 1\n",
    "    print(result)\n"
   ]
  }
 ],
 "metadata": {
  "kernelspec": {
   "display_name": "Python 3",
   "language": "python",
   "name": "python3"
  },
  "language_info": {
   "codemirror_mode": {
    "name": "ipython",
    "version": 3
   },
   "file_extension": ".py",
   "mimetype": "text/x-python",
   "name": "python",
   "nbconvert_exporter": "python",
   "pygments_lexer": "ipython3",
   "version": "3.7.5"
  }
 },
 "nbformat": 4,
 "nbformat_minor": 4
}

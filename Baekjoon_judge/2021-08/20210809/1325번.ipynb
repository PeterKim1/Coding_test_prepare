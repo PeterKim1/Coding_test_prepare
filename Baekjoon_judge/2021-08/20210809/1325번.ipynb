{
 "cells": [
  {
   "cell_type": "code",
   "execution_count": 22,
   "metadata": {},
   "outputs": [
    {
     "name": "stdout",
     "output_type": "stream",
     "text": [
      "5 4\n",
      "3 1\n",
      "3 2\n",
      "4 3\n",
      "5 3\n",
      "1 2\n"
     ]
    }
   ],
   "source": [
    "from collections import deque\n",
    "\n",
    "n, m = map(int, input().split())\n",
    "adj = [[] for _ in range(n+1)]\n",
    "max_count = -1\n",
    "result = []\n",
    "\n",
    "for i in range(m):\n",
    "    a, b = map(int, input().split())\n",
    "    adj[b].append(a)\n",
    "\n",
    "    \n",
    "def bfs(idx):\n",
    "    cnt = 1\n",
    "    visited = [False] * (n+1)\n",
    "    visited[idx] = True\n",
    "    queue = deque([idx])\n",
    "    while queue:\n",
    "        node = queue.popleft() # 맨 왼쪽 요소 빼줌\n",
    "        for e in adj[node]:\n",
    "            if not visited[e]:\n",
    "                visited[e] = True\n",
    "                queue.append(e)\n",
    "                cnt += 1\n",
    "    \n",
    "    return cnt\n",
    "    \n",
    "\n",
    "for i in range(1, n+1):\n",
    "    c = bfs(i)\n",
    "    if c > max_count:\n",
    "        max_count = c\n",
    "        result = [i]\n",
    "    elif c == max_count:\n",
    "        result.append(i)\n",
    "        \n",
    "\n",
    "print(*result, sep = ' ')"
   ]
  },
  {
   "cell_type": "code",
   "execution_count": null,
   "metadata": {},
   "outputs": [],
   "source": []
  },
  {
   "cell_type": "code",
   "execution_count": null,
   "metadata": {},
   "outputs": [],
   "source": []
  },
  {
   "cell_type": "code",
   "execution_count": null,
   "metadata": {},
   "outputs": [],
   "source": []
  }
 ],
 "metadata": {
  "kernelspec": {
   "display_name": "Python 3",
   "language": "python",
   "name": "python3"
  },
  "language_info": {
   "codemirror_mode": {
    "name": "ipython",
    "version": 3
   },
   "file_extension": ".py",
   "mimetype": "text/x-python",
   "name": "python",
   "nbconvert_exporter": "python",
   "pygments_lexer": "ipython3",
   "version": "3.7.5"
  }
 },
 "nbformat": 4,
 "nbformat_minor": 4
}

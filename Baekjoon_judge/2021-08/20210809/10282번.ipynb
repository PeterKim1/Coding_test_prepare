{
 "cells": [
  {
   "cell_type": "markdown",
   "metadata": {},
   "source": [
    "# 1. My Solution\n",
    "\n",
    "dijkstra 코드 그대로 사용, graph 형태도 기존 코드와 유지."
   ]
  },
  {
   "cell_type": "code",
   "execution_count": 33,
   "metadata": {},
   "outputs": [
    {
     "name": "stdout",
     "output_type": "stream",
     "text": [
      "2\n",
      "3 2 2\n",
      "2 1 5\n",
      "3 2 5\n",
      "2 5\n",
      "3 3 1\n",
      "2 1 2\n",
      "3 1 8\n",
      "3 2 4\n",
      "3 6\n"
     ]
    }
   ],
   "source": [
    "import heapq\n",
    "test_case = int(input())\n",
    "\n",
    "# 탐색할 그래프와 시작 정점을 인수로 전달받습니다.\n",
    "def dijkstra(graph, start):\n",
    "    # 시작 정점에서 각 정점까지의 거리를 저장할 딕셔너리를 생성하고, 무한대(inf)로 초기화합니다.\n",
    "    distances = {vertex: [float('inf'), start] for vertex in graph}\n",
    "\n",
    "    # 그래프의 시작 정점의 거리는 0으로 초기화 해줌\n",
    "    distances[start] = [0, start]\n",
    "\n",
    "    # 모든 정점이 저장될 큐를 생성합니다.\n",
    "    queue = []\n",
    "\n",
    "    # 그래프의 시작 정점과 시작 정점의 거리(0)을 최소힙에 넣어줌\n",
    "    heapq.heappush(queue, [distances[start][0], start])\n",
    "\n",
    "    while queue:\n",
    "        \n",
    "        # 큐에서 정점을 하나씩 꺼내 인접한 정점들의 가중치를 모두 확인하여 업데이트합니다.\n",
    "        current_distance, current_vertex = heapq.heappop(queue)\n",
    "        \n",
    "        # 더 짧은 경로가 있다면 무시한다.\n",
    "        if distances[current_vertex][0] < current_distance:\n",
    "            continue\n",
    "            \n",
    "        for adjacent, weight in graph[current_vertex].items():\n",
    "            distance = current_distance + weight\n",
    "            # 만약 시작 정점에서 인접 정점으로 바로 가는 것보다 현재 정점을 통해 가는 것이 더 가까울 경우에는\n",
    "            if distance < distances[adjacent][0]:\n",
    "                # 거리를 업데이트합니다.\n",
    "                distances[adjacent] = [distance, current_vertex]\n",
    "                heapq.heappush(queue, [distance, adjacent])\n",
    "    \n",
    "    return distances\n",
    "\n",
    "for _ in range(test_case):\n",
    "    n, d, c = map(int, input().split())\n",
    "    distance_dict = {str(node):float('inf') for node in range(1, n+1)}\n",
    "    graph = {str(node):{} for node in range(1, n+1)}\n",
    "    max_length = -1\n",
    "    \n",
    "    \n",
    "    # 그래프 생성\n",
    "    for i in range(d):\n",
    "        a, b, s = map(int, input().split())\n",
    "        graph[str(b)][str(a)] = s\n",
    "    \n",
    "    result = dijkstra(graph, str(c))\n",
    "    \n",
    "    #print(\"result: \", result)\n",
    "    \n",
    "    \n",
    "    cnt = 0\n",
    "    max_dist = 0\n",
    "    for key, value in result.items():\n",
    "        if value[0] != float('inf'):\n",
    "            cnt += 1\n",
    "            if value[0] > max_dist:\n",
    "                max_dist = value[0]\n",
    "                \n",
    "    print(cnt, max_dist)\n",
    "            \n",
    "    "
   ]
  },
  {
   "cell_type": "markdown",
   "metadata": {},
   "source": [
    "# 2. 강의 solution"
   ]
  },
  {
   "cell_type": "code",
   "execution_count": 34,
   "metadata": {},
   "outputs": [
    {
     "name": "stdout",
     "output_type": "stream",
     "text": [
      "2\n",
      "3 2 2\n",
      "2 1 5\n",
      "3 2 5\n",
      "2 5\n",
      "3 3 1\n",
      "2 1 2\n",
      "3 1 8\n",
      "3 2 4\n",
      "3 6\n"
     ]
    }
   ],
   "source": [
    "import heapq\n",
    "\n",
    "test_case = int(input())\n",
    "\n",
    "def dijkstra(start):\n",
    "    heap_data = []\n",
    "    heapq.heappush(heap_data, (0, start))\n",
    "    distance[start] = 0\n",
    "    while heap_data:\n",
    "        dist, now = heapq.heappop(heap_data) # dist: 거리, now: 위치\n",
    "        if distance[now] < dist: # 지금 거리보다 distance가 더 크면 패스\n",
    "            continue\n",
    "        for i in adj[now]:\n",
    "            cost = dist + i[1] # 지금까지의 거리 + 추가로 갈 거리 \n",
    "            if distance[i[0]] > cost:\n",
    "                distance[i[0]] = cost # 거리가 짧은 경우 갱신\n",
    "                heapq.heappush(heap_data, (cost, i[0]))\n",
    "    \n",
    "    \n",
    "for _ in range(test_case):\n",
    "    n, m, start = map(int, input().split())\n",
    "    adj = [[] for i in range(n+1)]\n",
    "    distance = [float('inf')] * (n+1)\n",
    "    \n",
    "    for _ in range(m):\n",
    "        x, y, cost = map(int, input().split())\n",
    "        adj[y].append((x, cost))\n",
    "        \n",
    "    dijkstra(start)\n",
    "    count = 0\n",
    "    max_distance = 0\n",
    "    \n",
    "    for i in distance:\n",
    "        if i != float('inf'):\n",
    "            count += 1\n",
    "            if i > max_distance:\n",
    "                max_distance = i\n",
    "    \n",
    "    print(count, max_distance)"
   ]
  },
  {
   "cell_type": "code",
   "execution_count": null,
   "metadata": {},
   "outputs": [],
   "source": []
  }
 ],
 "metadata": {
  "kernelspec": {
   "display_name": "Python 3",
   "language": "python",
   "name": "python3"
  },
  "language_info": {
   "codemirror_mode": {
    "name": "ipython",
    "version": 3
   },
   "file_extension": ".py",
   "mimetype": "text/x-python",
   "name": "python",
   "nbconvert_exporter": "python",
   "pygments_lexer": "ipython3",
   "version": "3.7.5"
  }
 },
 "nbformat": 4,
 "nbformat_minor": 4
}

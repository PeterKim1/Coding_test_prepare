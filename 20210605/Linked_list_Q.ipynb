{
 "cells": [
  {
   "cell_type": "markdown",
   "metadata": {},
   "source": [
    "# 1. Node를 class로 구현하기"
   ]
  },
  {
   "cell_type": "code",
   "execution_count": 6,
   "metadata": {},
   "outputs": [],
   "source": [
    "class Node:\n",
    "    def __init__(self, data, nex=None):\n",
    "        self.data = data\n",
    "        self.next = nex"
   ]
  },
  {
   "cell_type": "code",
   "execution_count": 7,
   "metadata": {},
   "outputs": [
    {
     "name": "stdout",
     "output_type": "stream",
     "text": [
      "1\n",
      "<__main__.Node object at 0x0000023BEA914A48>\n",
      "<__main__.Node object at 0x0000023BEA914A48>\n",
      "2\n"
     ]
    }
   ],
   "source": [
    "node1 = Node(1)\n",
    "node2 = Node(2)\n",
    "node1.next = node2\n",
    "\n",
    "print(node1.data)\n",
    "print(node1.next)\n",
    "print(node2)\n",
    "print(node2.data)"
   ]
  },
  {
   "cell_type": "markdown",
   "metadata": {},
   "source": [
    "# 2. Linked list에 데이터를 추가하는 함수 구현"
   ]
  },
  {
   "cell_type": "code",
   "execution_count": 8,
   "metadata": {},
   "outputs": [],
   "source": [
    "def add(data):\n",
    "    node = node1\n",
    "    while node.next:\n",
    "        node = node.next\n",
    "    node.next = Node(data)"
   ]
  },
  {
   "cell_type": "code",
   "execution_count": 9,
   "metadata": {},
   "outputs": [],
   "source": [
    "for i in range(3, 10):\n",
    "    add(i)"
   ]
  },
  {
   "cell_type": "code",
   "execution_count": 11,
   "metadata": {},
   "outputs": [
    {
     "name": "stdout",
     "output_type": "stream",
     "text": [
      "1\n",
      "2\n",
      "3\n",
      "4\n",
      "5\n",
      "6\n",
      "7\n",
      "8\n",
      "9\n"
     ]
    }
   ],
   "source": [
    "head = node1\n",
    "while head.next:\n",
    "    print(head.data)\n",
    "    head = head.next\n",
    "print(head.data)"
   ]
  },
  {
   "cell_type": "markdown",
   "metadata": {},
   "source": [
    "# 3. 링크드 리스트 사이에 노드 하나 껴넣기"
   ]
  },
  {
   "cell_type": "code",
   "execution_count": 12,
   "metadata": {},
   "outputs": [
    {
     "name": "stdout",
     "output_type": "stream",
     "text": [
      "1\n",
      "1.5\n",
      "2\n",
      "3\n",
      "4\n",
      "5\n",
      "6\n",
      "7\n",
      "8\n",
      "Last:  9\n"
     ]
    }
   ],
   "source": [
    "node_new = Node(1.5)\n",
    "\n",
    "head = node1\n",
    "search = True\n",
    "while search:\n",
    "    if head.data == 1:\n",
    "        search = False\n",
    "    else:\n",
    "        head = head.next\n",
    "tmp = head.next\n",
    "head.next = node_new\n",
    "node_new.next = tmp\n",
    "\n",
    "while head.next:\n",
    "    print(head.data)\n",
    "    head = head.next\n",
    "print(\"Last: \", head.data)"
   ]
  },
  {
   "cell_type": "markdown",
   "metadata": {},
   "source": [
    "# 4. 객체 지향형으로 링크드 리스트 만들기\n",
    "노드를 추가하는 add function과 노드의 정보를 출력하는 desc 함수를 구현"
   ]
  },
  {
   "cell_type": "code",
   "execution_count": 14,
   "metadata": {},
   "outputs": [],
   "source": [
    "class NodeMgmt:\n",
    "    def __init__(self, data):\n",
    "        self.head = Node(data)\n",
    "        \n",
    "    def add(self, data):\n",
    "        if self.head == '':\n",
    "            self.head = Node(data)\n",
    "        else:\n",
    "            node = self.head # 맨 처음 노드를 저장해주고\n",
    "            while node.next: # next가 없을 때 까지 반복문을 적용해준다\n",
    "                node = node.next # 다음 노드로 이동!\n",
    "            node.next = Node(data) # 마지막 노드의 next에 새로운 데이터를 추가해줌\n",
    "        \n",
    "    def desc(self):\n",
    "        node = self.head\n",
    "        while node.next:\n",
    "            print(node.data)\n",
    "            node = node.next\n",
    "        print(node.data)"
   ]
  },
  {
   "cell_type": "code",
   "execution_count": 15,
   "metadata": {},
   "outputs": [],
   "source": [
    "Linked_list_1 = NodeMgmt(0)"
   ]
  },
  {
   "cell_type": "code",
   "execution_count": 16,
   "metadata": {},
   "outputs": [],
   "source": [
    "for i in range(1, 10):\n",
    "    Linked_list_1.add(i)"
   ]
  },
  {
   "cell_type": "code",
   "execution_count": 17,
   "metadata": {},
   "outputs": [
    {
     "name": "stdout",
     "output_type": "stream",
     "text": [
      "0\n",
      "1\n",
      "2\n",
      "3\n",
      "4\n",
      "5\n",
      "6\n",
      "7\n",
      "8\n",
      "9\n"
     ]
    }
   ],
   "source": [
    "Linked_list_1.desc()"
   ]
  },
  {
   "cell_type": "markdown",
   "metadata": {},
   "source": [
    "# 5. 특정 숫자인 노드 찾기\n",
    "특정 숫자를 찾는 search function을 구현"
   ]
  },
  {
   "cell_type": "code",
   "execution_count": 18,
   "metadata": {},
   "outputs": [],
   "source": [
    "class NodeMgmt:\n",
    "    def __init__(self, data):\n",
    "        self.head = Node(data)\n",
    "        \n",
    "    def add(self, data):\n",
    "        if self.head == '':\n",
    "            self.head = Node(data)\n",
    "        else:\n",
    "            node = self.head # 맨 처음 노드를 저장해주고\n",
    "            while node.next: # next가 없을 때 까지 반복문을 적용해준다\n",
    "                node = node.next # 다음 노드로 이동!\n",
    "            node.next = Node(data) # 마지막 노드의 next에 새로운 데이터를 추가해줌\n",
    "        \n",
    "    def desc(self):\n",
    "        node = self.head\n",
    "        while node.next:\n",
    "            print(node.data)\n",
    "            node = node.next\n",
    "        print(node.data)\n",
    "        \n",
    "    def search(self, data):\n",
    "        node = self.head\n",
    "        while node.next: # next 노드가 없을 때 까지\n",
    "            if node.data == data:\n",
    "                return node\n",
    "            else:\n",
    "                node = node.next"
   ]
  },
  {
   "cell_type": "code",
   "execution_count": 20,
   "metadata": {},
   "outputs": [
    {
     "name": "stdout",
     "output_type": "stream",
     "text": [
      "0\n",
      "1\n",
      "2\n",
      "3\n",
      "4\n",
      "5\n",
      "6\n",
      "7\n",
      "8\n",
      "9\n"
     ]
    }
   ],
   "source": [
    "Linked_list_1 = NodeMgmt(0)\n",
    "for i in range(1, 10):\n",
    "    Linked_list_1.add(i)\n",
    "Linked_list_1.desc()"
   ]
  },
  {
   "cell_type": "code",
   "execution_count": 22,
   "metadata": {},
   "outputs": [
    {
     "data": {
      "text/plain": [
       "3"
      ]
     },
     "execution_count": 22,
     "metadata": {},
     "output_type": "execute_result"
    }
   ],
   "source": [
    "s = Linked_list_1.search(3)\n",
    "s.data"
   ]
  },
  {
   "cell_type": "markdown",
   "metadata": {},
   "source": [
    "# 6. 특정한 노드를 삭제하는 기능\n",
    "특정한 노드를 삭제하는 기능을 delete function으로 구현"
   ]
  },
  {
   "cell_type": "code",
   "execution_count": 23,
   "metadata": {},
   "outputs": [],
   "source": [
    "class NodeMgmt:\n",
    "    def __init__(self, data):\n",
    "        self.head = Node(data)\n",
    "        \n",
    "    def add(self, data):\n",
    "        if self.head == '':\n",
    "            self.head = Node(data)\n",
    "        else:\n",
    "            node = self.head # 맨 처음 노드를 저장해주고\n",
    "            while node.next: # next가 없을 때 까지 반복문을 적용해준다\n",
    "                node = node.next # 다음 노드로 이동!\n",
    "            node.next = Node(data) # 마지막 노드의 next에 새로운 데이터를 추가해줌\n",
    "        \n",
    "    def desc(self):\n",
    "        node = self.head\n",
    "        while node.next:\n",
    "            print(node.data)\n",
    "            node = node.next\n",
    "        print(node.data)\n",
    "        \n",
    "    def search(self, data):\n",
    "        node = self.head\n",
    "        while node.next: # next 노드가 없을 때 까지\n",
    "            if node.data == data:\n",
    "                return node\n",
    "            else:\n",
    "                node = node.next\n",
    "                \n",
    "    def delete(self, data):\n",
    "        if self.head == '':\n",
    "            print(\"노드가 비어있음\")\n",
    "            return\n",
    "        \n",
    "        # 지우려고 하는 노드가 맨 처음인 경우\n",
    "        if self.head.data == data:\n",
    "            tmp = self.head\n",
    "            self.head = self.head.next\n",
    "            del tmp\n",
    "        else: # 지우려는 노드가 중간이나 마지막인 경우\n",
    "            node = self.head\n",
    "            while node.next:\n",
    "                if node.next.data == data: # 다음 데이터가 data와 같으면\n",
    "                    t_ = node.next \n",
    "                    node.next = node.next.next # 다음다음 데이터를 다음으로 만들어줌\n",
    "                    del t_\n",
    "                    return\n",
    "                else:\n",
    "                    node = node.next\n",
    "                    "
   ]
  },
  {
   "cell_type": "code",
   "execution_count": 24,
   "metadata": {},
   "outputs": [
    {
     "name": "stdout",
     "output_type": "stream",
     "text": [
      "0\n",
      "1\n",
      "2\n",
      "3\n",
      "4\n",
      "5\n",
      "6\n",
      "7\n",
      "8\n",
      "9\n"
     ]
    }
   ],
   "source": [
    "Linked_list_1 = NodeMgmt(0)\n",
    "for i in range(1, 10):\n",
    "    Linked_list_1.add(i)\n",
    "Linked_list_1.desc()"
   ]
  },
  {
   "cell_type": "code",
   "execution_count": 25,
   "metadata": {},
   "outputs": [],
   "source": [
    "Linked_list_1.delete(3)"
   ]
  },
  {
   "cell_type": "code",
   "execution_count": 26,
   "metadata": {},
   "outputs": [
    {
     "name": "stdout",
     "output_type": "stream",
     "text": [
      "0\n",
      "1\n",
      "2\n",
      "4\n",
      "5\n",
      "6\n",
      "7\n",
      "8\n",
      "9\n"
     ]
    }
   ],
   "source": [
    "Linked_list_1.desc()"
   ]
  },
  {
   "cell_type": "markdown",
   "metadata": {},
   "source": [
    "# 7. 더블 링크드 리스트\n",
    "1. 맨 마지막에 추가적으로 Node를 넣어주는 insert function 구현\n",
    "2. 전체 node의 데이터를 출력해주는 description 함수 구현되어야 함."
   ]
  },
  {
   "cell_type": "code",
   "execution_count": 34,
   "metadata": {},
   "outputs": [],
   "source": [
    "class Node:\n",
    "    def __init__(self, data, prev=None, nex=None):\n",
    "        self.prev = prev\n",
    "        self.data = data\n",
    "        self.next = nex\n",
    "        \n",
    "class DNodeMgmt:\n",
    "    def __init__(self, data):\n",
    "        self.head = Node(data)\n",
    "        self.tail = self.head\n",
    "        \n",
    "    def insert(self, data):\n",
    "        if self.head == None:\n",
    "            self.head = Node(data)\n",
    "            self.tail = self.head\n",
    "        else:\n",
    "            node = self.head\n",
    "            while node.next:\n",
    "                node = node.next\n",
    "            # 여기서 node는 가장 마지막 node가 된다.\n",
    "            new = Node(data) # 새롭게 추가할 node를 만들어주고\n",
    "            node.next = new # 마지막 노드의 next에 new를 추가\n",
    "            new.prev = node # new의 이전에는 node가 있다.\n",
    "            self.tail = new\n",
    "            \n",
    "    def desc(self):\n",
    "        node = self.head\n",
    "        while node.next:\n",
    "            print(node.data)\n",
    "            node = node.next\n",
    "        print(node.data)"
   ]
  },
  {
   "cell_type": "code",
   "execution_count": 35,
   "metadata": {},
   "outputs": [],
   "source": [
    "D_link_list = DNodeMgmt(0)"
   ]
  },
  {
   "cell_type": "code",
   "execution_count": 36,
   "metadata": {},
   "outputs": [],
   "source": [
    "for i in range(1, 10):\n",
    "    D_link_list.insert(i)"
   ]
  },
  {
   "cell_type": "code",
   "execution_count": 37,
   "metadata": {},
   "outputs": [
    {
     "name": "stdout",
     "output_type": "stream",
     "text": [
      "0\n",
      "1\n",
      "2\n",
      "3\n",
      "4\n",
      "5\n",
      "6\n",
      "7\n",
      "8\n",
      "9\n"
     ]
    }
   ],
   "source": [
    "D_link_list.desc()"
   ]
  },
  {
   "cell_type": "markdown",
   "metadata": {},
   "source": [
    "# 8. 더블 링크드 리스트(2)\n",
    "1. 맨 마지막에 추가적으로 Node를 넣어주는 함수\n",
    "2. 전체 node의 데이터를 출력해주는 description 함수 구현되어야 함.\n",
    "3. 앞에서 찾는 search_from_head 함수 구현\n",
    "4. 뒤에서 찾는 search_from_tail 함수 구현\n",
    "5. 특정 값을 가지는 노드 앞에 insert하는 함수 구현(insert_before)"
   ]
  },
  {
   "cell_type": "code",
   "execution_count": 38,
   "metadata": {},
   "outputs": [],
   "source": [
    "class Node:\n",
    "    def __init__(self, data, prev=None, nex=None):\n",
    "        self.prev = prev\n",
    "        self.data = data\n",
    "        self.next = nex\n",
    "        \n",
    "class DNodeMgmt:\n",
    "    def __init__(self, data):\n",
    "        self.head = Node(data)\n",
    "        self.tail = self.head\n",
    "        \n",
    "    def insert(self, data):\n",
    "        if self.head == None:\n",
    "            self.head = Node(data)\n",
    "            self.tail = self.head\n",
    "        else:\n",
    "            node = self.head\n",
    "            while node.next:\n",
    "                node = node.next\n",
    "            # 여기서 node는 가장 마지막 node가 된다.\n",
    "            new = Node(data) # 새롭게 추가할 node를 만들어주고\n",
    "            node.next = new # 마지막 노드의 next에 new를 추가\n",
    "            new.prev = node # new의 이전에는 node가 있다.\n",
    "            self.tail = new\n",
    "            \n",
    "    def desc(self):\n",
    "        node = self.head\n",
    "        while node.next:\n",
    "            print(node.data)\n",
    "            node = node.next\n",
    "        print(node.data)\n",
    "        \n",
    "    def search_from_head(self, data):\n",
    "        if self.head == None:\n",
    "            return False\n",
    "        node = self.head\n",
    "        while node.next:\n",
    "            if node.data == data:\n",
    "                return node\n",
    "            else:\n",
    "                node = node.next\n",
    "        return False\n",
    "    \n",
    "    def search_from_tail(self, data):\n",
    "        if self.tail == None:\n",
    "            return False\n",
    "        node = self.tail\n",
    "        while node.prev:\n",
    "            if node.data == data:\n",
    "                return node\n",
    "            else:\n",
    "                node = node.prev\n",
    "        return False\n",
    "    \n",
    "    def insert_before(self, data, before):\n",
    "        if self.head == None:\n",
    "            self.head = Node(data)\n",
    "            return True\n",
    "        else:\n",
    "            node = self.tail\n",
    "            while node.data != before:\n",
    "                node = node.prev\n",
    "                if node == None:\n",
    "                    return False\n",
    "            new = Node(data)\n",
    "            before_new = node.prev\n",
    "            before_new.next = new\n",
    "            new.prev = before_new\n",
    "            new.next = node\n",
    "            node.prev = new\n",
    "            return True\n",
    "        \n",
    "    def insert_after(self, data, after):\n",
    "        if self.head == None:\n",
    "            self.head = Node(data)\n",
    "            return True\n",
    "        else:\n",
    "            node = self.head\n",
    "            while node.data != after:\n",
    "                node = node.next\n",
    "                if node == None:\n",
    "                    return False\n",
    "            # 여기서 나오는 node는 node.data가 after랑 같은 경우\n",
    "            new = Node(data) # 새로운 노드 생성\n",
    "            after_new = node.next # new의 다음은 node.next이다.\n",
    "            node.next = new # 현재 노드의 다음은 new가 된다\n",
    "            new.prev = node # 새로운 노드의 prev는 node가 된다.\n",
    "            new.next = after_new\n",
    "            after_new.prev = new\n",
    "            return True\n",
    "            \n",
    "        \n",
    "    "
   ]
  },
  {
   "cell_type": "code",
   "execution_count": 40,
   "metadata": {},
   "outputs": [
    {
     "name": "stdout",
     "output_type": "stream",
     "text": [
      "0\n",
      "1\n",
      "2\n",
      "3\n",
      "4\n",
      "5\n",
      "6\n",
      "7\n",
      "8\n",
      "9\n"
     ]
    }
   ],
   "source": [
    "D_link_list = DNodeMgmt(0)\n",
    "for i in range(1, 10):\n",
    "    D_link_list.insert(i)\n",
    "D_link_list.desc()"
   ]
  },
  {
   "cell_type": "code",
   "execution_count": 41,
   "metadata": {},
   "outputs": [
    {
     "data": {
      "text/plain": [
       "True"
      ]
     },
     "execution_count": 41,
     "metadata": {},
     "output_type": "execute_result"
    }
   ],
   "source": [
    "D_link_list.insert_before(1.7, 2)"
   ]
  },
  {
   "cell_type": "code",
   "execution_count": 42,
   "metadata": {},
   "outputs": [
    {
     "name": "stdout",
     "output_type": "stream",
     "text": [
      "0\n",
      "1\n",
      "1.7\n",
      "2\n",
      "3\n",
      "4\n",
      "5\n",
      "6\n",
      "7\n",
      "8\n",
      "9\n"
     ]
    }
   ],
   "source": [
    "D_link_list.desc()"
   ]
  },
  {
   "cell_type": "code",
   "execution_count": 43,
   "metadata": {},
   "outputs": [
    {
     "data": {
      "text/plain": [
       "True"
      ]
     },
     "execution_count": 43,
     "metadata": {},
     "output_type": "execute_result"
    }
   ],
   "source": [
    "D_link_list.insert_after(2.5, 2)"
   ]
  },
  {
   "cell_type": "code",
   "execution_count": 44,
   "metadata": {},
   "outputs": [
    {
     "name": "stdout",
     "output_type": "stream",
     "text": [
      "0\n",
      "1\n",
      "1.7\n",
      "2\n",
      "2.5\n",
      "3\n",
      "4\n",
      "5\n",
      "6\n",
      "7\n",
      "8\n",
      "9\n"
     ]
    }
   ],
   "source": [
    "D_link_list.desc()"
   ]
  },
  {
   "cell_type": "code",
   "execution_count": null,
   "metadata": {},
   "outputs": [],
   "source": []
  }
 ],
 "metadata": {
  "kernelspec": {
   "display_name": "Python 3",
   "language": "python",
   "name": "python3"
  },
  "language_info": {
   "codemirror_mode": {
    "name": "ipython",
    "version": 3
   },
   "file_extension": ".py",
   "mimetype": "text/x-python",
   "name": "python",
   "nbconvert_exporter": "python",
   "pygments_lexer": "ipython3",
   "version": "3.7.5"
  }
 },
 "nbformat": 4,
 "nbformat_minor": 4
}

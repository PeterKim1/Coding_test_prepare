{
 "cells": [
  {
   "cell_type": "markdown",
   "metadata": {},
   "source": [
    "## 1. 프림 알고리즘 (Prim's algorithm) 작성"
   ]
  },
  {
   "cell_type": "code",
   "execution_count": 11,
   "metadata": {},
   "outputs": [
    {
     "name": "stdout",
     "output_type": "stream",
     "text": [
      "[2, 'A']\n",
      "[3, 'C']\n",
      "[5, 'B']\n",
      "[]\n"
     ]
    }
   ],
   "source": [
    "# 우선순위 queue를 구현하는 heapq 사용\n",
    "import heapq\n",
    "\n",
    "queue = []\n",
    "graph_data = [[2, 'A'], [5, 'B'], [3, 'C']]\n",
    "\n",
    "for edge in graph_data:\n",
    "    heapq.heappush(queue, edge) # queue에 데이터를 추가\n",
    "    \n",
    "for index in range(len(queue)):\n",
    "    print(heapq.heappop(queue)) # 우선순위 큐로 되어 있어 heappop을 진행하면 작은 순으로 나오게 됨\n",
    "\n",
    "print(queue) # heappop으로 해서 데이터가 빠지기 때문에 queue에는 비어 있는 상황"
   ]
  },
  {
   "cell_type": "code",
   "execution_count": 10,
   "metadata": {},
   "outputs": [
    {
     "name": "stdout",
     "output_type": "stream",
     "text": [
      "[2, 'A']\n",
      "[3, 'C']\n",
      "[5, 'B']\n",
      "[]\n"
     ]
    }
   ],
   "source": [
    "# heapq.heapify를 사용하면 데이터 자체를 heap 형태로 한 번에 변환\n",
    "import heapq\n",
    "\n",
    "graph_data = [[2, 'A'], [5, 'B'], [3, 'C']]\n",
    "\n",
    "heapq.heapify(graph_data)\n",
    "    \n",
    "for index in range(len(graph_data)):\n",
    "    print (heapq.heappop(graph_data))\n",
    "\n",
    "print (graph_data)"
   ]
  },
  {
   "cell_type": "markdown",
   "metadata": {},
   "source": [
    "defaultdict 함수를 사용하면, key에 대한 value를 지정하지 않았을 때 빈 리스트를 출력하게 됨."
   ]
  },
  {
   "cell_type": "code",
   "execution_count": 14,
   "metadata": {},
   "outputs": [
    {
     "name": "stdout",
     "output_type": "stream",
     "text": [
      "[]\n"
     ]
    },
    {
     "ename": "KeyError",
     "evalue": "'key1'",
     "output_type": "error",
     "traceback": [
      "\u001b[1;31m---------------------------------------------------------------------------\u001b[0m",
      "\u001b[1;31mKeyError\u001b[0m                                  Traceback (most recent call last)",
      "\u001b[1;32m<ipython-input-14-e03bfe85bbf3>\u001b[0m in \u001b[0;36m<module>\u001b[1;34m\u001b[0m\n\u001b[0;32m      5\u001b[0m \u001b[1;33m\u001b[0m\u001b[0m\n\u001b[0;32m      6\u001b[0m \u001b[0mlist_dict2\u001b[0m \u001b[1;33m=\u001b[0m \u001b[0mdict\u001b[0m\u001b[1;33m(\u001b[0m\u001b[1;33m)\u001b[0m\u001b[1;33m\u001b[0m\u001b[1;33m\u001b[0m\u001b[0m\n\u001b[1;32m----> 7\u001b[1;33m \u001b[0mprint\u001b[0m\u001b[1;33m(\u001b[0m\u001b[0mlist_dict2\u001b[0m\u001b[1;33m[\u001b[0m\u001b[1;34m'key1'\u001b[0m\u001b[1;33m]\u001b[0m\u001b[1;33m)\u001b[0m\u001b[1;33m\u001b[0m\u001b[1;33m\u001b[0m\u001b[0m\n\u001b[0m",
      "\u001b[1;31mKeyError\u001b[0m: 'key1'"
     ]
    }
   ],
   "source": [
    "from collections import defaultdict\n",
    "\n",
    "list_dict = defaultdict(list)\n",
    "print(list_dict['key1']) # key에 대한 value가 없는 경우 초기화된 값을 줌\n",
    "\n",
    "list_dict2 = dict()\n",
    "print(list_dict2['key1']) # key에 대한 value가 없는 경우 'KeyError'가 발생함."
   ]
  },
  {
   "cell_type": "code",
   "execution_count": 20,
   "metadata": {},
   "outputs": [],
   "source": [
    "myedges = [\n",
    "    (7, 'A', 'B'), (5, 'A', 'D'),\n",
    "    (8, 'B', 'C'), (9, 'B', 'D'), (7, 'B', 'E'),\n",
    "    (5, 'C', 'E'),\n",
    "    (7, 'D', 'E'), (6, 'D', 'F'),\n",
    "    (8, 'E', 'F'), (9, 'E', 'G'),\n",
    "    (11, 'F', 'G')\n",
    "]"
   ]
  },
  {
   "cell_type": "code",
   "execution_count": 23,
   "metadata": {},
   "outputs": [],
   "source": [
    "from collections import defaultdict\n",
    "from heapq import *\n",
    "\n",
    "def prim(start_node, edges):\n",
    "    mst = list() # 최소 신장 트리 간선 리스트\n",
    "    adjacent_edges = defaultdict(list) # key는 노드 이름이 되고, value는 노드에 연결된 간선 list가 됨.\n",
    "    for weight, n1, n2 in edges:\n",
    "        adjacent_edges[n1].append((weight, n1, n2))\n",
    "        adjacent_edges[n2].append((weight, n2, n1))\n",
    "    \n",
    "    connected_nodes = set(start_node)\n",
    "    candidate_edge_list = adjacent_edges[start_node] # 후보 간선 리스트\n",
    "    heapify(candidate_edge_list) # 이를 최소 힙 구조로 만들어버림\n",
    "    \n",
    "    while candidate_edge_list:\n",
    "        weight, n1, n2 = heappop(candidate_edge_list) # 가장 weight가 낮은 데이터를 추출\n",
    "        \n",
    "        if n2 not in connected_nodes: # 최소 weight 간선의 도착 지점이 연결된 적이 없을 때\n",
    "            connected_nodes.add(n2) # connected node에 도착 지점을 추가\n",
    "            mst.append((weight, n1, n2))\n",
    "            \n",
    "            for edge in adjacent_edges[n2]: # 도착 지점에 인접한 edge들에 대한 정보에 대해\n",
    "                if edge[2] not in connected_nodes: # 도착 지점이 연결된 적 없다면\n",
    "                    heappush(candidate_edge_list, edge) # heappush로 추가\n",
    "                    \n",
    "    return mst"
   ]
  },
  {
   "cell_type": "code",
   "execution_count": 24,
   "metadata": {},
   "outputs": [
    {
     "data": {
      "text/plain": [
       "[(5, 'A', 'D'),\n",
       " (6, 'D', 'F'),\n",
       " (7, 'A', 'B'),\n",
       " (7, 'B', 'E'),\n",
       " (5, 'E', 'C'),\n",
       " (9, 'E', 'G')]"
      ]
     },
     "execution_count": 24,
     "metadata": {},
     "output_type": "execute_result"
    }
   ],
   "source": [
    "prim('A', myedges)"
   ]
  },
  {
   "cell_type": "code",
   "execution_count": null,
   "metadata": {},
   "outputs": [],
   "source": []
  }
 ],
 "metadata": {
  "kernelspec": {
   "display_name": "Python 3",
   "language": "python",
   "name": "python3"
  },
  "language_info": {
   "codemirror_mode": {
    "name": "ipython",
    "version": 3
   },
   "file_extension": ".py",
   "mimetype": "text/x-python",
   "name": "python",
   "nbconvert_exporter": "python",
   "pygments_lexer": "ipython3",
   "version": "3.7.5"
  }
 },
 "nbformat": 4,
 "nbformat_minor": 4
}

{
 "cells": [
  {
   "cell_type": "code",
   "execution_count": 25,
   "metadata": {},
   "outputs": [],
   "source": [
    "class Node:\n",
    "    def __init__(self, data, nex=None):\n",
    "        self.data = data\n",
    "        self.next = nex"
   ]
  },
  {
   "cell_type": "code",
   "execution_count": 26,
   "metadata": {},
   "outputs": [],
   "source": [
    "node1 = Node(1)\n",
    "node2 = Node(2)\n",
    "node1.next = node2"
   ]
  },
  {
   "cell_type": "code",
   "execution_count": 27,
   "metadata": {},
   "outputs": [
    {
     "name": "stdout",
     "output_type": "stream",
     "text": [
      "<__main__.Node object at 0x000001F178222FC8>\n",
      "<__main__.Node object at 0x000001F1782229C8>\n",
      "<__main__.Node object at 0x000001F1782229C8>\n"
     ]
    }
   ],
   "source": [
    "print(node1)\n",
    "print(node1.next)\n",
    "print(node2)\n"
   ]
  },
  {
   "cell_type": "code",
   "execution_count": 28,
   "metadata": {},
   "outputs": [],
   "source": [
    "def add(data):\n",
    "    node = head # 맨 처음 node를 저장\n",
    "    while node.next: # node.next가 없을 때 까지 진행\n",
    "        node = node.next # node.next를 이번 node로 지정\n",
    "    node.next = Node(data)\n",
    "    "
   ]
  },
  {
   "cell_type": "code",
   "execution_count": 29,
   "metadata": {},
   "outputs": [],
   "source": [
    "node1 = Node(1)\n",
    "node2 = Node(2)\n",
    "node1.next = node2\n",
    "head = node1\n",
    "\n",
    "for i in range(3, 10):\n",
    "    add(i)"
   ]
  },
  {
   "cell_type": "code",
   "execution_count": 30,
   "metadata": {},
   "outputs": [
    {
     "name": "stdout",
     "output_type": "stream",
     "text": [
      "1\n",
      "2\n",
      "3\n",
      "4\n",
      "5\n",
      "6\n",
      "7\n",
      "8\n",
      "Last:  9\n"
     ]
    }
   ],
   "source": [
    "node = head\n",
    "while node.next:\n",
    "    print(node.data)\n",
    "    node = node.next\n",
    "print(\"Last: \", node.data)"
   ]
  },
  {
   "cell_type": "markdown",
   "metadata": {},
   "source": [
    "# 링크드 리스트 사이에 껴넣기"
   ]
  },
  {
   "cell_type": "code",
   "execution_count": 17,
   "metadata": {},
   "outputs": [
    {
     "name": "stdout",
     "output_type": "stream",
     "text": [
      "1\n",
      "1.5\n",
      "2\n",
      "3\n",
      "4\n",
      "5\n",
      "6\n",
      "7\n",
      "8\n",
      "Last:  9\n"
     ]
    }
   ],
   "source": [
    "# 1과 2 사이에 1.5를 넣어보자.\n",
    "\n",
    "node3 = Node(1.5) # 새로 하나 만들어줌\n",
    "\n",
    "node = head\n",
    "search = True\n",
    "while search:\n",
    "    if node.data == 1:\n",
    "        search = False\n",
    "    else:\n",
    "        node = node.next\n",
    "        \n",
    "nex_ = node.next # 1 -> 2로 가는 데이터를 임시로 저장\n",
    "node.next = node3 # 1 -> 1.5로 가도록 node3을 지정\n",
    "node3.next = nex_ # 1.5 -> 2로 가도록 아까 저장한 데이터를 가져와줌\n",
    "\n",
    "while node.next:\n",
    "    print(node.data)\n",
    "    node = node.next\n",
    "print(\"Last: \", node.data)\n"
   ]
  },
  {
   "cell_type": "markdown",
   "metadata": {},
   "source": [
    "객체지향형으로 링크드 리스트 만들기"
   ]
  },
  {
   "cell_type": "code",
   "execution_count": 31,
   "metadata": {},
   "outputs": [],
   "source": [
    "# 노드 class 만들기\n",
    "class Node:\n",
    "    def __init__(self, data, nex = None):\n",
    "        self.data = data\n",
    "        self.next = nex\n",
    "        \n",
    "\n",
    "# 노드를 관리하는 class\n",
    "class NodeMgt:\n",
    "    def __init__(self, data): # 맨 처음 node를 생성할 때 데이터를 받아서 생성해줌\n",
    "        self.head = Node(data)\n",
    "        \n",
    "    # 노드에 데이터를 추가하는 기능을 구현\n",
    "    def add(self, data):\n",
    "        if self.head == '':\n",
    "            self.head = Node(data)\n",
    "        else:\n",
    "            node = self.head # 만들어진 노드를 node로 저장\n",
    "            while node.next: # next가 없을 때 까지\n",
    "                node = node.next # 계속해서 그 다음 node로 넘어간다\n",
    "            node.next = Node(data) # 맨 마지막 node의 next에 data를 넣어준다\n",
    "            \n",
    "    # 노드를 전체적으로 출력하는 기능을 구현\n",
    "    def desc(self):\n",
    "        node = self.head\n",
    "        while node.next:\n",
    "            print(node.data)\n",
    "            node = node.next\n",
    "        print(node.data)"
   ]
  },
  {
   "cell_type": "code",
   "execution_count": 32,
   "metadata": {},
   "outputs": [
    {
     "name": "stdout",
     "output_type": "stream",
     "text": [
      "0\n"
     ]
    }
   ],
   "source": [
    "linkedlist1 = NodeMgt(0)\n",
    "linkedlist1.desc()"
   ]
  },
  {
   "cell_type": "code",
   "execution_count": 33,
   "metadata": {},
   "outputs": [],
   "source": [
    "for i in range(1, 10):\n",
    "    linkedlist1.add(i)"
   ]
  },
  {
   "cell_type": "code",
   "execution_count": 24,
   "metadata": {},
   "outputs": [
    {
     "name": "stdout",
     "output_type": "stream",
     "text": [
      "0\n",
      "1\n",
      "2\n",
      "3\n",
      "4\n",
      "5\n",
      "6\n",
      "7\n",
      "8\n",
      "9\n"
     ]
    }
   ],
   "source": [
    "linkedlist1.desc()"
   ]
  },
  {
   "cell_type": "markdown",
   "metadata": {},
   "source": [
    "# 특정 숫자인 노드 찾기"
   ]
  },
  {
   "cell_type": "code",
   "execution_count": 78,
   "metadata": {},
   "outputs": [],
   "source": [
    "# 노드 class 만들기\n",
    "class Node:\n",
    "    def __init__(self, data, nex = None):\n",
    "        self.data = data\n",
    "        self.next = nex\n",
    "        \n",
    "\n",
    "# 노드를 관리하는 class\n",
    "class NodeMgt:\n",
    "    def __init__(self, data): # 맨 처음 node를 생성할 때 데이터를 받아서 생성해줌\n",
    "        self.head = Node(data)\n",
    "        \n",
    "    # 노드에 데이터를 추가하는 기능을 구현\n",
    "    def add(self, data):\n",
    "        if self.head == '':\n",
    "            self.head = Node(data)\n",
    "        else:\n",
    "            node = self.head # 만들어진 노드를 node로 저장\n",
    "            while node.next: # next가 없을 때 까지\n",
    "                node = node.next # 계속해서 그 다음 node로 넘어간다\n",
    "            node.next = Node(data) # 맨 마지막 node의 next에 data를 넣어준다\n",
    "            \n",
    "    # 노드를 전체적으로 출력하는 기능을 구현\n",
    "    def desc(self):\n",
    "        node = self.head\n",
    "        while node.next:\n",
    "            print(node.data)\n",
    "            node = node.next\n",
    "        print(node.data)\n",
    "        \n",
    "    # 노드를 삭제하는 기능\n",
    "    def delete(self, data):\n",
    "        if self.head == '':\n",
    "            print(\"비어 있음\")\n",
    "            return\n",
    "        \n",
    "        if self.head.data == data:\n",
    "            tmp = self.head\n",
    "            self.head = self.head.next\n",
    "            del tmp\n",
    "        else:\n",
    "            node = self.head\n",
    "            while node.next: # 마지막 노드까지 반복시행\n",
    "                if node.next.data == data:\n",
    "                    tmp_ = node.next\n",
    "                    node.next = node.next.next\n",
    "                    del tmp_\n",
    "                    return\n",
    "                \n",
    "                else:\n",
    "                    node = node.next\n",
    "                \n",
    "                \n",
    "    # 특정 요소를 찾는 기능\n",
    "    def search(self, data):\n",
    "        node = self.head\n",
    "        while node.next:\n",
    "            if node.data == data:\n",
    "                return node\n",
    "            else:\n",
    "                node = node.next"
   ]
  },
  {
   "cell_type": "code",
   "execution_count": 79,
   "metadata": {},
   "outputs": [],
   "source": [
    "linkedlist1 = NodeMgt(1)"
   ]
  },
  {
   "cell_type": "code",
   "execution_count": 80,
   "metadata": {},
   "outputs": [],
   "source": [
    "for i in range(2, 10):\n",
    "    linkedlist1.add(i)"
   ]
  },
  {
   "cell_type": "code",
   "execution_count": 81,
   "metadata": {},
   "outputs": [
    {
     "name": "stdout",
     "output_type": "stream",
     "text": [
      "1\n",
      "2\n",
      "3\n",
      "4\n",
      "5\n",
      "6\n",
      "7\n",
      "8\n",
      "9\n"
     ]
    }
   ],
   "source": [
    "linkedlist1.desc()"
   ]
  },
  {
   "cell_type": "code",
   "execution_count": 82,
   "metadata": {},
   "outputs": [],
   "source": [
    "linkedlist1.delete(3)"
   ]
  },
  {
   "cell_type": "code",
   "execution_count": 83,
   "metadata": {},
   "outputs": [
    {
     "name": "stdout",
     "output_type": "stream",
     "text": [
      "1\n",
      "2\n",
      "4\n",
      "5\n",
      "6\n",
      "7\n",
      "8\n",
      "9\n"
     ]
    }
   ],
   "source": [
    "linkedlist1.desc()"
   ]
  },
  {
   "cell_type": "code",
   "execution_count": 84,
   "metadata": {},
   "outputs": [
    {
     "name": "stdout",
     "output_type": "stream",
     "text": [
      "4\n"
     ]
    }
   ],
   "source": [
    "return_node = linkedlist1.search(4)\n",
    "print(return_node.data)"
   ]
  },
  {
   "cell_type": "markdown",
   "metadata": {},
   "source": [
    "더블 링크드 리스트\n",
    "1. 맨 마지막에 추가적으로 Node를 넣어주는 함수\n",
    "2. 전체 node의 데이터를 출력해주는 description 함수 구현되어야 함."
   ]
  },
  {
   "cell_type": "code",
   "execution_count": 92,
   "metadata": {},
   "outputs": [],
   "source": [
    "class Node:\n",
    "    def __init__(self, data,prev=None, nex=None):\n",
    "        self.data = data\n",
    "        self.prev = prev\n",
    "        self.next = nex\n",
    "        \n",
    "class NodeMgmt:\n",
    "    def __init__(self, data):\n",
    "        self.head = Node(data)\n",
    "        self.tail = self.head\n",
    "        \n",
    "    # 맨 마지막에 추가적으로 Node 넣어주기\n",
    "    def insert(self, data):\n",
    "        if self.head == None:\n",
    "            self.head = Node(data)\n",
    "            self.tail = self.head\n",
    "        else:\n",
    "            node = self.head\n",
    "            while node.next:\n",
    "                node = node.next\n",
    "            new = Node(data)\n",
    "            node.next = new\n",
    "            new.prev = node\n",
    "            self.tail = new\n",
    "            \n",
    "    def desc(self):\n",
    "        node = self.head\n",
    "        while node:\n",
    "            print(node.data)\n",
    "            node = node.next\n",
    "        "
   ]
  },
  {
   "cell_type": "code",
   "execution_count": 94,
   "metadata": {},
   "outputs": [
    {
     "name": "stdout",
     "output_type": "stream",
     "text": [
      "0\n",
      "1\n",
      "2\n",
      "3\n",
      "4\n",
      "5\n",
      "6\n",
      "7\n",
      "8\n",
      "9\n"
     ]
    }
   ],
   "source": [
    "double_linked_list = NodeMgmt(0)\n",
    "for i in range(1, 10):\n",
    "    double_linked_list.insert(i)\n",
    "    \n",
    "double_linked_list.desc()"
   ]
  },
  {
   "cell_type": "markdown",
   "metadata": {},
   "source": [
    "더블 링크드 리스트\n",
    "1. 맨 마지막에 추가적으로 Node를 넣어주는 함수\n",
    "2. 전체 node의 데이터를 출력해주는 description 함수 구현되어야 함.\n",
    "3. 앞에서 찾는 search_from_head 함수 구현\n",
    "4. 뒤에서 찾는 search_from_tail 함수 구현\n",
    "5. 특정 값을 가지는 노드 앞에 insert하는 함수 구현(insert_before)"
   ]
  },
  {
   "cell_type": "code",
   "execution_count": 124,
   "metadata": {},
   "outputs": [],
   "source": [
    "class Node:\n",
    "    def __init__(self, data,prev=None, nex=None):\n",
    "        self.data = data\n",
    "        self.prev = prev\n",
    "        self.next = nex\n",
    "        \n",
    "class NodeMgmt:\n",
    "    def __init__(self, data):\n",
    "        self.head = Node(data)\n",
    "        self.tail = self.head\n",
    "        \n",
    "    # 맨 마지막에 추가적으로 Node 넣어주기\n",
    "    def insert(self, data):\n",
    "        if self.head == None:\n",
    "            self.head = Node(data)\n",
    "            self.tail = self.head\n",
    "        else:\n",
    "            node = self.head\n",
    "            while node.next:\n",
    "                node = node.next\n",
    "            new = Node(data)\n",
    "            node.next = new\n",
    "            new.prev = node\n",
    "            self.tail = new\n",
    "            \n",
    "    def desc(self):\n",
    "        node = self.head\n",
    "        while node:\n",
    "            print(node.data)\n",
    "            node = node.next\n",
    "            \n",
    "    def search_from_head(self, data):\n",
    "        if self.head == None:\n",
    "            return False\n",
    "        node = self.head\n",
    "        while node.next:\n",
    "            if node.data == data:\n",
    "                return node\n",
    "            else:\n",
    "                node = node.next\n",
    "        return False\n",
    "    \n",
    "    def search_from_tail(self, data):\n",
    "        if self.tail == None:\n",
    "            return False\n",
    "        node = self.tail\n",
    "        while node.prev:\n",
    "            if node.data == data:\n",
    "                return node\n",
    "            else:\n",
    "                node = node.prev\n",
    "        return False\n",
    "    \n",
    "    def insert_before(self, data, before):\n",
    "        if self.head == None:\n",
    "            self.head = Node(data)\n",
    "            return True\n",
    "        else:\n",
    "            node = self.tail\n",
    "            print(\"node: \", node.data)\n",
    "            while node.data != before:\n",
    "                node = node.prev\n",
    "                print(\"안쪽 node: \", node.data)\n",
    "                if node == None:\n",
    "                    return False\n",
    "            new = Node(data)\n",
    "            before_new = node.prev\n",
    "            before_new.next = new\n",
    "            new.prev = before_new\n",
    "            new.next = node\n",
    "            node.prev = new\n",
    "            return True\n",
    "                "
   ]
  },
  {
   "cell_type": "code",
   "execution_count": 125,
   "metadata": {},
   "outputs": [],
   "source": [
    "dou_link_list = NodeMgmt(0)\n",
    "for i in range(1, 10):\n",
    "    dou_link_list.insert(i)"
   ]
  },
  {
   "cell_type": "code",
   "execution_count": 126,
   "metadata": {},
   "outputs": [
    {
     "name": "stdout",
     "output_type": "stream",
     "text": [
      "0\n",
      "1\n",
      "2\n",
      "3\n",
      "4\n",
      "5\n",
      "6\n",
      "7\n",
      "8\n",
      "9\n"
     ]
    }
   ],
   "source": [
    "dou_link_list.desc()"
   ]
  },
  {
   "cell_type": "code",
   "execution_count": 127,
   "metadata": {},
   "outputs": [
    {
     "name": "stdout",
     "output_type": "stream",
     "text": [
      "node:  9\n",
      "안쪽 node:  8\n",
      "안쪽 node:  7\n",
      "안쪽 node:  6\n",
      "안쪽 node:  5\n",
      "안쪽 node:  4\n",
      "안쪽 node:  3\n",
      "안쪽 node:  2\n"
     ]
    },
    {
     "data": {
      "text/plain": [
       "True"
      ]
     },
     "execution_count": 127,
     "metadata": {},
     "output_type": "execute_result"
    }
   ],
   "source": [
    "dou_link_list.insert_before(1.5, 2)"
   ]
  },
  {
   "cell_type": "code",
   "execution_count": 128,
   "metadata": {},
   "outputs": [
    {
     "name": "stdout",
     "output_type": "stream",
     "text": [
      "0\n",
      "1\n",
      "1.5\n",
      "2\n",
      "3\n",
      "4\n",
      "5\n",
      "6\n",
      "7\n",
      "8\n",
      "9\n"
     ]
    }
   ],
   "source": [
    "dou_link_list.desc()"
   ]
  },
  {
   "cell_type": "markdown",
   "metadata": {},
   "source": [
    "더블 링크드 리스트\n",
    "1. 맨 마지막에 추가적으로 Node를 넣어주는 함수\n",
    "2. 전체 node의 데이터를 출력해주는 description 함수 구현되어야 함.\n",
    "3. 앞에서 찾는 search_from_head 함수 구현\n",
    "4. 뒤에서 찾는 search_from_tail 함수 구현\n",
    "5. 특정 값을 가지는 노드 앞에 insert하는 함수 구현(insert_before)\n",
    "6. 특정 값을 가지는 노드 뒤에 insert하는 함수 구현(insert_after)"
   ]
  },
  {
   "cell_type": "code",
   "execution_count": 133,
   "metadata": {},
   "outputs": [],
   "source": [
    "class Node:\n",
    "    def __init__(self, data,prev=None, nex=None):\n",
    "        self.data = data\n",
    "        self.prev = prev\n",
    "        self.next = nex\n",
    "        \n",
    "class NodeMgmt:\n",
    "    def __init__(self, data):\n",
    "        self.head = Node(data)\n",
    "        self.tail = self.head\n",
    "        \n",
    "    # 맨 마지막에 추가적으로 Node 넣어주기\n",
    "    def insert(self, data):\n",
    "        if self.head == None:\n",
    "            self.head = Node(data)\n",
    "            self.tail = self.head\n",
    "        else:\n",
    "            node = self.head\n",
    "            while node.next:\n",
    "                node = node.next\n",
    "            new = Node(data)\n",
    "            node.next = new\n",
    "            new.prev = node\n",
    "            self.tail = new\n",
    "            \n",
    "    def desc(self):\n",
    "        node = self.head\n",
    "        while node:\n",
    "            print(node.data)\n",
    "            node = node.next\n",
    "            \n",
    "    def search_from_head(self, data):\n",
    "        if self.head == None:\n",
    "            return False\n",
    "        node = self.head\n",
    "        while node.next:\n",
    "            if node.data == data:\n",
    "                return node\n",
    "            else:\n",
    "                node = node.next\n",
    "        return False\n",
    "    \n",
    "    def search_from_tail(self, data):\n",
    "        if self.tail == None:\n",
    "            return False\n",
    "        node = self.tail\n",
    "        while node.prev:\n",
    "            if node.data == data:\n",
    "                return node\n",
    "            else:\n",
    "                node = node.prev\n",
    "        return False\n",
    "    \n",
    "    def insert_before(self, data, before):\n",
    "        if self.head == None:\n",
    "            self.head = Node(data)\n",
    "            return True\n",
    "        else:\n",
    "            node = self.tail\n",
    "            while node.data != before:\n",
    "                node = node.prev\n",
    "                if node == None:\n",
    "                    return False\n",
    "            new = Node(data)\n",
    "            before_new = node.prev\n",
    "            before_new.next = new\n",
    "            new.prev = before_new\n",
    "            new.next = node\n",
    "            node.prev = new\n",
    "            return True\n",
    "    \n",
    "    # data: 넣고 싶은 데이터\n",
    "    # after: 어디 node 뒤에다가 넣을것인가?\n",
    "    def insert_after(self, data, after):\n",
    "        if self.head == None:\n",
    "            self.head = Node(data)\n",
    "            return True\n",
    "        else:\n",
    "            node = self.head\n",
    "            print(\"node:\", node.data)\n",
    "            while node.data != after: # 현재 node의 data가 after랑 같으면 멈춰!\n",
    "                node = node.next # 계속해서 뒤로 이동\n",
    "                print(\"안쪽 node: \", node.data)\n",
    "                if node == None:\n",
    "                    return False\n",
    "            new = Node(data)\n",
    "            after_new = node.next # node의 next를 after_new로 지정\n",
    "            after_new.prev = new\n",
    "            new.prev = node\n",
    "            new.next = after_new\n",
    "            node.next = new\n",
    "            return True\n",
    "            \n",
    "            \n",
    "                "
   ]
  },
  {
   "cell_type": "code",
   "execution_count": 134,
   "metadata": {},
   "outputs": [],
   "source": [
    "dou_link_list = NodeMgmt(0)\n",
    "for i in range(1, 10):\n",
    "    dou_link_list.insert(i)"
   ]
  },
  {
   "cell_type": "code",
   "execution_count": 135,
   "metadata": {},
   "outputs": [
    {
     "name": "stdout",
     "output_type": "stream",
     "text": [
      "0\n",
      "1\n",
      "2\n",
      "3\n",
      "4\n",
      "5\n",
      "6\n",
      "7\n",
      "8\n",
      "9\n"
     ]
    }
   ],
   "source": [
    "dou_link_list.desc()"
   ]
  },
  {
   "cell_type": "code",
   "execution_count": 136,
   "metadata": {},
   "outputs": [
    {
     "name": "stdout",
     "output_type": "stream",
     "text": [
      "node: 0\n",
      "안쪽 node:  1\n"
     ]
    },
    {
     "data": {
      "text/plain": [
       "True"
      ]
     },
     "execution_count": 136,
     "metadata": {},
     "output_type": "execute_result"
    }
   ],
   "source": [
    "dou_link_list.insert_after(1.7, 1)"
   ]
  },
  {
   "cell_type": "code",
   "execution_count": 137,
   "metadata": {},
   "outputs": [
    {
     "name": "stdout",
     "output_type": "stream",
     "text": [
      "0\n",
      "1\n",
      "1.7\n",
      "2\n",
      "3\n",
      "4\n",
      "5\n",
      "6\n",
      "7\n",
      "8\n",
      "9\n"
     ]
    }
   ],
   "source": [
    "dou_link_list.desc()"
   ]
  },
  {
   "cell_type": "code",
   "execution_count": null,
   "metadata": {},
   "outputs": [],
   "source": []
  }
 ],
 "metadata": {
  "kernelspec": {
   "display_name": "Python 3",
   "language": "python",
   "name": "python3"
  },
  "language_info": {
   "codemirror_mode": {
    "name": "ipython",
    "version": 3
   },
   "file_extension": ".py",
   "mimetype": "text/x-python",
   "name": "python",
   "nbconvert_exporter": "python",
   "pygments_lexer": "ipython3",
   "version": "3.7.5"
  }
 },
 "nbformat": 4,
 "nbformat_minor": 4
}

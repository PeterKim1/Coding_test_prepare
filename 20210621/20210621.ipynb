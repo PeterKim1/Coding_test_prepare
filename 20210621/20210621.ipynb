{
 "cells": [
  {
   "cell_type": "markdown",
   "metadata": {},
   "source": [
    "## 1. Kruskal Algorithm"
   ]
  },
  {
   "cell_type": "code",
   "execution_count": 1,
   "metadata": {},
   "outputs": [],
   "source": [
    "# vertices : 어떤 노드가 있는지 저장\n",
    "# edges : 간선을 저장\n",
    "mygraph = {\n",
    "    'vertices': ['A', 'B', 'C', 'D', 'E', 'F', 'G'],\n",
    "    'edges': [\n",
    "        (7, 'A', 'B'),\n",
    "        (5, 'A', 'D'),\n",
    "        (7, 'B', 'A'),\n",
    "        (8, 'B', 'C'),\n",
    "        (9, 'B', 'D'),\n",
    "        (7, 'B', 'E'),\n",
    "        (8, 'C', 'B'),\n",
    "        (5, 'C', 'E'),\n",
    "        (5, 'D', 'A'),\n",
    "        (9, 'D', 'B'),\n",
    "        (7, 'D', 'E'),\n",
    "        (6, 'D', 'F'),\n",
    "        (7, 'E', 'B'),\n",
    "        (5, 'E', 'C'),\n",
    "        (7, 'E', 'D'),\n",
    "        (8, 'E', 'F'),\n",
    "        (9, 'E', 'G'),\n",
    "        (6, 'F', 'D'),\n",
    "        (8, 'F', 'E'),\n",
    "        (11, 'F', 'G'),\n",
    "        (9, 'G', 'E'),\n",
    "        (11, 'G', 'F')\n",
    "    ]\n",
    "}"
   ]
  },
  {
   "cell_type": "code",
   "execution_count": 2,
   "metadata": {},
   "outputs": [],
   "source": [
    "parent = dict() # 부모 노드의 값을 저장\n",
    "rank = dict() # 해당 노드의 rank 값을 저장\n",
    "\n",
    "def find(node):\n",
    "    # path compression 기법을 적용\n",
    "    if parent[node] != node: # 자기 노드의 부모가 자기인 경우는 본인이 root라는 얘기임. 즉 위에 root 노드가 있다.\n",
    "        parent[node] = find(parent[node])\n",
    "    return parent[node] \n",
    "    \n",
    "\n",
    "def union(node_v, node_u):\n",
    "    root1 = find(node_v)\n",
    "    root2 = find(node_u)\n",
    "    \n",
    "    # union-by-rank\n",
    "    if rank[root1] > rank[root2]:\n",
    "        parent[root2] = root1 # root1가 더 크므로 root2의 부모 노드를 root1로 지정\n",
    "        \n",
    "    else: # 반대인 경우\n",
    "        parent[root1] = root2\n",
    "        \n",
    "        if rank[root1] == rank[root2]:\n",
    "            rank[root2] += 1\n",
    "    \n",
    "\n",
    "# node 이름을 받음\n",
    "# 각 노드들이 개별적인 부분집합으로 초기화할 수 있음.\n",
    "def make_set(node):\n",
    "    # 현재 아무것도 없으므로 자기 자신을 parent로\n",
    "    parent[node] = node\n",
    "    rank[node] = 0 # 개별적으로 있으므로 rank는 0으로 만들어줌\n",
    "\n",
    "def kruskal(graph):\n",
    "    mst = list()\n",
    "    \n",
    "    # 초기화 작업\n",
    "    for node in graph['vertices']:\n",
    "        make_set(node) # 노드를 초기화\n",
    "    \n",
    "    # 간선의 weight 기반 sorting\n",
    "    edges = graph['edges']\n",
    "    edges.sort()\n",
    "    \n",
    "    # weight가 가장 낮은 것들부터 하나씩 꺼내줌\n",
    "    # 간선 연결 작업\n",
    "    for edge in edges:\n",
    "        weights, node_v, node_u = edge # (weight, 출발 노드, 도착 노드)\n",
    "        if find(node_v) != find(node_u): # 출발 노드의 parent와 도착 노드의 parent가 다르면\n",
    "            union(node_v, node_u) # 두 노드를 union\n",
    "            mst.append(edge) # mst에 추가해서 신장 트리에 추가\n",
    "    \n",
    "    \n",
    "    return mst\n"
   ]
  },
  {
   "cell_type": "code",
   "execution_count": 3,
   "metadata": {},
   "outputs": [
    {
     "data": {
      "text/plain": [
       "[(5, 'A', 'D'),\n",
       " (5, 'C', 'E'),\n",
       " (6, 'D', 'F'),\n",
       " (7, 'A', 'B'),\n",
       " (7, 'B', 'E'),\n",
       " (9, 'E', 'G')]"
      ]
     },
     "execution_count": 3,
     "metadata": {},
     "output_type": "execute_result"
    }
   ],
   "source": [
    "kruskal(mygraph)"
   ]
  },
  {
   "cell_type": "code",
   "execution_count": null,
   "metadata": {},
   "outputs": [],
   "source": []
  }
 ],
 "metadata": {
  "kernelspec": {
   "display_name": "Python 3",
   "language": "python",
   "name": "python3"
  },
  "language_info": {
   "codemirror_mode": {
    "name": "ipython",
    "version": 3
   },
   "file_extension": ".py",
   "mimetype": "text/x-python",
   "name": "python",
   "nbconvert_exporter": "python",
   "pygments_lexer": "ipython3",
   "version": "3.7.5"
  }
 },
 "nbformat": 4,
 "nbformat_minor": 4
}

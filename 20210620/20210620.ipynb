{
 "cells": [
  {
   "cell_type": "markdown",
   "metadata": {},
   "source": [
    "## 1. Dijkstra 복습"
   ]
  },
  {
   "cell_type": "code",
   "execution_count": 8,
   "metadata": {},
   "outputs": [],
   "source": [
    "graph_data = {\n",
    "    'A':{'B':8, 'C':1, 'D':2},\n",
    "    'B':{},\n",
    "    'C':{'B':5, 'D':2},\n",
    "    'D':{'E':3, 'F':5},\n",
    "    'E':{'F':1},\n",
    "    'F':{'A':5}\n",
    "}"
   ]
  },
  {
   "cell_type": "code",
   "execution_count": 11,
   "metadata": {},
   "outputs": [],
   "source": [
    "import heapq\n",
    "def dijkstra(graph, start):\n",
    "    distances = {node:float('inf') for node in graph}\n",
    "    distances[start] = 0\n",
    "    queue = []\n",
    "    heapq.heappush(queue, [distances[start], start])\n",
    "    \n",
    "    while queue:\n",
    "        current_dis, current_node = heapq.heappop(queue)\n",
    "        \n",
    "        if distances[current_node] < current_dis:\n",
    "            continue\n",
    "            \n",
    "        for adj, dis in graph[current_node].items():\n",
    "            total_dis = current_dis + dis\n",
    "            if distances[adj] > total_dis:\n",
    "                distances[adj] = total_dis\n",
    "                heapq.heappush(queue, [total_dis, adj])\n",
    "                \n",
    "    return distances"
   ]
  },
  {
   "cell_type": "code",
   "execution_count": 12,
   "metadata": {},
   "outputs": [
    {
     "data": {
      "text/plain": [
       "{'A': 0, 'B': 6, 'C': 1, 'D': 2, 'E': 5, 'F': 6}"
      ]
     },
     "execution_count": 12,
     "metadata": {},
     "output_type": "execute_result"
    }
   ],
   "source": [
    "dijkstra(graph_data, 'A')"
   ]
  },
  {
   "cell_type": "markdown",
   "metadata": {},
   "source": [
    "### 2. Dijkstra 응용(최단 경로 tracking)"
   ]
  },
  {
   "cell_type": "code",
   "execution_count": 36,
   "metadata": {},
   "outputs": [],
   "source": [
    "# start node에서 end node까지 어떤 경로가 최단 경로인지를 알려줌\n",
    "def Dijkstra_trace(graph, start, end):\n",
    "    distances = {node:[float('inf'), start] for node in graph}\n",
    "    distances[start] = [0, start]\n",
    "    queue = []\n",
    "    heapq.heappush(queue, [distances[start][0], start])\n",
    "    \n",
    "    while queue:\n",
    "        current_dis, current_node = heapq.heappop(queue)\n",
    "        \n",
    "        if distances[current_node][0] < current_dis:\n",
    "            continue\n",
    "        \n",
    "        for adj, dis in graph[current_node].items():\n",
    "            total_dis = current_dis + dis\n",
    "            if distances[adj][0] > total_dis:\n",
    "                distances[adj] = [total_dis, current_node]\n",
    "                heapq.heappush(queue, [total_dis, adj])\n",
    "        \n",
    "    path = end\n",
    "    path_output = end + '<-'\n",
    "    while distances[path][1] != start:\n",
    "        path_output += distances[path][1] + '<-'\n",
    "        path = distances[path][1]\n",
    "    path_output += start\n",
    "    print(path_output)\n",
    "    return distances"
   ]
  },
  {
   "cell_type": "code",
   "execution_count": 37,
   "metadata": {},
   "outputs": [
    {
     "name": "stdout",
     "output_type": "stream",
     "text": [
      "F<-E<-D<-A\n"
     ]
    },
    {
     "data": {
      "text/plain": [
       "{'A': [0, 'A'],\n",
       " 'B': [6, 'C'],\n",
       " 'C': [1, 'A'],\n",
       " 'D': [2, 'A'],\n",
       " 'E': [5, 'D'],\n",
       " 'F': [6, 'E']}"
      ]
     },
     "execution_count": 37,
     "metadata": {},
     "output_type": "execute_result"
    }
   ],
   "source": [
    "Dijkstra_trace(graph_data, 'A', 'F')"
   ]
  },
  {
   "cell_type": "code",
   "execution_count": null,
   "metadata": {},
   "outputs": [],
   "source": []
  }
 ],
 "metadata": {
  "kernelspec": {
   "display_name": "Python 3",
   "language": "python",
   "name": "python3"
  },
  "language_info": {
   "codemirror_mode": {
    "name": "ipython",
    "version": 3
   },
   "file_extension": ".py",
   "mimetype": "text/x-python",
   "name": "python",
   "nbconvert_exporter": "python",
   "pygments_lexer": "ipython3",
   "version": "3.7.5"
  }
 },
 "nbformat": 4,
 "nbformat_minor": 4
}

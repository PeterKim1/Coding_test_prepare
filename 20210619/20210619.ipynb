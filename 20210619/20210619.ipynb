{
 "cells": [
  {
   "cell_type": "markdown",
   "metadata": {},
   "source": [
    "## 탐욕 알고리즘 문제2: 부분 배낭 문제 (Fractional Knapsack Problem)\n",
    "  - 무게 제한이 k인 배낭에 최대 가치를 가지도록 물건을 넣는 문제\n",
    "    - 각 물건은 무게(w)와 가치(v)로 표현될 수 있음\n",
    "    - 물건은 쪼갤 수 있으므로 물건의 일부분이 배낭에 넣어질 수 있음, 그래서 Fractional Knapsack Problem 으로 부름\n",
    "      - Fractional Knapsack Problem 의 반대로 물건을 쪼개서 넣을 수 없는 배낭 문제도 존재함 (0/1 Knapsack Problem 으로 부름)\n",
    "    <img src=\"https://www.fun-coding.org/00_Images/knapsack.png\">"
   ]
  },
  {
   "cell_type": "code",
   "execution_count": 1,
   "metadata": {},
   "outputs": [],
   "source": [
    "data_list = [(10, 10), (15, 12), (20, 10), (25, 8), (30, 5)]\n",
    "data_list = sorted(data_list, key=lambda x:x[1] / x[0], reverse = True)"
   ]
  },
  {
   "cell_type": "code",
   "execution_count": 2,
   "metadata": {},
   "outputs": [
    {
     "data": {
      "text/plain": [
       "[(10, 10), (15, 12), (20, 10), (25, 8), (30, 5)]"
      ]
     },
     "execution_count": 2,
     "metadata": {},
     "output_type": "execute_result"
    }
   ],
   "source": [
    "data_list"
   ]
  },
  {
   "cell_type": "code",
   "execution_count": 3,
   "metadata": {},
   "outputs": [],
   "source": [
    "def get_max_value(data_list, capacity):\n",
    "    data_list = sorted(data_list, key = lambda x:x[1] / x[0], reverse = True)\n",
    "    total_value = 0\n",
    "    details = list()\n",
    "    \n",
    "    for data in data_list:\n",
    "        if capacity - data[0] >= 0:\n",
    "            capacity -= data[0]\n",
    "            total_value += data[1]\n",
    "            details.append([data[0], data[1], 1])\n",
    "        else:\n",
    "            fraction = capacity / data[0]\n",
    "            total_value += data[1] * fraction\n",
    "            details.append([data[0], data[1], fraction])\n",
    "            break # 더 이상 들어갈 수 없기 때문\n",
    "    \n",
    "    return total_value, details"
   ]
  },
  {
   "cell_type": "code",
   "execution_count": 5,
   "metadata": {},
   "outputs": [
    {
     "data": {
      "text/plain": [
       "(24.5, [[10, 10, 1], [15, 12, 1], [20, 10, 0.25]])"
      ]
     },
     "execution_count": 5,
     "metadata": {},
     "output_type": "execute_result"
    }
   ],
   "source": [
    "get_max_value(data_list, 30)"
   ]
  },
  {
   "cell_type": "markdown",
   "metadata": {},
   "source": [
    "## Dijkstra 알고리즘"
   ]
  },
  {
   "cell_type": "code",
   "execution_count": 10,
   "metadata": {},
   "outputs": [],
   "source": [
    "graph_data = {\n",
    "    'A':{'B':8, 'C':1, 'D':2},\n",
    "    'B':{},\n",
    "    'C':{'B':5, 'D':2},\n",
    "    'D':{'E':3, 'F':5},\n",
    "    'E':{'F':1},\n",
    "    'F':{'A':5}\n",
    "}"
   ]
  },
  {
   "cell_type": "code",
   "execution_count": 11,
   "metadata": {},
   "outputs": [],
   "source": [
    "import heapq\n",
    "def Dijkstra(graph, start):\n",
    "    distances = {node:float('inf') for node in graph}\n",
    "    distances[start] = 0\n",
    "    queue = []\n",
    "    \n",
    "    heapq.heappush(queue, [distances[start], start])\n",
    "    \n",
    "    while queue:\n",
    "        current_dist, current_node = heapq.heappop(queue)\n",
    "        \n",
    "        if distances[current_node] < current_dist: # 현재 보관중인 최소값보다 크면 Pass\n",
    "            continue\n",
    "            \n",
    "        for adj, dis in graph[current_node].items():\n",
    "            total_dis = dis + current_dist # 지금까지 온 거리 + 현재 지점에서 인접 노드까지의 거리\n",
    "            \n",
    "            if distances[adj] > total_dis: # 새로 구하게 되는 총 거리가 보관중인 최소값보다 작은 경우 갱신\n",
    "                distances[adj] = total_dis\n",
    "                heapq.heappush(queue, [total_dis, adj])\n",
    "    return distances\n",
    "    "
   ]
  },
  {
   "cell_type": "code",
   "execution_count": 12,
   "metadata": {},
   "outputs": [
    {
     "data": {
      "text/plain": [
       "{'A': 0, 'B': 6, 'C': 1, 'D': 2, 'E': 5, 'F': 6}"
      ]
     },
     "execution_count": 12,
     "metadata": {},
     "output_type": "execute_result"
    }
   ],
   "source": [
    "Dijkstra(graph_data, 'A')"
   ]
  },
  {
   "cell_type": "code",
   "execution_count": null,
   "metadata": {},
   "outputs": [],
   "source": []
  }
 ],
 "metadata": {
  "kernelspec": {
   "display_name": "Python 3",
   "language": "python",
   "name": "python3"
  },
  "language_info": {
   "codemirror_mode": {
    "name": "ipython",
    "version": 3
   },
   "file_extension": ".py",
   "mimetype": "text/x-python",
   "name": "python",
   "nbconvert_exporter": "python",
   "pygments_lexer": "ipython3",
   "version": "3.7.5"
  }
 },
 "nbformat": 4,
 "nbformat_minor": 4
}

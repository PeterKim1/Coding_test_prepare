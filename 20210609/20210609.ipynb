{
 "cells": [
  {
   "cell_type": "markdown",
   "metadata": {},
   "source": [
    "## 1. BST Node 구현해보기"
   ]
  },
  {
   "cell_type": "code",
   "execution_count": 1,
   "metadata": {},
   "outputs": [],
   "source": [
    "# 먼저 노드 생성\n",
    "class Node:\n",
    "    def __init__(self, value):\n",
    "        self.value = value\n",
    "        self.left = None\n",
    "        self.right = None"
   ]
  },
  {
   "cell_type": "markdown",
   "metadata": {},
   "source": [
    "## 2. BST에 데이터 넣기"
   ]
  },
  {
   "cell_type": "code",
   "execution_count": 4,
   "metadata": {},
   "outputs": [],
   "source": [
    "class NodeMgmt:\n",
    "    def __init__(self, head):\n",
    "        self.head = head # Root node만 일단은 생성하고, 이후에 추가적으로 데이터를 집어넣음\n",
    "        \n",
    "    def insert(self, value):\n",
    "        self.current_node = self.head\n",
    "        while True:\n",
    "            if value < self.current_node.value: # value가 현재 값보다 작으면 일단 왼쪽으로 이동\n",
    "                if self.current_node.left != None: # 왼쪽에 데이터가 있는지 확인\n",
    "                    self.current_node = self.current_node.left # node를 이동\n",
    "                else: # 왼쪽에 데이터가 없으면\n",
    "                    self.current_node.left = Node(value) # Node를 추가\n",
    "                    break\n",
    "            else:\n",
    "                if self.current_node.right != None: # 오른쪽에 데이터가 있으면\n",
    "                    self.current_node = self.current_node.right # Node를 이동\n",
    "                else: # 오른쪽에 데이터가 없으면\n",
    "                    self.current_node.right = Node(value)\n",
    "                    break"
   ]
  },
  {
   "cell_type": "code",
   "execution_count": 5,
   "metadata": {},
   "outputs": [],
   "source": [
    "head = Node(1)\n",
    "BST = NodeMgmt(head)\n",
    "BST.insert(2)"
   ]
  },
  {
   "cell_type": "markdown",
   "metadata": {},
   "source": [
    "## 3. BST 탐색 구현"
   ]
  },
  {
   "cell_type": "code",
   "execution_count": 14,
   "metadata": {},
   "outputs": [],
   "source": [
    "class NodeMgmt:\n",
    "    def __init__(self, head):\n",
    "        self.head = head # Root node만 일단은 생성하고, 이후에 추가적으로 데이터를 집어넣음\n",
    "        \n",
    "    def insert(self, value):\n",
    "        self.current_node = self.head\n",
    "        while True:\n",
    "            if value < self.current_node.value: # value가 현재 값보다 작으면 일단 왼쪽으로 이동\n",
    "                if self.current_node.left != None: # 왼쪽에 데이터가 있는지 확인\n",
    "                    self.current_node = self.current_node.left # node를 이동\n",
    "                else: # 왼쪽에 데이터가 없으면\n",
    "                    self.current_node.left = Node(value) # Node를 추가\n",
    "                    break\n",
    "            else:\n",
    "                if self.current_node.right != None: # 오른쪽에 데이터가 있으면\n",
    "                    self.current_node = self.current_node.right # Node를 이동\n",
    "                else: # 오른쪽에 데이터가 없으면\n",
    "                    self.current_node.right = Node(value)\n",
    "                    break\n",
    "                    \n",
    "    def search(self, value):\n",
    "        self.current_node = self.head\n",
    "        while self.current_node:\n",
    "            if self.current_node.value == value: # 현재 노드의 값이 value랑 같으면\n",
    "                return True # True 출력\n",
    "            elif value < self.current_node.value:\n",
    "                self.current_node = self.current_node.left # 왼쪽으로 node 이동\n",
    "            else:\n",
    "                self.current_node = self.current_node.right # 오른쪽으로 node 이동\n",
    "        return False # 다 돌았는데도 없으면 False 출력"
   ]
  },
  {
   "cell_type": "code",
   "execution_count": 15,
   "metadata": {},
   "outputs": [],
   "source": [
    "head = Node(1)\n",
    "BST = NodeMgmt(head)\n",
    "BST.insert(2)\n",
    "BST.insert(3)\n",
    "BST.insert(0)\n",
    "BST.insert(4)\n",
    "BST.insert(8)"
   ]
  },
  {
   "cell_type": "code",
   "execution_count": 17,
   "metadata": {},
   "outputs": [
    {
     "data": {
      "text/plain": [
       "True"
      ]
     },
     "execution_count": 17,
     "metadata": {},
     "output_type": "execute_result"
    }
   ],
   "source": [
    "BST.search(8)"
   ]
  },
  {
   "cell_type": "markdown",
   "metadata": {},
   "source": [
    "## 4. BST 삭제 구현"
   ]
  },
  {
   "cell_type": "code",
   "execution_count": 18,
   "metadata": {},
   "outputs": [],
   "source": [
    "class NodeMgmt:\n",
    "    def __init__(self, head):\n",
    "        self.head = head # Root node만 일단은 생성하고, 이후에 추가적으로 데이터를 집어넣음\n",
    "        \n",
    "    def insert(self, value):\n",
    "        self.current_node = self.head\n",
    "        while True:\n",
    "            if value < self.current_node.value: # value가 현재 값보다 작으면 일단 왼쪽으로 이동\n",
    "                if self.current_node.left != None: # 왼쪽에 데이터가 있는지 확인\n",
    "                    self.current_node = self.current_node.left # node를 이동\n",
    "                else: # 왼쪽에 데이터가 없으면\n",
    "                    self.current_node.left = Node(value) # Node를 추가\n",
    "                    break\n",
    "            else:\n",
    "                if self.current_node.right != None: # 오른쪽에 데이터가 있으면\n",
    "                    self.current_node = self.current_node.right # Node를 이동\n",
    "                else: # 오른쪽에 데이터가 없으면\n",
    "                    self.current_node.right = Node(value)\n",
    "                    break\n",
    "                    \n",
    "    def search(self, value):\n",
    "        self.current_node = self.head\n",
    "        while self.current_node:\n",
    "            if self.current_node.value == value: # 현재 노드의 값이 value랑 같으면\n",
    "                return True # True 출력\n",
    "            elif value < self.current_node.value:\n",
    "                self.current_node = self.current_node.left # 왼쪽으로 node 이동\n",
    "            else:\n",
    "                self.current_node = self.current_node.right # 오른쪽으로 node 이동\n",
    "        return False # 다 돌았는데도 없으면 False 출력\n",
    "    \n",
    "    def delete(self, value):\n",
    "        searched = False\n",
    "        self.current_node = self.head\n",
    "        self.parent = self.head\n",
    "        # 삭제할 노드를 일단 찾아야한다.\n",
    "        while self.current_node:\n",
    "            if value == self.current_node.value:\n",
    "                searched = True\n",
    "                break # 탈출\n",
    "            elif value < self.current_node.value:\n",
    "                self.parent = self.current_node\n",
    "                self.current_node = self.current_node.left\n",
    "            else:\n",
    "                self.parent = self.current_node\n",
    "                self.current_node = self.current_node.right\n",
    "        \n",
    "        if searched == False:\n",
    "            return False\n",
    "        \n",
    "        "
   ]
  },
  {
   "cell_type": "markdown",
   "metadata": {},
   "source": [
    "## 5. Case 1, 삭제하려는 노드가 leaf node인 경우"
   ]
  },
  {
   "cell_type": "code",
   "execution_count": null,
   "metadata": {},
   "outputs": [],
   "source": [
    "if self.current_node.left == None and self.current_node.right == None:\n",
    "    if value < self.parent.value:\n",
    "        self.parent.left = None\n",
    "    else:\n",
    "        self.parent.right = None\n",
    "    del self.current_node"
   ]
  },
  {
   "cell_type": "markdown",
   "metadata": {},
   "source": [
    "## 6. Case 2, 삭제하려는 노드가 1개의 child node를 가지는 경우"
   ]
  },
  {
   "cell_type": "code",
   "execution_count": null,
   "metadata": {},
   "outputs": [],
   "source": [
    "if self.current_node.left != None and self.current_node.right == None:\n",
    "    if value < self.parent.value:\n",
    "        self.parent.left = self.current_node.left\n",
    "    else:\n",
    "        self.parent.right = self.current_node.right\n",
    "if self.current_node.left == None and self.current_node.right != None:\n",
    "    if value < self.parent.value:\n",
    "        self.parent.left = self.current_node.right\n",
    "    else:\n",
    "        self.parent.right = self.current_node.right\n",
    "        "
   ]
  },
  {
   "cell_type": "markdown",
   "metadata": {},
   "source": [
    "## 7. Case 3-1, 삭제하려는 노드가 2개의 child node를 가지면서 parent node의 왼쪽에 위치한 경우"
   ]
  },
  {
   "cell_type": "code",
   "execution_count": 19,
   "metadata": {
    "scrolled": true
   },
   "outputs": [
    {
     "ename": "NameError",
     "evalue": "name 'self' is not defined",
     "output_type": "error",
     "traceback": [
      "\u001b[1;31m---------------------------------------------------------------------------\u001b[0m",
      "\u001b[1;31mNameError\u001b[0m                                 Traceback (most recent call last)",
      "\u001b[1;32m<ipython-input-19-64dea46f5fd7>\u001b[0m in \u001b[0;36m<module>\u001b[1;34m\u001b[0m\n\u001b[1;32m----> 1\u001b[1;33m \u001b[1;32mif\u001b[0m \u001b[0mself\u001b[0m\u001b[1;33m.\u001b[0m\u001b[0mcurrent_node\u001b[0m\u001b[1;33m.\u001b[0m\u001b[0mleft\u001b[0m \u001b[1;33m!=\u001b[0m \u001b[1;32mNone\u001b[0m \u001b[1;32mand\u001b[0m \u001b[0mself\u001b[0m\u001b[1;33m.\u001b[0m\u001b[0mcurrent_node\u001b[0m\u001b[1;33m.\u001b[0m\u001b[0mright\u001b[0m \u001b[1;33m!=\u001b[0m \u001b[1;32mNone\u001b[0m\u001b[1;33m:\u001b[0m\u001b[1;33m\u001b[0m\u001b[1;33m\u001b[0m\u001b[0m\n\u001b[0m\u001b[0;32m      2\u001b[0m     \u001b[1;32mif\u001b[0m \u001b[0mvalue\u001b[0m \u001b[1;33m<\u001b[0m \u001b[0mself\u001b[0m\u001b[1;33m.\u001b[0m\u001b[0mparent\u001b[0m\u001b[1;33m.\u001b[0m\u001b[0mvalue\u001b[0m\u001b[1;33m:\u001b[0m \u001b[1;31m# 왼쪽에 위치한 경우\u001b[0m\u001b[1;33m\u001b[0m\u001b[1;33m\u001b[0m\u001b[0m\n\u001b[0;32m      3\u001b[0m         \u001b[0mself\u001b[0m\u001b[1;33m.\u001b[0m\u001b[0mchange_node\u001b[0m \u001b[1;33m=\u001b[0m \u001b[0mself\u001b[0m\u001b[1;33m.\u001b[0m\u001b[0mcurrent_node\u001b[0m\u001b[1;33m\u001b[0m\u001b[1;33m\u001b[0m\u001b[0m\n\u001b[0;32m      4\u001b[0m         \u001b[0mself\u001b[0m\u001b[1;33m.\u001b[0m\u001b[0mchange_node_parent\u001b[0m \u001b[1;33m=\u001b[0m \u001b[0mself\u001b[0m\u001b[1;33m.\u001b[0m\u001b[0mcurrent_node\u001b[0m \u001b[1;31m# 기본 셋팅\u001b[0m\u001b[1;33m\u001b[0m\u001b[1;33m\u001b[0m\u001b[0m\n\u001b[0;32m      5\u001b[0m         \u001b[1;32mwhile\u001b[0m \u001b[0mself\u001b[0m\u001b[1;33m.\u001b[0m\u001b[0mchange_node\u001b[0m\u001b[1;33m.\u001b[0m\u001b[0mleft\u001b[0m \u001b[1;33m!=\u001b[0m \u001b[1;32mNone\u001b[0m\u001b[1;33m:\u001b[0m \u001b[1;31m# 바꾸려는 노드의 오른쪽에서 가장 작은 것을 찾아야함\u001b[0m\u001b[1;33m\u001b[0m\u001b[1;33m\u001b[0m\u001b[0m\n",
      "\u001b[1;31mNameError\u001b[0m: name 'self' is not defined"
     ]
    }
   ],
   "source": [
    "if self.current_node.left != None and self.current_node.right != None:\n",
    "    if value < self.parent.value: # 왼쪽에 위치한 경우\n",
    "        self.change_node = self.current_node\n",
    "        self.change_node_parent = self.current_node # 기본 셋팅\n",
    "        while self.change_node.left != None: # 바꾸려는 노드의 오른쪽에서 가장 작은 것을 찾아야함\n",
    "            self.change_node_parent = self.change_node\n",
    "            self.change_node = self.change_node.left # 왼쪽으로 계속 이동\n",
    "        if self.change_node.right != None:\n",
    "            self.change_node_parent.left = self.change_node.right\n",
    "        else:\n",
    "            self.change_node_parent.left = None\n",
    "        self.parent.left = self.change_node\n",
    "        self.change_node.right = self.current_node.right\n",
    "        self.change_node.left = self.current_node.left"
   ]
  },
  {
   "cell_type": "markdown",
   "metadata": {},
   "source": [
    "## 8. Case 3-2, 삭제하려는 노드가 2개의 child node를 가지면서 parent node의 오른쪽에 위치한 경우"
   ]
  },
  {
   "cell_type": "code",
   "execution_count": null,
   "metadata": {},
   "outputs": [],
   "source": [
    "if self.current_node.left != None and self.current_node.right != None:\n",
    "    if value < self.parent.value: # 왼쪽에 위치한 경우\n",
    "    \n",
    "    else: # 오른쪽에 위치한 경우\n",
    "        self.change_node = self.current_node\n",
    "        self.change_node_parent = self.current_node\n",
    "        while self.change_node.left != None:\n",
    "            self.change_node_parent = self.change_node\n",
    "            self.change_node = self.change_node.left # 왼쪽으로 계속 이동\n",
    "        if self.change_node.right != None:\n",
    "            self.change_node_parent.left = self.change_node.right\n",
    "        else:\n",
    "            self.change_node_parent.left = None\n",
    "        self.parent.right = self.change_node\n",
    "        self.change_node.left = self.current_node.left\n",
    "        self.change_node.right = self.change_node_parent"
   ]
  },
  {
   "cell_type": "code",
   "execution_count": null,
   "metadata": {},
   "outputs": [],
   "source": []
  }
 ],
 "metadata": {
  "kernelspec": {
   "display_name": "Python 3",
   "language": "python",
   "name": "python3"
  },
  "language_info": {
   "codemirror_mode": {
    "name": "ipython",
    "version": 3
   },
   "file_extension": ".py",
   "mimetype": "text/x-python",
   "name": "python",
   "nbconvert_exporter": "python",
   "pygments_lexer": "ipython3",
   "version": "3.7.5"
  }
 },
 "nbformat": 4,
 "nbformat_minor": 4
}

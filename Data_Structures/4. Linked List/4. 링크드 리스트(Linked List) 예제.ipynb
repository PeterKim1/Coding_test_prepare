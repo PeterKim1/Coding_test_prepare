{
 "cells": [
  {
   "cell_type": "markdown",
   "metadata": {},
   "source": [
    "## 1. 간단한 링크드 리스트 구현"
   ]
  },
  {
   "cell_type": "code",
   "execution_count": 1,
   "metadata": {},
   "outputs": [],
   "source": [
    "class Node:\n",
    "    def __init__(self, data, nex=None):\n",
    "        self.data = data\n",
    "        self.next = nex"
   ]
  },
  {
   "cell_type": "code",
   "execution_count": 3,
   "metadata": {},
   "outputs": [],
   "source": [
    "node1 = Node(1)\n",
    "node2 = Node(2)\n",
    "node1.next = node2 # 링크드 리스트 연결\n",
    "head = node1"
   ]
  },
  {
   "cell_type": "code",
   "execution_count": 4,
   "metadata": {},
   "outputs": [
    {
     "name": "stdout",
     "output_type": "stream",
     "text": [
      "<__main__.Node object at 0x000002924E9E0308>\n",
      "<__main__.Node object at 0x000002924E9E0308>\n"
     ]
    }
   ],
   "source": [
    "# 동일한 객체를 나타내고 있음을 확인.\n",
    "print(node1.next)\n",
    "print(node2)"
   ]
  },
  {
   "cell_type": "markdown",
   "metadata": {},
   "source": [
    "## 1.1 링크드 리스트 추가(Add) 기능"
   ]
  },
  {
   "cell_type": "code",
   "execution_count": 5,
   "metadata": {},
   "outputs": [],
   "source": [
    "class Node:\n",
    "    def __init__(self, data, nex=None):\n",
    "        self.data = data\n",
    "        self.next = nex\n",
    "\n",
    "\n",
    "def add(data):\n",
    "    node = head\n",
    "    while node.next: # next가 없는 곳까지 이동(즉 맨 뒤까지)\n",
    "        node = node.next\n",
    "    node.next = Node(data)"
   ]
  },
  {
   "cell_type": "code",
   "execution_count": 6,
   "metadata": {},
   "outputs": [],
   "source": [
    "node_sample = Node(1)\n",
    "head = node_sample\n",
    "\n",
    "for i in range(2, 11):\n",
    "    add(i)"
   ]
  },
  {
   "cell_type": "markdown",
   "metadata": {},
   "source": [
    "## 1.2 링크드 리스트 출력"
   ]
  },
  {
   "cell_type": "code",
   "execution_count": 9,
   "metadata": {},
   "outputs": [
    {
     "name": "stdout",
     "output_type": "stream",
     "text": [
      "1\n",
      "2\n",
      "3\n",
      "4\n",
      "5\n",
      "6\n",
      "7\n",
      "8\n",
      "9\n",
      "Final:  10\n"
     ]
    }
   ],
   "source": [
    "node_ = head\n",
    "while node_.next:\n",
    "    print(node_.data)\n",
    "    node_ = node_.next\n",
    "print(\"Final: \", node_.data)"
   ]
  },
  {
   "cell_type": "markdown",
   "metadata": {},
   "source": [
    "## 1.3 링크드 리스트 사이에 데이터 추가\n",
    "<img src=\"https://www.fun-coding.org/00_Images/linkedlistadd.png\" />\n",
    "(출처: wikipedia, https://en.wikipedia.org/wiki/Linked_list)"
   ]
  },
  {
   "cell_type": "code",
   "execution_count": 10,
   "metadata": {},
   "outputs": [],
   "source": [
    "node_3 = Node(3.5)\n",
    "\n",
    "node = head\n",
    "search = True\n",
    "while search:\n",
    "    if node.data == 3:\n",
    "        search = False\n",
    "    else:\n",
    "        node = node.next\n",
    "\n",
    "tmp = node.next # 현재 노드의 next를 임시 저장\n",
    "node.next = node_3 # 현재 노드의 next에 새로운 newNode를 추가\n",
    "node_3.next = tmp # newNode의 next를 아까 임시 저장한 tmp로 해서 연결"
   ]
  },
  {
   "cell_type": "code",
   "execution_count": 11,
   "metadata": {},
   "outputs": [
    {
     "name": "stdout",
     "output_type": "stream",
     "text": [
      "1\n",
      "2\n",
      "3\n",
      "3.5\n",
      "4\n",
      "5\n",
      "6\n",
      "7\n",
      "8\n",
      "9\n",
      "10\n"
     ]
    }
   ],
   "source": [
    "node = head\n",
    "while node.next:\n",
    "    print(node.data)\n",
    "    node = node.next\n",
    "print (node.data)"
   ]
  },
  {
   "cell_type": "markdown",
   "metadata": {},
   "source": [
    "## 2. 객체지향 프로그래밍으로 구현"
   ]
  },
  {
   "cell_type": "code",
   "execution_count": 53,
   "metadata": {},
   "outputs": [],
   "source": [
    "class Node:\n",
    "    def __init__(self, data, nex=None):\n",
    "        self.data = data\n",
    "        self.next = nex\n",
    "        \n",
    "class NodeMgmt:\n",
    "    def __init__(self, data):\n",
    "        self.head = Node(data)\n",
    "    \n",
    "    # 노드 추가하는 기능\n",
    "    def add(self, data):\n",
    "        if self.head == '':\n",
    "            self.head = Node(data)\n",
    "        else:\n",
    "            node = self.head\n",
    "            while node.next:\n",
    "                node = node.next\n",
    "            node.next = Node(data)\n",
    "    \n",
    "    # 전체 노드 출력 기능\n",
    "    def desc(self):\n",
    "        node = self.head\n",
    "        while node:\n",
    "            print(node.data)\n",
    "            node = node.next\n",
    "    \n",
    "    # 특정 노드 삭제 기능\n",
    "    def delete(self, data):\n",
    "        if self.head == '':\n",
    "            print(\"노드가 없습니다.\")\n",
    "            return\n",
    "        \n",
    "        if self.head.data == data: # head를 지우는 경우\n",
    "            tmp = self.head # head를 임시로 저장하고\n",
    "            self.head = self.head.next # head를 다음 node로 변경\n",
    "            del tmp # 삭제\n",
    "        else: # head가 아닌 경우, 즉 중간에 있는 노드를 삭제하는 경우\n",
    "            node = self.head\n",
    "            while node.next:\n",
    "                if node.next.data == data: # next data가 data와 동일한 경우\n",
    "                    tmp = node.next # next를 임시 저장, 추후 삭제\n",
    "                    node.next = node.next.next # node의 다음을 다음 다음으로 연결. (삭제되니까)\n",
    "                    del tmp\n",
    "                    return\n",
    "                else:\n",
    "                    node = node.next\n",
    "    \n",
    "    # 특정 노드를 찾는 기능\n",
    "    def search_node(self, data):\n",
    "        node = self.head\n",
    "        while node.next:\n",
    "            if node.data == data:\n",
    "                return node.data\n",
    "            else:\n",
    "                node = node.next"
   ]
  },
  {
   "cell_type": "code",
   "execution_count": 54,
   "metadata": {},
   "outputs": [],
   "source": [
    "linked_list1 = NodeMgmt(0)"
   ]
  },
  {
   "cell_type": "code",
   "execution_count": 55,
   "metadata": {},
   "outputs": [
    {
     "name": "stdout",
     "output_type": "stream",
     "text": [
      "0\n"
     ]
    }
   ],
   "source": [
    "linked_list1.desc()"
   ]
  },
  {
   "cell_type": "code",
   "execution_count": 56,
   "metadata": {},
   "outputs": [],
   "source": [
    "for i in range(1, 10):\n",
    "    linked_list1.add(i)"
   ]
  },
  {
   "cell_type": "code",
   "execution_count": 57,
   "metadata": {},
   "outputs": [
    {
     "name": "stdout",
     "output_type": "stream",
     "text": [
      "0\n",
      "1\n",
      "2\n",
      "3\n",
      "4\n",
      "5\n",
      "6\n",
      "7\n",
      "8\n",
      "9\n"
     ]
    }
   ],
   "source": [
    "linked_list1.desc()"
   ]
  },
  {
   "cell_type": "code",
   "execution_count": 58,
   "metadata": {},
   "outputs": [],
   "source": [
    "linked_list1.delete(0)"
   ]
  },
  {
   "cell_type": "code",
   "execution_count": 59,
   "metadata": {},
   "outputs": [
    {
     "name": "stdout",
     "output_type": "stream",
     "text": [
      "1\n",
      "2\n",
      "3\n",
      "4\n",
      "5\n",
      "6\n",
      "7\n",
      "8\n",
      "9\n"
     ]
    }
   ],
   "source": [
    "linked_list1.desc() # head가 삭제된 것 확인"
   ]
  },
  {
   "cell_type": "code",
   "execution_count": 60,
   "metadata": {},
   "outputs": [],
   "source": [
    "linked_list1.delete(7)"
   ]
  },
  {
   "cell_type": "code",
   "execution_count": 63,
   "metadata": {},
   "outputs": [
    {
     "name": "stdout",
     "output_type": "stream",
     "text": [
      "1\n",
      "2\n",
      "3\n",
      "4\n",
      "5\n",
      "6\n",
      "8\n",
      "9\n"
     ]
    }
   ],
   "source": [
    "linked_list1.desc() # 7 없어진 것 확인."
   ]
  },
  {
   "cell_type": "code",
   "execution_count": 66,
   "metadata": {},
   "outputs": [
    {
     "data": {
      "text/plain": [
       "5"
      ]
     },
     "execution_count": 66,
     "metadata": {},
     "output_type": "execute_result"
    }
   ],
   "source": [
    "linked_list1.search_node(5) # 찾아지면 해당 값이 출력"
   ]
  },
  {
   "cell_type": "code",
   "execution_count": 67,
   "metadata": {},
   "outputs": [],
   "source": [
    "linked_list1.search_node(10) # linked_list에 없으면 아무것도 출력되지 않음"
   ]
  },
  {
   "cell_type": "markdown",
   "metadata": {},
   "source": [
    "## 3. 더블 링크드 리스트 구현\n",
    "* 노드 탐색이 양방향으로 가능하다는 특징이 있음 <br/>\n",
    "<br/>\n",
    "<img src=\"https://www.fun-coding.org/00_Images/doublelinkedlist.png\" />\n",
    "(출처: wikipedia, https://en.wikipedia.org/wiki/Linked_list)"
   ]
  },
  {
   "cell_type": "code",
   "execution_count": 68,
   "metadata": {},
   "outputs": [],
   "source": [
    "class Node:\n",
    "    def __init__(self, data, prev=None, nex=None):\n",
    "        self.prev = prev\n",
    "        self.data = data\n",
    "        self.next = nex\n",
    "        \n",
    "        \n",
    "class NodeMgmt:\n",
    "    def __init__(self, data):\n",
    "        self.head = Node(data)\n",
    "        self.tail = self.head\n",
    "    \n",
    "    # 노드를 추가하는 기능\n",
    "    def add(self, data):\n",
    "        if self.head == '': # head에 아무것도 없다면\n",
    "            self.head = Node(data)\n",
    "            self.tail = self.head\n",
    "        else: # head가 존재하는 경우\n",
    "            node = self.head\n",
    "            while node.next: # 마지막 node까지 이동\n",
    "                node = node.next\n",
    "            newNode = Node(data) # 새로운 node 만들기\n",
    "            node.next = newNode # 마지막 node의 next를 새로운 node로\n",
    "            newNode.prev = node # 새로운 노드의 이전 노드를 현재 node로\n",
    "            self.tail = newNode # 마지막은 새로운 노드로\n",
    "    \n",
    "    # 모든 노드를 출력하는 기능\n",
    "    def desc(self):\n",
    "        node = self.head\n",
    "        while node:\n",
    "            print(node.data)\n",
    "            node = node.next"
   ]
  },
  {
   "cell_type": "code",
   "execution_count": 72,
   "metadata": {},
   "outputs": [],
   "source": [
    "double_linked_list = NodeMgmt(0)"
   ]
  },
  {
   "cell_type": "code",
   "execution_count": 73,
   "metadata": {},
   "outputs": [],
   "source": [
    "for i in range(1, 10):\n",
    "    double_linked_list.add(i)"
   ]
  },
  {
   "cell_type": "code",
   "execution_count": 75,
   "metadata": {},
   "outputs": [
    {
     "name": "stdout",
     "output_type": "stream",
     "text": [
      "0\n",
      "1\n",
      "2\n",
      "3\n",
      "4\n",
      "5\n",
      "6\n",
      "7\n",
      "8\n",
      "9\n"
     ]
    }
   ],
   "source": [
    "double_linked_list.desc()"
   ]
  },
  {
   "cell_type": "markdown",
   "metadata": {},
   "source": [
    "## 3.1 더블 링크드 리스트 구현 - 특정 숫자인 노드 앞에 노드를 추가하는 기능 \n",
    "맨 뒤인 tail에서부터 시작해서, 특정 숫자인 노드 앞에 새로운 노드를 추가하는 기능을 구현"
   ]
  },
  {
   "cell_type": "code",
   "execution_count": 76,
   "metadata": {},
   "outputs": [],
   "source": [
    "class Node:\n",
    "    def __init__(self, data, prev=None, nex=None):\n",
    "        self.prev = prev\n",
    "        self.data = data\n",
    "        self.next = nex\n",
    "        \n",
    "        \n",
    "class NodeMgmt:\n",
    "    def __init__(self, data):\n",
    "        self.head = Node(data)\n",
    "        self.tail = self.head\n",
    "    \n",
    "    # 노드를 추가하는 기능\n",
    "    def add(self, data):\n",
    "        if self.head == '': # head에 아무것도 없다면\n",
    "            self.head = Node(data)\n",
    "            self.tail = self.head\n",
    "        else: # head가 존재하는 경우\n",
    "            node = self.head\n",
    "            while node.next: # 마지막 node까지 이동\n",
    "                node = node.next\n",
    "            newNode = Node(data) # 새로운 node 만들기\n",
    "            node.next = newNode # 마지막 node의 next를 새로운 node로\n",
    "            newNode.prev = node # 새로운 노드의 이전 노드를 현재 node로\n",
    "            self.tail = newNode # 마지막은 새로운 노드로\n",
    "    \n",
    "    # 모든 노드를 출력하는 기능\n",
    "    def desc(self):\n",
    "        node = self.head\n",
    "        while node:\n",
    "            print(node.data)\n",
    "            node = node.next\n",
    "            \n",
    "    def insert_before(self, data, before):\n",
    "        if self.head == None:\n",
    "            self.head = Node(data)\n",
    "            return True\n",
    "        else:\n",
    "            node = self.tail\n",
    "            while node.data != before:\n",
    "                node = node.prev\n",
    "            newNode = Node(data) # 새로운 노드 생성\n",
    "            before_node = node.prev # 이전 노드 임시 저장\n",
    "            node.prev = newNode # 현재 노드의 이전 노드에 추가할 노드를 연결\n",
    "            newNode.next = node # 새로운 노드의 next는 현재 노드\n",
    "            newNode.prev = before_node # 새로운 노드의 prev는 이전 노드\n",
    "            before_node.next = newNode # 이전 노드의 next는 새로운 노드\n",
    "            return True"
   ]
  },
  {
   "cell_type": "code",
   "execution_count": 77,
   "metadata": {},
   "outputs": [],
   "source": [
    "double_linked_list = NodeMgmt(0)\n",
    "for i in range(1, 10):\n",
    "    double_linked_list.add(i)"
   ]
  },
  {
   "cell_type": "code",
   "execution_count": 78,
   "metadata": {},
   "outputs": [
    {
     "name": "stdout",
     "output_type": "stream",
     "text": [
      "0\n",
      "1\n",
      "2\n",
      "3\n",
      "4\n",
      "5\n",
      "6\n",
      "7\n",
      "8\n",
      "9\n"
     ]
    }
   ],
   "source": [
    "double_linked_list.desc()"
   ]
  },
  {
   "cell_type": "code",
   "execution_count": 79,
   "metadata": {},
   "outputs": [
    {
     "data": {
      "text/plain": [
       "True"
      ]
     },
     "execution_count": 79,
     "metadata": {},
     "output_type": "execute_result"
    }
   ],
   "source": [
    "double_linked_list.insert_before(1.5, 2) # 2 앞에 1.5가 추가되는지 확인."
   ]
  },
  {
   "cell_type": "code",
   "execution_count": 80,
   "metadata": {},
   "outputs": [
    {
     "name": "stdout",
     "output_type": "stream",
     "text": [
      "0\n",
      "1\n",
      "1.5\n",
      "2\n",
      "3\n",
      "4\n",
      "5\n",
      "6\n",
      "7\n",
      "8\n",
      "9\n"
     ]
    }
   ],
   "source": [
    "double_linked_list.desc()"
   ]
  },
  {
   "cell_type": "markdown",
   "metadata": {},
   "source": [
    "## 3.2 더블 링크드 리스트 구현 - 특정 숫자인 노드 뒤에 노드를 추가하는 기능\n",
    "맨 처음 head에서부터 시작해서, 특정 숫자인 노드 뒤에 새로운 노드를 추가하는 기능을 구현"
   ]
  },
  {
   "cell_type": "code",
   "execution_count": 81,
   "metadata": {},
   "outputs": [],
   "source": [
    "class Node:\n",
    "    def __init__(self, data, prev=None, nex=None):\n",
    "        self.prev = prev\n",
    "        self.data = data\n",
    "        self.next = nex\n",
    "        \n",
    "        \n",
    "class NodeMgmt:\n",
    "    def __init__(self, data):\n",
    "        self.head = Node(data)\n",
    "        self.tail = self.head\n",
    "    \n",
    "    # 노드를 추가하는 기능\n",
    "    def add(self, data):\n",
    "        if self.head == '': # head에 아무것도 없다면\n",
    "            self.head = Node(data)\n",
    "            self.tail = self.head\n",
    "        else: # head가 존재하는 경우\n",
    "            node = self.head\n",
    "            while node.next: # 마지막 node까지 이동\n",
    "                node = node.next\n",
    "            newNode = Node(data) # 새로운 node 만들기\n",
    "            node.next = newNode # 마지막 node의 next를 새로운 node로\n",
    "            newNode.prev = node # 새로운 노드의 이전 노드를 현재 node로\n",
    "            self.tail = newNode # 마지막은 새로운 노드로\n",
    "    \n",
    "    # 모든 노드를 출력하는 기능\n",
    "    def desc(self):\n",
    "        node = self.head\n",
    "        while node:\n",
    "            print(node.data)\n",
    "            node = node.next\n",
    "            \n",
    "    def insert_after(self, data, after):\n",
    "        if self.head == None:\n",
    "            self.head = Node(data)\n",
    "            return True\n",
    "        else:\n",
    "            node = self.head\n",
    "            while node.data != after: # after와 값이 같아질 때까지 뒤로 계속 이동\n",
    "                node = node.next \n",
    "            newNode = Node(data) # 새로운 node 만들기\n",
    "            after_node = node.next # 그 다음 노드 저장\n",
    "            node.next = newNode # 현재 노드의 next는 새로운 노드\n",
    "            newNode.prev = node # 새로운 노드의 이전 노드는 현재 노드\n",
    "            newNode.next = after_node # 새로운 노드의 next는 다음 노드\n",
    "            after_node.prev = newNode # 다음 노드의 prev는 새로운 노드\n",
    "            return True"
   ]
  },
  {
   "cell_type": "code",
   "execution_count": 82,
   "metadata": {},
   "outputs": [],
   "source": [
    "double_linked_list = NodeMgmt(0)\n",
    "for i in range(1, 10):\n",
    "    double_linked_list.add(i)"
   ]
  },
  {
   "cell_type": "code",
   "execution_count": 83,
   "metadata": {},
   "outputs": [
    {
     "name": "stdout",
     "output_type": "stream",
     "text": [
      "0\n",
      "1\n",
      "2\n",
      "3\n",
      "4\n",
      "5\n",
      "6\n",
      "7\n",
      "8\n",
      "9\n"
     ]
    }
   ],
   "source": [
    "double_linked_list.desc()"
   ]
  },
  {
   "cell_type": "code",
   "execution_count": 84,
   "metadata": {},
   "outputs": [
    {
     "data": {
      "text/plain": [
       "True"
      ]
     },
     "execution_count": 84,
     "metadata": {},
     "output_type": "execute_result"
    }
   ],
   "source": [
    "double_linked_list.insert_after(1.5, 1)"
   ]
  },
  {
   "cell_type": "code",
   "execution_count": 85,
   "metadata": {},
   "outputs": [
    {
     "name": "stdout",
     "output_type": "stream",
     "text": [
      "0\n",
      "1\n",
      "1.5\n",
      "2\n",
      "3\n",
      "4\n",
      "5\n",
      "6\n",
      "7\n",
      "8\n",
      "9\n"
     ]
    }
   ],
   "source": [
    "double_linked_list.desc() # 1 뒤에 1.5가 들어가있는지 확인ㄴ"
   ]
  }
 ],
 "metadata": {
  "kernelspec": {
   "display_name": "Python 3",
   "language": "python",
   "name": "python3"
  },
  "language_info": {
   "codemirror_mode": {
    "name": "ipython",
    "version": 3
   },
   "file_extension": ".py",
   "mimetype": "text/x-python",
   "name": "python",
   "nbconvert_exporter": "python",
   "pygments_lexer": "ipython3",
   "version": "3.7.5"
  }
 },
 "nbformat": 4,
 "nbformat_minor": 4
}

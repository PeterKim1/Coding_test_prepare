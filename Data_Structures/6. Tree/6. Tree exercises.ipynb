{
 "cells": [
  {
   "cell_type": "markdown",
   "metadata": {},
   "source": [
    "## 1. 객체지향 방식으로 BST 구현"
   ]
  },
  {
   "cell_type": "code",
   "execution_count": 5,
   "metadata": {},
   "outputs": [],
   "source": [
    "class Node:\n",
    "    def __init__(self, value):\n",
    "        self.value = value\n",
    "        self.left = None\n",
    "        self.right = None\n",
    "        \n",
    "class NodeMgmt:\n",
    "    def __init__(self, head):\n",
    "        self.head = head\n",
    "        \n",
    "    def insert(self, value):\n",
    "        self.current_node = self.head\n",
    "        while True:\n",
    "            if value < self.current_node.value: # 현재 노드보다 작은 경우\n",
    "                if self.current_node.left != None: # 현재 노드의 왼쪽에 무언가 있는 경우는 더 밑으로 내려감\n",
    "                    self.current_node = self.current_node.left\n",
    "                else: # 현재 노드의 왼쪽에 아무것도 없는 경우\n",
    "                    self.current_node.left = Node(value) # 현재 노드의 왼쪽에 value 값으로 노드를 생성\n",
    "                    break\n",
    "            else: # 현재 노드보다 크거나 같은 경우\n",
    "                if self.current_node.right != None: # 현재 노드의 오른쪽에 무언가 있는 경우는 더 밑으로 내려감\n",
    "                    self.current_node = self.current_node.right\n",
    "                else: # 현재 노드의 오른쪽에 아무것도 없는 경우\n",
    "                    self.current_node.right = Node(value)\n",
    "                    break\n",
    "                    \n",
    "    def search(self, value):\n",
    "        self.current_node = self.head\n",
    "        while self.current_node: \n",
    "            if value < self.current_node.value: # 현재 노드보다 작은 경우\n",
    "                self.current_node = self.current_node.left\n",
    "            elif value > self.current_node.value:\n",
    "                self.current_node = self.current_node.right\n",
    "            else:\n",
    "                return True\n",
    "        return False"
   ]
  },
  {
   "cell_type": "code",
   "execution_count": 9,
   "metadata": {},
   "outputs": [],
   "source": [
    "head = Node(1)\n",
    "BST = NodeMgmt(head)\n",
    "for i in range(10):\n",
    "    BST.insert(i)"
   ]
  },
  {
   "cell_type": "code",
   "execution_count": 14,
   "metadata": {},
   "outputs": [
    {
     "data": {
      "text/plain": [
       "False"
      ]
     },
     "execution_count": 14,
     "metadata": {},
     "output_type": "execute_result"
    }
   ],
   "source": [
    "BST.search(11)"
   ]
  },
  {
   "cell_type": "markdown",
   "metadata": {},
   "source": [
    "## 2. 이진 탐색 트리 노드 삭제 구현"
   ]
  },
  {
   "cell_type": "code",
   "execution_count": 21,
   "metadata": {},
   "outputs": [],
   "source": [
    "class Node:\n",
    "    def __init__(self, value):\n",
    "        self.value = value\n",
    "        self.left = None\n",
    "        self.right = None\n",
    "        \n",
    "class NodeMgmt:\n",
    "    def __init__(self, head):\n",
    "        self.head = head\n",
    "        \n",
    "    def insert(self, value):\n",
    "        self.current_node = self.head\n",
    "        while True:\n",
    "            if value < self.current_node.value: # 현재 노드보다 작은 경우\n",
    "                if self.current_node.left != None: # 현재 노드의 왼쪽에 무언가 있는 경우는 더 밑으로 내려감\n",
    "                    self.current_node = self.current_node.left\n",
    "                else: # 현재 노드의 왼쪽에 아무것도 없는 경우\n",
    "                    self.current_node.left = Node(value) # 현재 노드의 왼쪽에 value 값으로 노드를 생성\n",
    "                    break\n",
    "            else: # 현재 노드보다 크거나 같은 경우\n",
    "                if self.current_node.right != None: # 현재 노드의 오른쪽에 무언가 있는 경우는 더 밑으로 내려감\n",
    "                    self.current_node = self.current_node.right\n",
    "                else: # 현재 노드의 오른쪽에 아무것도 없는 경우\n",
    "                    self.current_node.right = Node(value)\n",
    "                    break\n",
    "                    \n",
    "    def search(self, value):\n",
    "        self.current_node = self.head\n",
    "        while self.current_node: \n",
    "            if value < self.current_node.value: # 현재 노드보다 작은 경우\n",
    "                self.current_node = self.current_node.left\n",
    "            elif value > self.current_node.value:\n",
    "                self.current_node = self.current_node.right\n",
    "            else:\n",
    "                return True\n",
    "        return False\n",
    "    \n",
    "    def delete(self, value):\n",
    "        # 삭제할 노드를 탐색하는 기능\n",
    "        searched = False\n",
    "        self.current_node = self.head # 현재 노드\n",
    "        self.parent = self.head # 부모 노드\n",
    "        while self.current_node:\n",
    "            if value < self.current_node.value:\n",
    "                self.parent = self.current_node\n",
    "                self.current_node = self.current_node.left # 왼쪽으로 이동\n",
    "            elif value > self.current_node.value:\n",
    "                self.parent = self.current_node\n",
    "                self.current_node = self.current_node.right\n",
    "            else:\n",
    "                searched = True\n",
    "                break\n",
    "        if searched == False:\n",
    "            return False\n",
    "        \n",
    "        # Case 1: 삭제하고자 하는 노드가 leaf node인 경우\n",
    "        if self.current_node.left == None and self.current_node.right == None:\n",
    "            if value < self.parent.value:\n",
    "                self.parent.left = None\n",
    "            else:\n",
    "                self.parent.right = None\n",
    "            del self.current_node\n",
    "        \n",
    "        # Case 2: 삭제하고자 하는 노드가 1개의 child node만 가지고 있는 경우\n",
    "        elif self.current_node.left != None and self.current_node.right == None: # 왼쪽에만 노드가 있는 경우\n",
    "            if value < self.parent.value:\n",
    "                self.parent.left = self.current_node.left\n",
    "            else:\n",
    "                self.parent.right = self.current_node.left\n",
    "                \n",
    "        elif self.current_node.left == None and self.current_node.right != None:\n",
    "            if value < self.parent.value:\n",
    "                self.parent.left = self.current_node.right\n",
    "            else:\n",
    "                self.parent.right = self.current_node.right\n",
    "                \n",
    "        # Case 3: 삭제하고자 하는 노드가 2개의 child node를 가지고 있는 경우\n",
    "        elif self.current_node.left != None and self.current_node.right != None:\n",
    "            if value < self.parent.value: # parent보다 왼쪽에 있는 경우\n",
    "                self.change_node = self.current_node.right\n",
    "                self.change_node_parent = self.current_node.right\n",
    "                while self.change_node.left != None: # 지우려는 노드의 오른쪽의 가장 작은 노드로 이동\n",
    "                    self.change_node_parent = self.change_node\n",
    "                    self.change_node = self.change_node.left\n",
    "                if self.change_node.right != None: # 바뀔 노드의 오른쪽 child가 있는 경우?\n",
    "                    self.change_node_parent.left = self.change_node.right # 바뀔 노드의 부모 노드 왼쪽에 연결\n",
    "                else:\n",
    "                    self.change_node_parent.left = None # 아무것도 없어야함\n",
    "                self.parent.left = self.change_node # 자리 바꿔줌\n",
    "                self.change_node.right = self.current_node.right\n",
    "                self.change_node.left = self.current_node.left\n",
    "        \n",
    "            else: # parent보다 오른쪽에 있는 경우\n",
    "                self.change_node = self.current_node.right\n",
    "                self.change_node_parent = self.current_node.right\n",
    "                while self.change_node.left != None:\n",
    "                    self.change_node_parent = self.change_node\n",
    "                    self.change_node = self.change_node.elft\n",
    "                if self.change_node.right != None:\n",
    "                    self.change_node_parent.left = self.change_node.right\n",
    "                else:\n",
    "                    self.change_node_parent.left = None\n",
    "                self.parent.right = self.change_node\n",
    "                self.change_node.right = self.current_node.right\n",
    "                self.change_node.left = self.current_node.left\n",
    "                \n",
    "        return True\n",
    "            "
   ]
  },
  {
   "cell_type": "markdown",
   "metadata": {},
   "source": [
    "## 예시를 통해서 제대로 작동하는지 확인\n",
    "\n",
    "<img src=\"http://www.fun-coding.org/00_Images/tree_remove_2child_code_left.png\" width=\"600\" />"
   ]
  },
  {
   "cell_type": "code",
   "execution_count": 22,
   "metadata": {},
   "outputs": [],
   "source": [
    "head = Node(31)\n",
    "BST = NodeMgmt(head)\n",
    "BST.insert(15)\n",
    "BST.insert(13)\n",
    "BST.insert(18)\n",
    "BST.insert(11)\n",
    "BST.insert(14)\n",
    "BST.insert(16)\n",
    "BST.insert(17)\n",
    "BST.insert(19)\n",
    "BST.insert(41)\n",
    "BST.insert(40)\n",
    "BST.insert(51)"
   ]
  },
  {
   "cell_type": "code",
   "execution_count": 23,
   "metadata": {},
   "outputs": [
    {
     "name": "stdout",
     "output_type": "stream",
     "text": [
      "31\n",
      "15\n",
      "13\n",
      "11\n",
      "14\n",
      "18\n",
      "16\n",
      "19\n",
      "17\n",
      "41\n",
      "40\n",
      "51\n"
     ]
    }
   ],
   "source": [
    "# 그림과 동일한지 검증\n",
    "print(BST.head.value)\n",
    "print(BST.head.left.value)\n",
    "print(BST.head.left.left.value)\n",
    "print(BST.head.left.left.left.value)\n",
    "print(BST.head.left.left.right.value)\n",
    "print(BST.head.left.right.value)\n",
    "print(BST.head.left.right.left.value)\n",
    "print(BST.head.left.right.right.value)\n",
    "print(BST.head.left.right.left.right.value)\n",
    "print(BST.head.right.value)\n",
    "print(BST.head.right.left.value)\n",
    "print(BST.head.right.right.value)"
   ]
  },
  {
   "cell_type": "code",
   "execution_count": 24,
   "metadata": {},
   "outputs": [
    {
     "data": {
      "text/plain": [
       "True"
      ]
     },
     "execution_count": 24,
     "metadata": {},
     "output_type": "execute_result"
    }
   ],
   "source": [
    "BST.delete(15)"
   ]
  },
  {
   "cell_type": "code",
   "execution_count": 25,
   "metadata": {},
   "outputs": [
    {
     "name": "stdout",
     "output_type": "stream",
     "text": [
      "31\n",
      "16\n",
      "13\n",
      "11\n",
      "14\n",
      "18\n",
      "17\n",
      "19\n"
     ]
    }
   ],
   "source": [
    "# 15를 지운 후의 모습을 출력\n",
    "print(BST.head.value)\n",
    "print(BST.head.left.value)\n",
    "print(BST.head.left.left.value)\n",
    "print(BST.head.left.left.left.value)\n",
    "print(BST.head.left.left.right.value)\n",
    "print(BST.head.left.right.value)\n",
    "print(BST.head.left.right.left.value)\n",
    "print(BST.head.left.right.right.value)"
   ]
  }
 ],
 "metadata": {
  "kernelspec": {
   "display_name": "Python 3",
   "language": "python",
   "name": "python3"
  },
  "language_info": {
   "codemirror_mode": {
    "name": "ipython",
    "version": 3
   },
   "file_extension": ".py",
   "mimetype": "text/x-python",
   "name": "python",
   "nbconvert_exporter": "python",
   "pygments_lexer": "ipython3",
   "version": "3.7.5"
  }
 },
 "nbformat": 4,
 "nbformat_minor": 4
}

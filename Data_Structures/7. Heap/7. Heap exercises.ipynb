{
 "cells": [
  {
   "cell_type": "markdown",
   "metadata": {},
   "source": [
    "## 1. Insert data"
   ]
  },
  {
   "cell_type": "code",
   "execution_count": 5,
   "metadata": {},
   "outputs": [],
   "source": [
    "class Heap:\n",
    "    def __init__(self, data):\n",
    "        self.heap_array = []\n",
    "        self.heap_array.append(None) # 0번째 index 비우기\n",
    "        self.heap_array.append(data)\n",
    "        \n",
    "    def insert(self, data):\n",
    "        if len(self.heap_array) == 0:\n",
    "            self.heap_array.append(None)\n",
    "            self.heap_array.append(data)\n",
    "            return True\n",
    "        self.heap_array.append(data)\n",
    "        return True"
   ]
  },
  {
   "cell_type": "markdown",
   "metadata": {},
   "source": [
    "## 2. Insert data + swap\n",
    "데이터를 추가했을 때, 만약 해당 노드가 root node보다 큰 경우는 swap 작업을 통해서 다시 Heap 구조를 갱신해야 한다."
   ]
  },
  {
   "cell_type": "code",
   "execution_count": 6,
   "metadata": {},
   "outputs": [],
   "source": [
    "class Heap:\n",
    "    def __init__(self, data):\n",
    "        self.heap_array = []\n",
    "        self.heap_array.append(None) # 0번째 index 비우기\n",
    "        self.heap_array.append(data)\n",
    "        \n",
    "        \n",
    "    def move_up(self, index):\n",
    "        if index <= 1:\n",
    "            return False\n",
    "        \n",
    "        parent_idx = index // 2 # 부모 노드는 항상 2로 나눈 몫이 된다.\n",
    "        if self.heap_array[parent_idx] < self.heap_array[index]:\n",
    "            return True\n",
    "        else:\n",
    "            return False\n",
    "\n",
    "        \n",
    "    def insert(self, data):\n",
    "        if len(self.heap_array) == 0:\n",
    "            self.heap_array.append(None)\n",
    "            self.heap_array.append(data)\n",
    "            return True\n",
    "        \n",
    "        self.heap_array.append(data)\n",
    "        \n",
    "        insert_idx = len(self.heap_array) - 1 \n",
    "        \n",
    "        while self.move_up(insert_idx): # swap이 필요한 경우에는 계속해서 while 진행\n",
    "            parent_idx = insert_idx // 2 # 부모 노드 index 저장\n",
    "            self.heap_array[parent_idx], self.heap_array[insert_idx] = self.heap_array[insert_idx], self.heap_array[parent_idx]\n",
    "            insert_idx = parent_idx\n",
    "            \n",
    "        return True\n",
    "            "
   ]
  },
  {
   "cell_type": "markdown",
   "metadata": {},
   "source": [
    "## 3. Delete data + swap\n",
    "- 일반적으로 최댓값 혹은 최솟값을 찾는 경우, heap 구조에서 가장 상단에 있는 데이터를 빼내고 가장 마지막에 추가한 데이터를 다시 가장 상단으로 이동한다.\n",
    "- 그리고 이동한 후, heap 구조의 특성에 맞게 node를 swap하는 작업을 추가로 진행한다."
   ]
  },
  {
   "cell_type": "code",
   "execution_count": 7,
   "metadata": {},
   "outputs": [],
   "source": [
    "class Heap:\n",
    "    def __init__(self, data):\n",
    "        self.heap_array = []\n",
    "        self.heap_array.append(None) # 0번째 index 비우기\n",
    "        self.heap_array.append(data)\n",
    "        \n",
    "        \n",
    "    def move_down(self, index):\n",
    "        left_child_idx = index * 2\n",
    "        right_child_idx = index * 2 + 1\n",
    "        \n",
    "        # Case 1: 왼쪽 자식 노드가 없을 때\n",
    "        if left_child_idx >= len(self.heap_array):\n",
    "            return False\n",
    "        elif right_child_idx >= len(self.heap_array): # Case 2: 왼쪽 있고 오른쪽 없을 때\n",
    "            if self.heap_array[left_child_idx] > self.heap_array[index]:\n",
    "                return True\n",
    "            else:\n",
    "                return False\n",
    "        else: # Case 3: 왼쪽 오른쪽 모두 다 있을 때\n",
    "            if self.heap_array[left_child_idx] > self.heap_array[right_child_idx]: # 왼쪽이 더 크고\n",
    "                if self.heap_array[left_child_idx] > self.heap_array[index]: # 부모보다 왼쪽이 큰 경우\n",
    "                    return True\n",
    "                else: # 부모가 더 큰 경우\n",
    "                     return False\n",
    "            else: # 오른쪽이 더 큰 경우\n",
    "                if self.heap_array[right_child_idx] > self.heap_array[index]: # 부모보다 오른쪽이 큰 경우\n",
    "                    return True\n",
    "                else:\n",
    "                    return False\n",
    "                \n",
    "                \n",
    "    def pop(self):\n",
    "        if len(self.heap_array) <= 1:\n",
    "            return None\n",
    "        \n",
    "        returned_data = self.heap_array[1] # root node\n",
    "        self.heap_array[1] = self.heap_array[-1] # 맨 마지막 노드와 교체\n",
    "        del self.heap_array[-1] # 맨 마지막 노드 삭제\n",
    "        idx = 1\n",
    "        \n",
    "        while self.move_down(idx): # 아래 있는 노드들과 교체를 해야 하는 경우\n",
    "            left_child_idx = idx * 2\n",
    "            right_child_idx = idx * 2 + 1\n",
    "            \n",
    "            # 왼쪽 자식 노드만 존재할 때\n",
    "            if right_child_idx >= len(self.heap_array):\n",
    "                if self.heap_array[left_child_idx] > self.heap_array[idx]:\n",
    "                    self.heap_array[left_child_idx], self.heap_array[idx] = self.heap_array[idx], self.heap_array[left_child_idx]\n",
    "                    idx = left_child_idx # index 갱신\n",
    "            # 양쪽 자식 노드 다 있는 경우\n",
    "            else:\n",
    "                if self.heap_array[left_child_idx] > self.heap_array[right_child_idx]: # 왼쪽이 더 클 때\n",
    "                    if self.heap_array[left_child_idx] > self.heap_array[idx]:\n",
    "                        self.heap_array[left_child_idx], self.heap_array[idx] = self.heap_array[idx], self.heap_array[left_child_idx]\n",
    "                        idx = left_child_idx # index 갱신\n",
    "                else: # 오른쪽이 더 클 때\n",
    "                    if self.heap_array[right_child_idx] > self.heap_array[idx]:\n",
    "                        self.heap_array[right_child_idx], self.heap_array[idx] = self.heap_array[idx], self.heap_array[right_child_idx]\n",
    "                        idx = right_child_idx # index 갱신\n",
    "        \n",
    "        return returned_data\n",
    "    \n",
    "    def move_up(self, index):\n",
    "        if index <= 1:\n",
    "            return False\n",
    "        \n",
    "        parent_idx = index // 2\n",
    "        if self.heap_array[parent_idx] < self.heap_array[index]:\n",
    "            return True\n",
    "        else:\n",
    "            return False\n",
    "\n",
    "        \n",
    "    def insert(self, data):\n",
    "        if len(self.heap_array) == 0:\n",
    "            self.heap_array.append(None)\n",
    "            self.heap_array.append(data)\n",
    "            return True\n",
    "        \n",
    "        self.heap_array.append(data)\n",
    "        \n",
    "        insert_idx = len(self.heap_array) - 1\n",
    "        \n",
    "        while self.move_up(insert_idx): # swap이 필요한 경우에는 계속해서 while 진행\n",
    "            parent_idx = insert_idx // 2 # 부모 노드 index 저장\n",
    "            self.heap_array[parent_idx], self.heap_array[insert_idx] = self.heap_array[insert_idx], self.heap_array[parent_idx]\n",
    "            insert_idx = parent_idx\n",
    "            \n",
    "        return True\n",
    "            "
   ]
  },
  {
   "cell_type": "code",
   "execution_count": 8,
   "metadata": {},
   "outputs": [
    {
     "data": {
      "text/plain": [
       "[None, 20, 10, 15, 5, 4, 8]"
      ]
     },
     "execution_count": 8,
     "metadata": {},
     "output_type": "execute_result"
    }
   ],
   "source": [
    "heap = Heap(15)\n",
    "heap.insert(10)\n",
    "heap.insert(8)\n",
    "heap.insert(5)\n",
    "heap.insert(4)\n",
    "heap.insert(20)\n",
    "heap.heap_array"
   ]
  },
  {
   "cell_type": "code",
   "execution_count": 9,
   "metadata": {},
   "outputs": [
    {
     "data": {
      "text/plain": [
       "20"
      ]
     },
     "execution_count": 9,
     "metadata": {},
     "output_type": "execute_result"
    }
   ],
   "source": [
    "heap.pop()"
   ]
  },
  {
   "cell_type": "code",
   "execution_count": 10,
   "metadata": {},
   "outputs": [
    {
     "data": {
      "text/plain": [
       "[None, 15, 10, 8, 5, 4]"
      ]
     },
     "execution_count": 10,
     "metadata": {},
     "output_type": "execute_result"
    }
   ],
   "source": [
    "heap.heap_array"
   ]
  },
  {
   "cell_type": "code",
   "execution_count": null,
   "metadata": {},
   "outputs": [],
   "source": []
  }
 ],
 "metadata": {
  "kernelspec": {
   "display_name": "Python 3",
   "language": "python",
   "name": "python3"
  },
  "language_info": {
   "codemirror_mode": {
    "name": "ipython",
    "version": 3
   },
   "file_extension": ".py",
   "mimetype": "text/x-python",
   "name": "python",
   "nbconvert_exporter": "python",
   "pygments_lexer": "ipython3",
   "version": "3.7.5"
  }
 },
 "nbformat": 4,
 "nbformat_minor": 4
}

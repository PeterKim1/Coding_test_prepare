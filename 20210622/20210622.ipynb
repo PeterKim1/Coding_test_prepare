{
 "cells": [
  {
   "cell_type": "markdown",
   "metadata": {},
   "source": [
    "### 1. BFS 복습"
   ]
  },
  {
   "cell_type": "markdown",
   "metadata": {},
   "source": [
    "<img src=\"https://www.fun-coding.org/00_Images/BFSDFS.png\" width=700>"
   ]
  },
  {
   "cell_type": "code",
   "execution_count": 1,
   "metadata": {},
   "outputs": [],
   "source": [
    "graph = dict()\n",
    "\n",
    "graph['A'] = ['B', 'C']\n",
    "graph['B'] = ['A', 'D']\n",
    "graph['C'] = ['A', 'G', 'H', 'I']\n",
    "graph['D'] = ['B', 'E', 'F']\n",
    "graph['E'] = ['D']\n",
    "graph['F'] = ['D']\n",
    "graph['G'] = ['C']\n",
    "graph['H'] = ['C']\n",
    "graph['I'] = ['C', 'J']\n",
    "graph['J'] = ['I']"
   ]
  },
  {
   "cell_type": "code",
   "execution_count": 7,
   "metadata": {},
   "outputs": [],
   "source": [
    "def BFS(graph, start_node, search_node):\n",
    "    visited, need_visit = list(), list()\n",
    "    need_visit.append(start_node) # 맨 처음에 start_node를 추가\n",
    "    searched = False\n",
    "    \n",
    "    while need_visit: # 방문해야 하는 노드가 없을 때 까지 반복\n",
    "        candidate_node = need_visit.pop(0)\n",
    "        \n",
    "        if candidate_node == search_node: # 찾고자 하는 노드랑 현재 후보 노드가 동일하다면?\n",
    "            searched = True\n",
    "            visited.append(candidate_node)\n",
    "            break\n",
    "        \n",
    "        if candidate_node not in visited: # 후보 노드에 방문한 적이 없다면?\n",
    "            visited.append(candidate_node) # visited에 추가해주고\n",
    "            need_visit.extend(graph[candidate_node]) # 후보 노드의 인접 노드를 need_visit에 추가\n",
    "            \n",
    "    return searched, visited"
   ]
  },
  {
   "cell_type": "code",
   "execution_count": 8,
   "metadata": {},
   "outputs": [
    {
     "data": {
      "text/plain": [
       "(True, ['A', 'B', 'C', 'D', 'G', 'H'])"
      ]
     },
     "execution_count": 8,
     "metadata": {},
     "output_type": "execute_result"
    }
   ],
   "source": [
    "BFS(graph, 'A', 'H')"
   ]
  },
  {
   "cell_type": "code",
   "execution_count": 14,
   "metadata": {},
   "outputs": [
    {
     "data": {
      "text/plain": [
       "(False, ['A', 'B', 'C', 'D', 'G', 'H', 'I', 'E', 'F', 'J'])"
      ]
     },
     "execution_count": 14,
     "metadata": {},
     "output_type": "execute_result"
    }
   ],
   "source": [
    "BFS(graph, 'A', 'Z') # 다 찾았는데도 없는 경우는 전체 경로를 탐색"
   ]
  },
  {
   "cell_type": "markdown",
   "metadata": {},
   "source": [
    "### 2. DFS 복습"
   ]
  },
  {
   "cell_type": "code",
   "execution_count": 9,
   "metadata": {},
   "outputs": [],
   "source": [
    "def DFS(graph, start_node, search_node):\n",
    "    visited, need_visit = list(), list()\n",
    "    need_visit.append(start_node)\n",
    "    searched = False\n",
    "    \n",
    "    while need_visit:\n",
    "        candidate_node = need_visit.pop()\n",
    "        \n",
    "        if candidate_node == search_node:\n",
    "            visited.append(candidate_node)\n",
    "            searched = True\n",
    "            break\n",
    "            \n",
    "        if candidate_node not in visited:\n",
    "            visited.append(candidate_node)\n",
    "            need_visit.extend(graph[candidate_node])\n",
    "            \n",
    "    return searched, visited"
   ]
  },
  {
   "cell_type": "code",
   "execution_count": 13,
   "metadata": {},
   "outputs": [
    {
     "data": {
      "text/plain": [
       "(True, ['A', 'C', 'I'])"
      ]
     },
     "execution_count": 13,
     "metadata": {},
     "output_type": "execute_result"
    }
   ],
   "source": [
    "DFS(graph, 'A', 'I')"
   ]
  },
  {
   "cell_type": "code",
   "execution_count": 15,
   "metadata": {},
   "outputs": [
    {
     "data": {
      "text/plain": [
       "(False, ['A', 'C', 'I', 'J', 'H', 'G', 'B', 'D', 'F', 'E'])"
      ]
     },
     "execution_count": 15,
     "metadata": {},
     "output_type": "execute_result"
    }
   ],
   "source": [
    "DFS(graph, 'A', 'Z')"
   ]
  },
  {
   "cell_type": "markdown",
   "metadata": {},
   "source": [
    "### 3. 이진 탐색"
   ]
  },
  {
   "cell_type": "code",
   "execution_count": 28,
   "metadata": {},
   "outputs": [],
   "source": [
    "def binary_search(list_data, search_value):\n",
    "    if len(list_data) == 1 and list_data[0] == search_value:\n",
    "        return True\n",
    "    if len(list_data) == 1 and list_data[0] != search_value:\n",
    "        return False\n",
    "    if len(list_data) == 0:\n",
    "        return False\n",
    "    \n",
    "    center_index = len(list_data) // 2\n",
    "    \n",
    "    if list_data[center_index] < search_value:\n",
    "        return binary_search(list_data[center_index+1:], search_value)\n",
    "    elif list_data[center_index] > search_value:\n",
    "        return binary_search(list_data[:center_index], search_value)\n",
    "    else:\n",
    "        return True"
   ]
  },
  {
   "cell_type": "code",
   "execution_count": 36,
   "metadata": {},
   "outputs": [
    {
     "data": {
      "text/plain": [
       "True"
      ]
     },
     "execution_count": 36,
     "metadata": {},
     "output_type": "execute_result"
    }
   ],
   "source": [
    "sample_list = [1, 2, 3, 4, 5, 6, 7]\n",
    "\n",
    "binary_search(sample_list, 2)"
   ]
  },
  {
   "cell_type": "code",
   "execution_count": null,
   "metadata": {},
   "outputs": [],
   "source": []
  }
 ],
 "metadata": {
  "kernelspec": {
   "display_name": "Python 3",
   "language": "python",
   "name": "python3"
  },
  "language_info": {
   "codemirror_mode": {
    "name": "ipython",
    "version": 3
   },
   "file_extension": ".py",
   "mimetype": "text/x-python",
   "name": "python",
   "nbconvert_exporter": "python",
   "pygments_lexer": "ipython3",
   "version": "3.7.5"
  }
 },
 "nbformat": 4,
 "nbformat_minor": 4
}

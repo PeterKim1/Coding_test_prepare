{
 "cells": [
  {
   "cell_type": "code",
   "execution_count": 9,
   "metadata": {},
   "outputs": [],
   "source": [
    "def BS(data_list, find_data):\n",
    "    if len(data_list) == 1 and find_data == data_list[0]:\n",
    "        return True\n",
    "    \n",
    "    if len(data_list) == 1 and find_data != data_list[0]:\n",
    "        return False\n",
    "    \n",
    "    if len(data_list) == 0:\n",
    "        return False\n",
    "    \n",
    "    center = int(len(data_list) / 2)\n",
    "    \n",
    "    if data_list[center] == find_data:\n",
    "        return True\n",
    "    elif data_list[center] < find_data:\n",
    "        return BS(data_list[center+1:], find_data)\n",
    "    else:\n",
    "        return BS(data_list[:center], find_data)"
   ]
  },
  {
   "cell_type": "code",
   "execution_count": 14,
   "metadata": {},
   "outputs": [
    {
     "data": {
      "text/plain": [
       "True"
      ]
     },
     "execution_count": 14,
     "metadata": {},
     "output_type": "execute_result"
    }
   ],
   "source": [
    "data_list = [1, 2, 3, 4, 5]\n",
    "BS(data_list, 3)"
   ]
  },
  {
   "cell_type": "code",
   "execution_count": 5,
   "metadata": {},
   "outputs": [
    {
     "name": "stdout",
     "output_type": "stream",
     "text": [
      "4\n",
      "[5, 6]\n",
      "[1, 2, 3]\n"
     ]
    }
   ],
   "source": [
    "data_list = [1, 2, 3, 4, 5, 6]\n",
    "center = int(len(data_list) / 2)\n",
    "print(data_list[center])\n",
    "print(data_list[center+1:])\n",
    "print(data_list[:center])"
   ]
  },
  {
   "cell_type": "code",
   "execution_count": 6,
   "metadata": {},
   "outputs": [
    {
     "name": "stdout",
     "output_type": "stream",
     "text": [
      "5\n"
     ]
    }
   ],
   "source": [
    "data_list = [4, 5]\n",
    "center = int(len(data_list) / 2)\n",
    "print(data_list[center])"
   ]
  },
  {
   "cell_type": "code",
   "execution_count": 25,
   "metadata": {},
   "outputs": [
    {
     "data": {
      "text/plain": [
       "[1, 2, 3, 4, 5, 9, 43]"
      ]
     },
     "execution_count": 25,
     "metadata": {},
     "output_type": "execute_result"
    }
   ],
   "source": [
    "d_list = [1, 5, 2, 9, 43, 3, 4]\n",
    "d_list.sort()\n",
    "d_list"
   ]
  },
  {
   "cell_type": "code",
   "execution_count": 26,
   "metadata": {},
   "outputs": [],
   "source": [
    "def Binary_search(data, search):\n",
    "    if len(data) == 1 and data[0] == search:\n",
    "        return True\n",
    "    if len(data) == 1 and data[0] != search:\n",
    "        return False\n",
    "    if len(data) == 0:\n",
    "        return False\n",
    "    \n",
    "    center = len(data) // 2\n",
    "    \n",
    "    if data[center] == search:\n",
    "        return True\n",
    "    elif data[center] < search:\n",
    "        return Binary_search(data[center+1:], search)\n",
    "    else:\n",
    "        return Binary_search(data[:center], search)"
   ]
  },
  {
   "cell_type": "code",
   "execution_count": 22,
   "metadata": {},
   "outputs": [
    {
     "data": {
      "text/plain": [
       "False"
      ]
     },
     "execution_count": 22,
     "metadata": {},
     "output_type": "execute_result"
    }
   ],
   "source": [
    "Binary_search([1, 2, 3, 4, 5, 6], 7)"
   ]
  },
  {
   "cell_type": "markdown",
   "metadata": {},
   "source": [
    "## 삽입 정렬 vs 퀵 정렬"
   ]
  },
  {
   "cell_type": "code",
   "execution_count": 32,
   "metadata": {},
   "outputs": [
    {
     "name": "stdout",
     "output_type": "stream",
     "text": [
      "elapsed:  0.02393817901611328\n",
      "insert elapsed:  6.046706914901733\n"
     ]
    }
   ],
   "source": [
    "import random\n",
    "import time\n",
    "data_list = random.sample(range(100000), 10000)\n",
    "\n",
    "# Quick Sort\n",
    "def qsort(data):\n",
    "    if len(data) <= 1:\n",
    "        return data\n",
    "    \n",
    "    pivot = data[0]\n",
    "    left, right = list(), list()\n",
    "    \n",
    "    for i in range(1, len(data)):\n",
    "        if data[i] < pivot:\n",
    "            left.append(data[i])\n",
    "        else:\n",
    "            right.append(data[i])\n",
    "    \n",
    "    return qsort(left) + [pivot] + qsort(right)\n",
    "\n",
    "start = time.time()\n",
    "sorted_data = qsort(data_list)\n",
    "print(\"Quick sort elapsed: \", time.time() - start)\n",
    "\n",
    "# Insertion sort\n",
    "def insert_sort(data):\n",
    "    for index in range(len(data) - 1):\n",
    "        for index2 in range(index + 1, 0, -1):\n",
    "            if data[index2] < data[index2 - 1]:\n",
    "                data[index2], data[index2-1] = data[index2-1], data[index2]\n",
    "            else:\n",
    "                break\n",
    "    return data\n",
    "\n",
    "start2 = time.time()\n",
    "sorted_data_2 = insert_sort(data_list)\n",
    "print(\"Insert sort elapsed: \", time.time() - start2)\n"
   ]
  },
  {
   "cell_type": "code",
   "execution_count": null,
   "metadata": {},
   "outputs": [],
   "source": []
  }
 ],
 "metadata": {
  "kernelspec": {
   "display_name": "Python 3",
   "language": "python",
   "name": "python3"
  },
  "language_info": {
   "codemirror_mode": {
    "name": "ipython",
    "version": 3
   },
   "file_extension": ".py",
   "mimetype": "text/x-python",
   "name": "python",
   "nbconvert_exporter": "python",
   "pygments_lexer": "ipython3",
   "version": "3.7.5"
  }
 },
 "nbformat": 4,
 "nbformat_minor": 4
}
